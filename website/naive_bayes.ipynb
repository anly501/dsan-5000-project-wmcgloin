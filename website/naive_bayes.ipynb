{
 "cells": [
  {
   "cell_type": "markdown",
   "metadata": {},
   "source": [
    "---\n",
    "title: \"Naïve Bayes\"\n",
    "format: html\n",
    "---"
   ]
  },
  {
   "cell_type": "markdown",
   "metadata": {},
   "source": [
    "<b>*Disclaimer - this section is a work in progress</b>\n",
    "<br></br>\n"
   ]
  },
  {
   "cell_type": "markdown",
   "metadata": {},
   "source": [
    "# Introduction to Naive Bayes\n",
    "\n",
    "Naive Bayes, a widely acclaimed machine learning algorithm, harnesses Bayes' Theorem to categorize data into predefined classes or categories. Praised for its simplicity, swift training capabilities, and robust performance, it stands as a foundational tool in data science. At its core, Bayes' Theorem calculates the probability of event A given the occurrence of event B, expressed as:\n",
    "$$P(A|B) = \\frac{P(B|A) \\cdot P(A)}{P(B)}$$\n",
    "Naive Bayes accomplishes classifications by leveraging feature vectors and the principles of Bayes' Theorem to assess values. The 'naive' label in its name stems from its  assumption of independence among predictors, simplifying computational tasks. This algorithm shines in contexts featuring text and categorical data, excelling in applications like spam email identification, sentiment analysis, and document categorization. Despite its seemingly 'naive' premise, Naive Bayes consistently delivers impressive real-world performance, making it a crucial tool for various data science classification tasks.\n",
    "<br></br>\n",
    "Common varients of Naive Bayes include Multinomial, Guassian, and Bernoulli Naive Bayes. Multinomial Naive Bayes is the most common variant as is often used for text classification. Gaussian Naive Bayes is appropriate for continuous numerical data while Bernoulli Naive Bayes is a derivation of Multinomial Naive Bayes that is appropriate for binary or boolean data.\n",
    "<br></br>\n",
    "The purpose of this page is to implement Naïve Bayes classification on a variety of datasets, some of which may be more for suitable than others for this method. This work is a component of my DSAN 5000 class project."
   ]
  },
  {
   "cell_type": "markdown",
   "metadata": {},
   "source": [
    "# Data Preparation\n",
    "\n",
    "Data must initially be prepared to utilize a Naive Bayes model. Although a substantial part of this process has been covered in the data cleaning and exploratory data analysis (EDA) phases, we must still convert all categorical and label columns into factor types. Additionally, data must be split into training and test subsets. In the following code, we will complete the preparation of the 2021-22 NCAA data and text data for modeling."
   ]
  },
  {
   "cell_type": "markdown",
   "metadata": {},
   "source": [
    "### NCAA Data"
   ]
  },
  {
   "cell_type": "code",
   "execution_count": 9,
   "metadata": {},
   "outputs": [],
   "source": [
    "nova2122 <- read.csv('./data/modified_data/nova2122_updated.csv')"
   ]
  },
  {
   "cell_type": "code",
   "execution_count": 10,
   "metadata": {},
   "outputs": [],
   "source": [
    "# Load relevant libraries\n",
    "library(tidyverse)\n",
    "library(caret)"
   ]
  },
  {
   "cell_type": "code",
   "execution_count": 11,
   "metadata": {},
   "outputs": [
    {
     "name": "stdout",
     "output_type": "stream",
     "text": [
      "'data.frame':\t5399 obs. of  15 variables:\n",
      " $ game_id             : int  401365747 401365747 401365747 401365747 401365747 401365747 401365747 401365747 401365747 401365747 ...\n",
      " $ play_id             : int  4 7 11 13 16 18 19 21 23 25 ...\n",
      " $ half                : int  1 1 1 1 1 1 1 1 1 1 ...\n",
      " $ shooter             : chr  \"Justin Moore\" \"Clifton Moore\" \"Clifton Moore\" \"Eric Dixon\" ...\n",
      " $ shot_outcome        : chr  \"missed\" \"missed\" \"missed\" \"missed\" ...\n",
      " $ shooter_team        : chr  \"Villanova\" \"La Salle\" \"La Salle\" \"Villanova\" ...\n",
      " $ shot_outcome_numeric: int  -1 -1 -1 -1 1 1 -1 1 -1 -1 ...\n",
      " $ shot_sequence       : int  -1 -1 -2 -1 1 1 -1 1 -1 -1 ...\n",
      " $ previous_shots      : int  0 0 -1 0 0 -1 0 0 1 0 ...\n",
      " $ lag1                : int  NA NA -1 NA NA -1 NA NA 1 NA ...\n",
      " $ lag2                : int  NA NA NA NA NA NA NA NA NA NA ...\n",
      " $ lag3                : int  NA NA NA NA NA NA NA NA NA NA ...\n",
      " $ lag4                : int  NA NA NA NA NA NA NA NA NA NA ...\n",
      " $ lag5                : int  NA NA NA NA NA NA NA NA NA NA ...\n",
      " $ lag6                : int  NA NA NA NA NA NA NA NA NA NA ...\n"
     ]
    }
   ],
   "source": [
    "str(nova2122)"
   ]
  },
  {
   "cell_type": "code",
   "execution_count": 12,
   "metadata": {},
   "outputs": [],
   "source": [
    "nova2122$lag1 <- as.factor(nova2122$lag1)\n",
    "nova2122$lag2 <- as.factor(nova2122$lag2)\n",
    "nova2122$lag3 <- as.factor(nova2122$lag3)\n",
    "nova2122$lag4 <- as.factor(nova2122$lag4)\n",
    "nova2122$lag5 <- as.factor(nova2122$lag5)\n",
    "nova2122$lag6 <- as.factor(nova2122$lag6)\n",
    "nova2122$shot_outcome_numeric <- as.factor(nova2122$shot_outcome_numeric)"
   ]
  },
  {
   "cell_type": "code",
   "execution_count": 13,
   "metadata": {},
   "outputs": [
    {
     "name": "stdout",
     "output_type": "stream",
     "text": [
      "'data.frame':\t5399 obs. of  15 variables:\n",
      " $ game_id             : int  401365747 401365747 401365747 401365747 401365747 401365747 401365747 401365747 401365747 401365747 ...\n",
      " $ play_id             : int  4 7 11 13 16 18 19 21 23 25 ...\n",
      " $ half                : int  1 1 1 1 1 1 1 1 1 1 ...\n",
      " $ shooter             : chr  \"Justin Moore\" \"Clifton Moore\" \"Clifton Moore\" \"Eric Dixon\" ...\n",
      " $ shot_outcome        : chr  \"missed\" \"missed\" \"missed\" \"missed\" ...\n",
      " $ shooter_team        : chr  \"Villanova\" \"La Salle\" \"La Salle\" \"Villanova\" ...\n",
      " $ shot_outcome_numeric: Factor w/ 2 levels \"-1\",\"1\": 1 1 1 1 2 2 1 2 1 1 ...\n",
      " $ shot_sequence       : int  -1 -1 -2 -1 1 1 -1 1 -1 -1 ...\n",
      " $ previous_shots      : int  0 0 -1 0 0 -1 0 0 1 0 ...\n",
      " $ lag1                : Factor w/ 2 levels \"-1\",\"1\": NA NA 1 NA NA 1 NA NA 2 NA ...\n",
      " $ lag2                : Factor w/ 2 levels \"-1\",\"1\": NA NA NA NA NA NA NA NA NA NA ...\n",
      " $ lag3                : Factor w/ 2 levels \"-1\",\"1\": NA NA NA NA NA NA NA NA NA NA ...\n",
      " $ lag4                : Factor w/ 2 levels \"-1\",\"1\": NA NA NA NA NA NA NA NA NA NA ...\n",
      " $ lag5                : Factor w/ 2 levels \"-1\",\"1\": NA NA NA NA NA NA NA NA NA NA ...\n",
      " $ lag6                : Factor w/ 2 levels \"-1\",\"1\": NA NA NA NA NA NA NA NA NA NA ...\n"
     ]
    }
   ],
   "source": [
    "str(nova2122)"
   ]
  },
  {
   "cell_type": "code",
   "execution_count": 14,
   "metadata": {},
   "outputs": [],
   "source": [
    "# Set a seed for reproducibility\n",
    "set.seed(137)\n",
    "\n",
    "# Create an index for splitting the data (70% for training, 30% for validation)\n",
    "index <- createDataPartition(y = nova2122$shot_outcome_numeric, p = 0.7, list = FALSE)\n",
    "\n",
    "# Create the training and validation subsets\n",
    "training_data <- nova2122[index, ]\n",
    "validation_data <- nova2122[-index, ]\n",
    "\n",
    "write.csv(training_data, file = \"./data/modified_data/nova2122_training.csv\", row.names = FALSE)\n",
    "write.csv(validation_data, file = \"./data/modified_data/nova2122_validation.csv\", row.names = FALSE)"
   ]
  },
  {
   "cell_type": "markdown",
   "metadata": {},
   "source": [
    "### News Data"
   ]
  },
  {
   "cell_type": "code",
   "execution_count": 7,
   "metadata": {},
   "outputs": [],
   "source": [
    "import pandas as pd\n",
    "import numpy as np\n",
    "from sklearn.model_selection import train_test_split\n",
    "\n",
    "newsapi = pd.read_csv('./data/modified_data/news_api_naive.csv')"
   ]
  },
  {
   "cell_type": "code",
   "execution_count": 8,
   "metadata": {},
   "outputs": [
    {
     "data": {
      "text/html": [
       "<div>\n",
       "<style scoped>\n",
       "    .dataframe tbody tr th:only-of-type {\n",
       "        vertical-align: middle;\n",
       "    }\n",
       "\n",
       "    .dataframe tbody tr th {\n",
       "        vertical-align: top;\n",
       "    }\n",
       "\n",
       "    .dataframe thead th {\n",
       "        text-align: right;\n",
       "    }\n",
       "</style>\n",
       "<table border=\"1\" class=\"dataframe\">\n",
       "  <thead>\n",
       "    <tr style=\"text-align: right;\">\n",
       "      <th></th>\n",
       "      <th>Title</th>\n",
       "      <th>Description</th>\n",
       "      <th>Sentiment Label</th>\n",
       "      <th>cleaned_text</th>\n",
       "    </tr>\n",
       "  </thead>\n",
       "  <tbody>\n",
       "    <tr>\n",
       "      <th>0</th>\n",
       "      <td>how to watch jack catterall vs jorge linares l...</td>\n",
       "      <td>jack catterall hopes to add a win to his resum...</td>\n",
       "      <td>positive</td>\n",
       "      <td>jack catterall hope add win resume redeem loss...</td>\n",
       "    </tr>\n",
       "    <tr>\n",
       "      <th>1</th>\n",
       "      <td>jaguars vs steelers livestream: how to watch n...</td>\n",
       "      <td>jacksonville look to make it five wins in a ro...</td>\n",
       "      <td>positive</td>\n",
       "      <td>jacksonville look make five win row head pitts...</td>\n",
       "    </tr>\n",
       "    <tr>\n",
       "      <th>2</th>\n",
       "      <td>vikings vs packers livestream: how to watch nf...</td>\n",
       "      <td>want to watch the minnesota vikings play the g...</td>\n",
       "      <td>positive</td>\n",
       "      <td>want watch minnesota viking play green bay pac...</td>\n",
       "    </tr>\n",
       "    <tr>\n",
       "      <th>3</th>\n",
       "      <td>dolphins' chase claypool says there was 'frust...</td>\n",
       "      <td>after being traded from the 1-4 chicago bears ...</td>\n",
       "      <td>negative</td>\n",
       "      <td>traded chicago bear miami dolphin last friday ...</td>\n",
       "    </tr>\n",
       "    <tr>\n",
       "      <th>4</th>\n",
       "      <td>seahawks vs bengals livestream: how to watch n...</td>\n",
       "      <td>two of the nfl's most potent offenses clash in...</td>\n",
       "      <td>negative</td>\n",
       "      <td>two nfl potent offense clash cincinnati</td>\n",
       "    </tr>\n",
       "  </tbody>\n",
       "</table>\n",
       "</div>"
      ],
      "text/plain": [
       "                                               Title  \\\n",
       "0  how to watch jack catterall vs jorge linares l...   \n",
       "1  jaguars vs steelers livestream: how to watch n...   \n",
       "2  vikings vs packers livestream: how to watch nf...   \n",
       "3  dolphins' chase claypool says there was 'frust...   \n",
       "4  seahawks vs bengals livestream: how to watch n...   \n",
       "\n",
       "                                         Description Sentiment Label  \\\n",
       "0  jack catterall hopes to add a win to his resum...        positive   \n",
       "1  jacksonville look to make it five wins in a ro...        positive   \n",
       "2  want to watch the minnesota vikings play the g...        positive   \n",
       "3  after being traded from the 1-4 chicago bears ...        negative   \n",
       "4  two of the nfl's most potent offenses clash in...        negative   \n",
       "\n",
       "                                        cleaned_text  \n",
       "0  jack catterall hope add win resume redeem loss...  \n",
       "1  jacksonville look make five win row head pitts...  \n",
       "2  want watch minnesota viking play green bay pac...  \n",
       "3  traded chicago bear miami dolphin last friday ...  \n",
       "4            two nfl potent offense clash cincinnati  "
      ]
     },
     "execution_count": 8,
     "metadata": {},
     "output_type": "execute_result"
    }
   ],
   "source": [
    "newsapi.head()"
   ]
  },
  {
   "cell_type": "code",
   "execution_count": 16,
   "metadata": {},
   "outputs": [
    {
     "data": {
      "text/html": [
       "<div>\n",
       "<style scoped>\n",
       "    .dataframe tbody tr th:only-of-type {\n",
       "        vertical-align: middle;\n",
       "    }\n",
       "\n",
       "    .dataframe tbody tr th {\n",
       "        vertical-align: top;\n",
       "    }\n",
       "\n",
       "    .dataframe thead th {\n",
       "        text-align: right;\n",
       "    }\n",
       "</style>\n",
       "<table border=\"1\" class=\"dataframe\">\n",
       "  <thead>\n",
       "    <tr style=\"text-align: right;\">\n",
       "      <th></th>\n",
       "      <th>Sentiment Label</th>\n",
       "      <th>cleaned_text</th>\n",
       "    </tr>\n",
       "  </thead>\n",
       "  <tbody>\n",
       "    <tr>\n",
       "      <th>69</th>\n",
       "      <td>neutral</td>\n",
       "      <td>cbs sport network weekly coverage season keep ...</td>\n",
       "    </tr>\n",
       "    <tr>\n",
       "      <th>85</th>\n",
       "      <td>negative</td>\n",
       "      <td>minnesota twin lost straight postseason game t...</td>\n",
       "    </tr>\n",
       "    <tr>\n",
       "      <th>97</th>\n",
       "      <td>negative</td>\n",
       "      <td>penn state spread season surprise many two les...</td>\n",
       "    </tr>\n",
       "    <tr>\n",
       "      <th>38</th>\n",
       "      <td>positive</td>\n",
       "      <td>round scottish woman premier league celtic ran...</td>\n",
       "    </tr>\n",
       "    <tr>\n",
       "      <th>2</th>\n",
       "      <td>positive</td>\n",
       "      <td>want watch minnesota viking play green bay pac...</td>\n",
       "    </tr>\n",
       "  </tbody>\n",
       "</table>\n",
       "</div>"
      ],
      "text/plain": [
       "   Sentiment Label                                       cleaned_text\n",
       "69         neutral  cbs sport network weekly coverage season keep ...\n",
       "85        negative  minnesota twin lost straight postseason game t...\n",
       "97        negative  penn state spread season surprise many two les...\n",
       "38        positive  round scottish woman premier league celtic ran...\n",
       "2         positive  want watch minnesota viking play green bay pac..."
      ]
     },
     "execution_count": 16,
     "metadata": {},
     "output_type": "execute_result"
    }
   ],
   "source": [
    "# Make \"Sentiment Label\" a categorical variable\n",
    "newsapi['Sentiment Label'] = newsapi['Sentiment Label'].astype('category')\n",
    "\n",
    "# Remove rows with missing data\n",
    "newsapi.dropna(inplace=True)\n",
    "\n",
    "# Remove unnecessary columns\n",
    "newsapi = newsapi[['Sentiment Label', 'cleaned_text']]\n",
    "\n",
    "# Split the data into training, test, and validation subsets\n",
    "train_data, test_data = train_test_split(newsapi, test_size=0.2, random_state=42)\n",
    "train_data, val_data = train_test_split(train_data, test_size=0.1, random_state=42)\n",
    "\n",
    "train_data.head()"
   ]
  },
  {
   "cell_type": "markdown",
   "metadata": {},
   "source": [
    "# Feature Selection"
   ]
  },
  {
   "cell_type": "code",
   "execution_count": 1,
   "metadata": {},
   "outputs": [],
   "source": [
    "import numpy as np \n",
    "import seaborn as sns\n",
    "import pandas as pd\n",
    "import matplotlib.pyplot as plt\n",
    "import scipy\n",
    "import sklearn \n",
    "import itertools\n",
    "from scipy.stats import spearmanr"
   ]
  },
  {
   "cell_type": "code",
   "execution_count": 61,
   "metadata": {},
   "outputs": [],
   "source": [
    "def merit(x, y, correlation='pearson'):\n",
    "    k = x.shape[1]\n",
    "    \n",
    "    if correlation == 'pearson':\n",
    "        rho_xx = np.mean(np.corrcoef(x, x, rowvar = False))\n",
    "        rho_xy = np.mean(np.corrcoef(x, y, rowvar = False))\n",
    "    elif correlation == 'spearman':\n",
    "        rho_xx = np.mean(spearmanr(x, x, axis = 0)[0])\n",
    "        rho_xy = np.mean(spearmanr(x, y, axis = 0)[0])\n",
    "    else:\n",
    "        raise ValueError(\"Error: Unsupported Correlation Method. Try Again.\")\n",
    "    \n",
    "    merit_numerator = k * np.absolute(rho_xy)\n",
    "    merit_denominator = np.sqrt(k + k * (k - 1) * np.absolute(rho_xx))\n",
    "    merit_score = merit_numerator / merit_denominator\n",
    "    \n",
    "    return merit_score\n",
    "\n",
    "\n",
    "def maximize_CFS(x, y):\n",
    "    num_features = x.shape[1]\n",
    "    max_merit = 0\n",
    "    optimal_subset = None\n",
    "    list1 = [*range(0, num_features)]\n",
    "    for L in range(1, len(list1) + 1):\n",
    "        print(L/(len(list1)+1))\n",
    "        for subset in itertools.combinations(list1, L):\n",
    "            x_subset = x[:, list(subset)]\n",
    "            subset_merit = merit(x_subset, y)\n",
    "            if subset_merit > max_merit:\n",
    "                max_merit = subset_merit\n",
    "                optimal_subset = list(subset)\n",
    "    return optimal_subset  # Return the indices of selected features"
   ]
  },
  {
   "cell_type": "markdown",
   "metadata": {},
   "source": [
    "### NCAA Data"
   ]
  },
  {
   "cell_type": "code",
   "execution_count": 52,
   "metadata": {},
   "outputs": [
    {
     "name": "stdout",
     "output_type": "stream",
     "text": [
      "[0]\n"
     ]
    }
   ],
   "source": [
    "training = pd.read_csv('./data/modified_data/nova2122_training.csv')\n",
    "validation = pd.read_csv('./data/modified_data/nova2122_validation.csv')\n",
    "\n",
    "# Convert DataFrames to numpy arrays\n",
    "x = training[['lag1', 'lag2', 'lag3']].values\n",
    "x = np.nan_to_num(x, nan=0)\n",
    "y = training[['shot_outcome_numeric']].values\n",
    "\n",
    "selected_indices = maximize_CFS(x, y)\n",
    "print(selected_indices)"
   ]
  },
  {
   "cell_type": "code",
   "execution_count": 4,
   "metadata": {},
   "outputs": [
    {
     "data": {
      "text/plain": [
       "0.3818269784940867"
      ]
     },
     "execution_count": 4,
     "metadata": {},
     "output_type": "execute_result"
    }
   ],
   "source": [
    "z = training['lag1'].values\n",
    "z = np.nan_to_num(x, nan=0)\n",
    "\n",
    "merit(z,y)"
   ]
  },
  {
   "cell_type": "markdown",
   "metadata": {},
   "source": [
    "An output of [0] in the above code indicates that, according to the Correlation-based Feature Selection (CFS) algorithm, the optimal subset comprises only the 'lag1' feature. This suggests that, under the criteria applied, 'lag1' provides the most valuable information for classifying the 'shot_outcome_numeric' variable.\n",
    "\n",
    "'lag2' and 'lag3' are considered less informative for predicting 'shot_outcome_numeric' using this particular feature selection approach and correlation-based merit score.\n",
    "\n",
    "Additionally, a merit score of 0.3818 indicates a moderate positive correlation between the 'lag1' feature and 'shot_outcome_numeric,' suggesting that 'lag1' contains relevant information for predicting the target variable."
   ]
  },
  {
   "cell_type": "markdown",
   "metadata": {},
   "source": [
    "### News Data"
   ]
  },
  {
   "cell_type": "code",
   "execution_count": 30,
   "metadata": {},
   "outputs": [],
   "source": [
    "import numpy as np\n",
    "from sklearn.feature_extraction.text import CountVectorizer\n",
    "\n",
    "# Define your features (X) and target variable (y)\n",
    "X_train = train_data['cleaned_text'].tolist()\n",
    "y_train = train_data['Sentiment Label']"
   ]
  },
  {
   "cell_type": "code",
   "execution_count": 96,
   "metadata": {},
   "outputs": [
    {
     "data": {
      "text/html": [
       "<div>\n",
       "<style scoped>\n",
       "    .dataframe tbody tr th:only-of-type {\n",
       "        vertical-align: middle;\n",
       "    }\n",
       "\n",
       "    .dataframe tbody tr th {\n",
       "        vertical-align: top;\n",
       "    }\n",
       "\n",
       "    .dataframe thead th {\n",
       "        text-align: right;\n",
       "    }\n",
       "</style>\n",
       "<table border=\"1\" class=\"dataframe\">\n",
       "  <thead>\n",
       "    <tr style=\"text-align: right;\">\n",
       "      <th></th>\n",
       "      <th>0</th>\n",
       "      <th>1</th>\n",
       "      <th>2</th>\n",
       "      <th>3</th>\n",
       "      <th>4</th>\n",
       "      <th>5</th>\n",
       "      <th>6</th>\n",
       "      <th>7</th>\n",
       "      <th>8</th>\n",
       "      <th>9</th>\n",
       "      <th>...</th>\n",
       "      <th>615</th>\n",
       "      <th>616</th>\n",
       "      <th>617</th>\n",
       "      <th>618</th>\n",
       "      <th>619</th>\n",
       "      <th>620</th>\n",
       "      <th>621</th>\n",
       "      <th>622</th>\n",
       "      <th>623</th>\n",
       "      <th>624</th>\n",
       "    </tr>\n",
       "  </thead>\n",
       "  <tbody>\n",
       "    <tr>\n",
       "      <th>count</th>\n",
       "      <td>72.000000</td>\n",
       "      <td>72.000000</td>\n",
       "      <td>72.000000</td>\n",
       "      <td>72.000000</td>\n",
       "      <td>72.000000</td>\n",
       "      <td>72.000000</td>\n",
       "      <td>72.000000</td>\n",
       "      <td>72.000000</td>\n",
       "      <td>72.000000</td>\n",
       "      <td>72.000000</td>\n",
       "      <td>...</td>\n",
       "      <td>72.000000</td>\n",
       "      <td>72.000000</td>\n",
       "      <td>72.000000</td>\n",
       "      <td>72.000000</td>\n",
       "      <td>72.000000</td>\n",
       "      <td>72.000000</td>\n",
       "      <td>72.000000</td>\n",
       "      <td>72.000000</td>\n",
       "      <td>72.000000</td>\n",
       "      <td>72.000000</td>\n",
       "    </tr>\n",
       "    <tr>\n",
       "      <th>mean</th>\n",
       "      <td>0.013889</td>\n",
       "      <td>0.013889</td>\n",
       "      <td>0.013889</td>\n",
       "      <td>0.013889</td>\n",
       "      <td>0.041667</td>\n",
       "      <td>0.013889</td>\n",
       "      <td>0.013889</td>\n",
       "      <td>0.013889</td>\n",
       "      <td>0.013889</td>\n",
       "      <td>0.013889</td>\n",
       "      <td>...</td>\n",
       "      <td>0.013889</td>\n",
       "      <td>0.013889</td>\n",
       "      <td>0.013889</td>\n",
       "      <td>0.027778</td>\n",
       "      <td>0.097222</td>\n",
       "      <td>0.013889</td>\n",
       "      <td>0.055556</td>\n",
       "      <td>0.027778</td>\n",
       "      <td>0.041667</td>\n",
       "      <td>0.013889</td>\n",
       "    </tr>\n",
       "    <tr>\n",
       "      <th>std</th>\n",
       "      <td>0.117851</td>\n",
       "      <td>0.117851</td>\n",
       "      <td>0.117851</td>\n",
       "      <td>0.117851</td>\n",
       "      <td>0.201229</td>\n",
       "      <td>0.117851</td>\n",
       "      <td>0.117851</td>\n",
       "      <td>0.117851</td>\n",
       "      <td>0.117851</td>\n",
       "      <td>0.117851</td>\n",
       "      <td>...</td>\n",
       "      <td>0.117851</td>\n",
       "      <td>0.117851</td>\n",
       "      <td>0.117851</td>\n",
       "      <td>0.165489</td>\n",
       "      <td>0.298339</td>\n",
       "      <td>0.117851</td>\n",
       "      <td>0.230669</td>\n",
       "      <td>0.165489</td>\n",
       "      <td>0.201229</td>\n",
       "      <td>0.117851</td>\n",
       "    </tr>\n",
       "    <tr>\n",
       "      <th>min</th>\n",
       "      <td>0.000000</td>\n",
       "      <td>0.000000</td>\n",
       "      <td>0.000000</td>\n",
       "      <td>0.000000</td>\n",
       "      <td>0.000000</td>\n",
       "      <td>0.000000</td>\n",
       "      <td>0.000000</td>\n",
       "      <td>0.000000</td>\n",
       "      <td>0.000000</td>\n",
       "      <td>0.000000</td>\n",
       "      <td>...</td>\n",
       "      <td>0.000000</td>\n",
       "      <td>0.000000</td>\n",
       "      <td>0.000000</td>\n",
       "      <td>0.000000</td>\n",
       "      <td>0.000000</td>\n",
       "      <td>0.000000</td>\n",
       "      <td>0.000000</td>\n",
       "      <td>0.000000</td>\n",
       "      <td>0.000000</td>\n",
       "      <td>0.000000</td>\n",
       "    </tr>\n",
       "    <tr>\n",
       "      <th>25%</th>\n",
       "      <td>0.000000</td>\n",
       "      <td>0.000000</td>\n",
       "      <td>0.000000</td>\n",
       "      <td>0.000000</td>\n",
       "      <td>0.000000</td>\n",
       "      <td>0.000000</td>\n",
       "      <td>0.000000</td>\n",
       "      <td>0.000000</td>\n",
       "      <td>0.000000</td>\n",
       "      <td>0.000000</td>\n",
       "      <td>...</td>\n",
       "      <td>0.000000</td>\n",
       "      <td>0.000000</td>\n",
       "      <td>0.000000</td>\n",
       "      <td>0.000000</td>\n",
       "      <td>0.000000</td>\n",
       "      <td>0.000000</td>\n",
       "      <td>0.000000</td>\n",
       "      <td>0.000000</td>\n",
       "      <td>0.000000</td>\n",
       "      <td>0.000000</td>\n",
       "    </tr>\n",
       "    <tr>\n",
       "      <th>50%</th>\n",
       "      <td>0.000000</td>\n",
       "      <td>0.000000</td>\n",
       "      <td>0.000000</td>\n",
       "      <td>0.000000</td>\n",
       "      <td>0.000000</td>\n",
       "      <td>0.000000</td>\n",
       "      <td>0.000000</td>\n",
       "      <td>0.000000</td>\n",
       "      <td>0.000000</td>\n",
       "      <td>0.000000</td>\n",
       "      <td>...</td>\n",
       "      <td>0.000000</td>\n",
       "      <td>0.000000</td>\n",
       "      <td>0.000000</td>\n",
       "      <td>0.000000</td>\n",
       "      <td>0.000000</td>\n",
       "      <td>0.000000</td>\n",
       "      <td>0.000000</td>\n",
       "      <td>0.000000</td>\n",
       "      <td>0.000000</td>\n",
       "      <td>0.000000</td>\n",
       "    </tr>\n",
       "    <tr>\n",
       "      <th>75%</th>\n",
       "      <td>0.000000</td>\n",
       "      <td>0.000000</td>\n",
       "      <td>0.000000</td>\n",
       "      <td>0.000000</td>\n",
       "      <td>0.000000</td>\n",
       "      <td>0.000000</td>\n",
       "      <td>0.000000</td>\n",
       "      <td>0.000000</td>\n",
       "      <td>0.000000</td>\n",
       "      <td>0.000000</td>\n",
       "      <td>...</td>\n",
       "      <td>0.000000</td>\n",
       "      <td>0.000000</td>\n",
       "      <td>0.000000</td>\n",
       "      <td>0.000000</td>\n",
       "      <td>0.000000</td>\n",
       "      <td>0.000000</td>\n",
       "      <td>0.000000</td>\n",
       "      <td>0.000000</td>\n",
       "      <td>0.000000</td>\n",
       "      <td>0.000000</td>\n",
       "    </tr>\n",
       "    <tr>\n",
       "      <th>max</th>\n",
       "      <td>1.000000</td>\n",
       "      <td>1.000000</td>\n",
       "      <td>1.000000</td>\n",
       "      <td>1.000000</td>\n",
       "      <td>1.000000</td>\n",
       "      <td>1.000000</td>\n",
       "      <td>1.000000</td>\n",
       "      <td>1.000000</td>\n",
       "      <td>1.000000</td>\n",
       "      <td>1.000000</td>\n",
       "      <td>...</td>\n",
       "      <td>1.000000</td>\n",
       "      <td>1.000000</td>\n",
       "      <td>1.000000</td>\n",
       "      <td>1.000000</td>\n",
       "      <td>1.000000</td>\n",
       "      <td>1.000000</td>\n",
       "      <td>1.000000</td>\n",
       "      <td>1.000000</td>\n",
       "      <td>1.000000</td>\n",
       "      <td>1.000000</td>\n",
       "    </tr>\n",
       "  </tbody>\n",
       "</table>\n",
       "<p>8 rows × 625 columns</p>\n",
       "</div>"
      ],
      "text/plain": [
       "             0          1          2          3          4          5    \\\n",
       "count  72.000000  72.000000  72.000000  72.000000  72.000000  72.000000   \n",
       "mean    0.013889   0.013889   0.013889   0.013889   0.041667   0.013889   \n",
       "std     0.117851   0.117851   0.117851   0.117851   0.201229   0.117851   \n",
       "min     0.000000   0.000000   0.000000   0.000000   0.000000   0.000000   \n",
       "25%     0.000000   0.000000   0.000000   0.000000   0.000000   0.000000   \n",
       "50%     0.000000   0.000000   0.000000   0.000000   0.000000   0.000000   \n",
       "75%     0.000000   0.000000   0.000000   0.000000   0.000000   0.000000   \n",
       "max     1.000000   1.000000   1.000000   1.000000   1.000000   1.000000   \n",
       "\n",
       "             6          7          8          9    ...        615        616  \\\n",
       "count  72.000000  72.000000  72.000000  72.000000  ...  72.000000  72.000000   \n",
       "mean    0.013889   0.013889   0.013889   0.013889  ...   0.013889   0.013889   \n",
       "std     0.117851   0.117851   0.117851   0.117851  ...   0.117851   0.117851   \n",
       "min     0.000000   0.000000   0.000000   0.000000  ...   0.000000   0.000000   \n",
       "25%     0.000000   0.000000   0.000000   0.000000  ...   0.000000   0.000000   \n",
       "50%     0.000000   0.000000   0.000000   0.000000  ...   0.000000   0.000000   \n",
       "75%     0.000000   0.000000   0.000000   0.000000  ...   0.000000   0.000000   \n",
       "max     1.000000   1.000000   1.000000   1.000000  ...   1.000000   1.000000   \n",
       "\n",
       "             617        618        619        620        621        622  \\\n",
       "count  72.000000  72.000000  72.000000  72.000000  72.000000  72.000000   \n",
       "mean    0.013889   0.027778   0.097222   0.013889   0.055556   0.027778   \n",
       "std     0.117851   0.165489   0.298339   0.117851   0.230669   0.165489   \n",
       "min     0.000000   0.000000   0.000000   0.000000   0.000000   0.000000   \n",
       "25%     0.000000   0.000000   0.000000   0.000000   0.000000   0.000000   \n",
       "50%     0.000000   0.000000   0.000000   0.000000   0.000000   0.000000   \n",
       "75%     0.000000   0.000000   0.000000   0.000000   0.000000   0.000000   \n",
       "max     1.000000   1.000000   1.000000   1.000000   1.000000   1.000000   \n",
       "\n",
       "             623        624  \n",
       "count  72.000000  72.000000  \n",
       "mean    0.041667   0.013889  \n",
       "std     0.201229   0.117851  \n",
       "min     0.000000   0.000000  \n",
       "25%     0.000000   0.000000  \n",
       "50%     0.000000   0.000000  \n",
       "75%     0.000000   0.000000  \n",
       "max     1.000000   1.000000  \n",
       "\n",
       "[8 rows x 625 columns]"
      ]
     },
     "execution_count": 96,
     "metadata": {},
     "output_type": "execute_result"
    }
   ],
   "source": [
    "from sklearn.feature_extraction.text import CountVectorizer\n",
    "from sklearn.naive_bayes import MultinomialNB\n",
    "from sklearn.metrics import accuracy_score\n",
    "\n",
    "# Initialize the CountVectorizer\n",
    "vectorizer = CountVectorizer()\n",
    "\n",
    "# Fit and transform the text data\n",
    "X_train_vectorized = vectorizer.fit_transform(X_train)\n",
    "\n",
    "# Convert text data to numerical features using CountVectorizer\n",
    "vectorizer = CountVectorizer()\n",
    "X_train_vectorized = vectorizer.fit_transform(X_train)\n",
    "\n",
    "df = pd.DataFrame(X_train_vectorized.toarray())\n",
    "df.describe()"
   ]
  },
  {
   "cell_type": "code",
   "execution_count": 59,
   "metadata": {},
   "outputs": [
    {
     "data": {
      "text/plain": [
       "69    0\n",
       "85   -1\n",
       "97   -1\n",
       "38    1\n",
       "2     1\n",
       "Name: Sentiment Label, dtype: category\n",
       "Categories (3, int64): [-1, 0, 1]"
      ]
     },
     "execution_count": 59,
     "metadata": {},
     "output_type": "execute_result"
    }
   ],
   "source": [
    "# Define a dictionary to map labels to numeric values\n",
    "label_mapping = {'neutral': 0, 'negative': -1, 'positive': 1}\n",
    "\n",
    "# Assuming you have a DataFrame 'df' and a column 'Sentiment Label' that you want to map\n",
    "y_train = y_train.map(label_mapping)\n",
    "\n",
    "y_train.head()"
   ]
  },
  {
   "cell_type": "code",
   "execution_count": 86,
   "metadata": {},
   "outputs": [
    {
     "data": {
      "text/html": [
       "<div>\n",
       "<style scoped>\n",
       "    .dataframe tbody tr th:only-of-type {\n",
       "        vertical-align: middle;\n",
       "    }\n",
       "\n",
       "    .dataframe tbody tr th {\n",
       "        vertical-align: top;\n",
       "    }\n",
       "\n",
       "    .dataframe thead th {\n",
       "        text-align: right;\n",
       "    }\n",
       "</style>\n",
       "<table border=\"1\" class=\"dataframe\">\n",
       "  <thead>\n",
       "    <tr style=\"text-align: right;\">\n",
       "      <th></th>\n",
       "      <th>0</th>\n",
       "      <th>1</th>\n",
       "      <th>2</th>\n",
       "      <th>3</th>\n",
       "      <th>4</th>\n",
       "      <th>5</th>\n",
       "      <th>6</th>\n",
       "      <th>7</th>\n",
       "      <th>8</th>\n",
       "      <th>9</th>\n",
       "      <th>...</th>\n",
       "      <th>615</th>\n",
       "      <th>616</th>\n",
       "      <th>617</th>\n",
       "      <th>618</th>\n",
       "      <th>619</th>\n",
       "      <th>620</th>\n",
       "      <th>621</th>\n",
       "      <th>622</th>\n",
       "      <th>623</th>\n",
       "      <th>624</th>\n",
       "    </tr>\n",
       "  </thead>\n",
       "  <tbody>\n",
       "    <tr>\n",
       "      <th>0</th>\n",
       "      <td>0</td>\n",
       "      <td>0</td>\n",
       "      <td>0</td>\n",
       "      <td>0</td>\n",
       "      <td>0</td>\n",
       "      <td>0</td>\n",
       "      <td>0</td>\n",
       "      <td>0</td>\n",
       "      <td>0</td>\n",
       "      <td>0</td>\n",
       "      <td>...</td>\n",
       "      <td>0</td>\n",
       "      <td>0</td>\n",
       "      <td>0</td>\n",
       "      <td>0</td>\n",
       "      <td>0</td>\n",
       "      <td>0</td>\n",
       "      <td>0</td>\n",
       "      <td>0</td>\n",
       "      <td>0</td>\n",
       "      <td>0</td>\n",
       "    </tr>\n",
       "    <tr>\n",
       "      <th>1</th>\n",
       "      <td>0</td>\n",
       "      <td>0</td>\n",
       "      <td>0</td>\n",
       "      <td>0</td>\n",
       "      <td>0</td>\n",
       "      <td>0</td>\n",
       "      <td>0</td>\n",
       "      <td>0</td>\n",
       "      <td>0</td>\n",
       "      <td>0</td>\n",
       "      <td>...</td>\n",
       "      <td>0</td>\n",
       "      <td>0</td>\n",
       "      <td>0</td>\n",
       "      <td>0</td>\n",
       "      <td>0</td>\n",
       "      <td>0</td>\n",
       "      <td>0</td>\n",
       "      <td>0</td>\n",
       "      <td>0</td>\n",
       "      <td>0</td>\n",
       "    </tr>\n",
       "    <tr>\n",
       "      <th>2</th>\n",
       "      <td>0</td>\n",
       "      <td>0</td>\n",
       "      <td>0</td>\n",
       "      <td>0</td>\n",
       "      <td>0</td>\n",
       "      <td>0</td>\n",
       "      <td>0</td>\n",
       "      <td>0</td>\n",
       "      <td>0</td>\n",
       "      <td>0</td>\n",
       "      <td>...</td>\n",
       "      <td>0</td>\n",
       "      <td>0</td>\n",
       "      <td>0</td>\n",
       "      <td>0</td>\n",
       "      <td>0</td>\n",
       "      <td>0</td>\n",
       "      <td>0</td>\n",
       "      <td>0</td>\n",
       "      <td>0</td>\n",
       "      <td>0</td>\n",
       "    </tr>\n",
       "    <tr>\n",
       "      <th>3</th>\n",
       "      <td>0</td>\n",
       "      <td>0</td>\n",
       "      <td>0</td>\n",
       "      <td>0</td>\n",
       "      <td>0</td>\n",
       "      <td>0</td>\n",
       "      <td>0</td>\n",
       "      <td>0</td>\n",
       "      <td>0</td>\n",
       "      <td>0</td>\n",
       "      <td>...</td>\n",
       "      <td>0</td>\n",
       "      <td>1</td>\n",
       "      <td>0</td>\n",
       "      <td>0</td>\n",
       "      <td>0</td>\n",
       "      <td>0</td>\n",
       "      <td>0</td>\n",
       "      <td>0</td>\n",
       "      <td>0</td>\n",
       "      <td>0</td>\n",
       "    </tr>\n",
       "    <tr>\n",
       "      <th>4</th>\n",
       "      <td>0</td>\n",
       "      <td>0</td>\n",
       "      <td>0</td>\n",
       "      <td>0</td>\n",
       "      <td>0</td>\n",
       "      <td>0</td>\n",
       "      <td>0</td>\n",
       "      <td>0</td>\n",
       "      <td>0</td>\n",
       "      <td>0</td>\n",
       "      <td>...</td>\n",
       "      <td>0</td>\n",
       "      <td>0</td>\n",
       "      <td>0</td>\n",
       "      <td>0</td>\n",
       "      <td>0</td>\n",
       "      <td>0</td>\n",
       "      <td>0</td>\n",
       "      <td>0</td>\n",
       "      <td>0</td>\n",
       "      <td>0</td>\n",
       "    </tr>\n",
       "  </tbody>\n",
       "</table>\n",
       "<p>5 rows × 625 columns</p>\n",
       "</div>"
      ],
      "text/plain": [
       "   0    1    2    3    4    5    6    7    8    9    ...  615  616  617  618  \\\n",
       "0    0    0    0    0    0    0    0    0    0    0  ...    0    0    0    0   \n",
       "1    0    0    0    0    0    0    0    0    0    0  ...    0    0    0    0   \n",
       "2    0    0    0    0    0    0    0    0    0    0  ...    0    0    0    0   \n",
       "3    0    0    0    0    0    0    0    0    0    0  ...    0    1    0    0   \n",
       "4    0    0    0    0    0    0    0    0    0    0  ...    0    0    0    0   \n",
       "\n",
       "   619  620  621  622  623  624  \n",
       "0    0    0    0    0    0    0  \n",
       "1    0    0    0    0    0    0  \n",
       "2    0    0    0    0    0    0  \n",
       "3    0    0    0    0    0    0  \n",
       "4    0    0    0    0    0    0  \n",
       "\n",
       "[5 rows x 625 columns]"
      ]
     },
     "execution_count": 86,
     "metadata": {},
     "output_type": "execute_result"
    }
   ],
   "source": [
    "df.head()"
   ]
  },
  {
   "cell_type": "code",
   "execution_count": 87,
   "metadata": {},
   "outputs": [
    {
     "data": {
      "text/html": [
       "<div>\n",
       "<style scoped>\n",
       "    .dataframe tbody tr th:only-of-type {\n",
       "        vertical-align: middle;\n",
       "    }\n",
       "\n",
       "    .dataframe tbody tr th {\n",
       "        vertical-align: top;\n",
       "    }\n",
       "\n",
       "    .dataframe thead th {\n",
       "        text-align: right;\n",
       "    }\n",
       "</style>\n",
       "<table border=\"1\" class=\"dataframe\">\n",
       "  <thead>\n",
       "    <tr style=\"text-align: right;\">\n",
       "      <th></th>\n",
       "      <th>80</th>\n",
       "      <th>182</th>\n",
       "      <th>201</th>\n",
       "      <th>235</th>\n",
       "      <th>267</th>\n",
       "      <th>280</th>\n",
       "      <th>302</th>\n",
       "      <th>322</th>\n",
       "      <th>355</th>\n",
       "      <th>359</th>\n",
       "      <th>474</th>\n",
       "      <th>503</th>\n",
       "      <th>519</th>\n",
       "      <th>527</th>\n",
       "      <th>542</th>\n",
       "      <th>551</th>\n",
       "      <th>601</th>\n",
       "      <th>610</th>\n",
       "      <th>619</th>\n",
       "    </tr>\n",
       "  </thead>\n",
       "  <tbody>\n",
       "    <tr>\n",
       "      <th>0</th>\n",
       "      <td>1</td>\n",
       "      <td>0</td>\n",
       "      <td>0</td>\n",
       "      <td>0</td>\n",
       "      <td>1</td>\n",
       "      <td>0</td>\n",
       "      <td>0</td>\n",
       "      <td>0</td>\n",
       "      <td>1</td>\n",
       "      <td>0</td>\n",
       "      <td>1</td>\n",
       "      <td>1</td>\n",
       "      <td>0</td>\n",
       "      <td>0</td>\n",
       "      <td>0</td>\n",
       "      <td>0</td>\n",
       "      <td>0</td>\n",
       "      <td>0</td>\n",
       "      <td>0</td>\n",
       "    </tr>\n",
       "    <tr>\n",
       "      <th>1</th>\n",
       "      <td>0</td>\n",
       "      <td>0</td>\n",
       "      <td>1</td>\n",
       "      <td>0</td>\n",
       "      <td>0</td>\n",
       "      <td>0</td>\n",
       "      <td>0</td>\n",
       "      <td>0</td>\n",
       "      <td>0</td>\n",
       "      <td>0</td>\n",
       "      <td>0</td>\n",
       "      <td>0</td>\n",
       "      <td>0</td>\n",
       "      <td>0</td>\n",
       "      <td>1</td>\n",
       "      <td>0</td>\n",
       "      <td>0</td>\n",
       "      <td>0</td>\n",
       "      <td>0</td>\n",
       "    </tr>\n",
       "    <tr>\n",
       "      <th>2</th>\n",
       "      <td>0</td>\n",
       "      <td>0</td>\n",
       "      <td>0</td>\n",
       "      <td>0</td>\n",
       "      <td>0</td>\n",
       "      <td>0</td>\n",
       "      <td>0</td>\n",
       "      <td>0</td>\n",
       "      <td>0</td>\n",
       "      <td>0</td>\n",
       "      <td>1</td>\n",
       "      <td>0</td>\n",
       "      <td>0</td>\n",
       "      <td>0</td>\n",
       "      <td>1</td>\n",
       "      <td>0</td>\n",
       "      <td>0</td>\n",
       "      <td>0</td>\n",
       "      <td>0</td>\n",
       "    </tr>\n",
       "    <tr>\n",
       "      <th>3</th>\n",
       "      <td>0</td>\n",
       "      <td>0</td>\n",
       "      <td>0</td>\n",
       "      <td>0</td>\n",
       "      <td>0</td>\n",
       "      <td>1</td>\n",
       "      <td>0</td>\n",
       "      <td>0</td>\n",
       "      <td>0</td>\n",
       "      <td>0</td>\n",
       "      <td>0</td>\n",
       "      <td>0</td>\n",
       "      <td>0</td>\n",
       "      <td>0</td>\n",
       "      <td>0</td>\n",
       "      <td>0</td>\n",
       "      <td>0</td>\n",
       "      <td>1</td>\n",
       "      <td>0</td>\n",
       "    </tr>\n",
       "    <tr>\n",
       "      <th>4</th>\n",
       "      <td>0</td>\n",
       "      <td>0</td>\n",
       "      <td>1</td>\n",
       "      <td>0</td>\n",
       "      <td>0</td>\n",
       "      <td>0</td>\n",
       "      <td>0</td>\n",
       "      <td>0</td>\n",
       "      <td>0</td>\n",
       "      <td>0</td>\n",
       "      <td>0</td>\n",
       "      <td>0</td>\n",
       "      <td>0</td>\n",
       "      <td>1</td>\n",
       "      <td>0</td>\n",
       "      <td>0</td>\n",
       "      <td>0</td>\n",
       "      <td>0</td>\n",
       "      <td>0</td>\n",
       "    </tr>\n",
       "  </tbody>\n",
       "</table>\n",
       "</div>"
      ],
      "text/plain": [
       "   80   182  201  235  267  280  302  322  355  359  474  503  519  527  542  \\\n",
       "0    1    0    0    0    1    0    0    0    1    0    1    1    0    0    0   \n",
       "1    0    0    1    0    0    0    0    0    0    0    0    0    0    0    1   \n",
       "2    0    0    0    0    0    0    0    0    0    0    1    0    0    0    1   \n",
       "3    0    0    0    0    0    1    0    0    0    0    0    0    0    0    0   \n",
       "4    0    0    1    0    0    0    0    0    0    0    0    0    0    1    0   \n",
       "\n",
       "   551  601  610  619  \n",
       "0    0    0    0    0  \n",
       "1    0    0    0    0  \n",
       "2    0    0    0    0  \n",
       "3    0    0    1    0  \n",
       "4    0    0    0    0  "
      ]
     },
     "execution_count": 87,
     "metadata": {},
     "output_type": "execute_result"
    }
   ],
   "source": [
    "# Calculate the sum of each column\n",
    "column_sums = df.sum()\n",
    "\n",
    "# Find columns where the sum is less than 6\n",
    "columns_to_remove = column_sums[column_sums < 6].index\n",
    "\n",
    "# Remove the selected columns from the DataFrame\n",
    "df = df.drop(columns=columns_to_remove)\n",
    "\n",
    "df.head()"
   ]
  },
  {
   "cell_type": "code",
   "execution_count": 88,
   "metadata": {},
   "outputs": [
    {
     "name": "stdout",
     "output_type": "stream",
     "text": [
      "0.05\n",
      "0.1\n",
      "0.15\n",
      "0.2\n",
      "0.25\n",
      "0.3\n",
      "0.35\n",
      "0.4\n",
      "0.45\n",
      "0.5\n",
      "0.55\n",
      "0.6\n",
      "0.65\n",
      "0.7\n",
      "0.75\n",
      "0.8\n",
      "0.85\n",
      "0.9\n",
      "0.95\n",
      "[17]\n"
     ]
    }
   ],
   "source": [
    "x = df.values\n",
    "y = y_train.values\n",
    "\n",
    "# Implement feature selection using maximize_CFS\n",
    "optimal_subset_indices = maximize_CFS(x, y)\n",
    "\n",
    "# Select the optimal subset of features for training and validation data\n",
    "print(optimal_subset_indices)"
   ]
  },
  {
   "cell_type": "code",
   "execution_count": 95,
   "metadata": {},
   "outputs": [
    {
     "data": {
      "text/plain": [
       "0    0\n",
       "1    0\n",
       "2    0\n",
       "3    1\n",
       "4    0\n",
       "Name: 610, dtype: int64"
      ]
     },
     "execution_count": 95,
     "metadata": {},
     "output_type": "execute_result"
    }
   ],
   "source": [
    "x_opt = df.iloc[:, 17]\n",
    "x_opt.head()"
   ]
  },
  {
   "cell_type": "code",
   "execution_count": 99,
   "metadata": {},
   "outputs": [
    {
     "name": "stdout",
     "output_type": "stream",
     "text": [
      "Word at column 610: win\n"
     ]
    }
   ],
   "source": [
    "word_index = 610 # The column index I want to look up\n",
    "\n",
    "# Get the vocabulary (word to column index mapping)\n",
    "vocabulary = vectorizer.vocabulary_\n",
    "\n",
    "# Inverse the vocabulary mapping to find the word for the given column index\n",
    "word = next(word for word, index in vocabulary.items() if index == word_index)\n",
    "\n",
    "print(\"Word at column 610:\", word)"
   ]
  },
  {
   "cell_type": "markdown",
   "metadata": {},
   "source": [
    "# Naive Bayes with Labeled Record Data"
   ]
  },
  {
   "cell_type": "code",
   "execution_count": 15,
   "metadata": {},
   "outputs": [],
   "source": [
    "nova2122_training <- read.csv(\"./data/modified_data/nova2122_training.csv\")\n",
    "nova2122_validation <- read.csv('./data/modified_data/nova2122_validation.csv')"
   ]
  },
  {
   "cell_type": "code",
   "execution_count": 17,
   "metadata": {},
   "outputs": [
    {
     "name": "stdout",
     "output_type": "stream",
     "text": [
      "Accuracy of the Naive Bayes model: 0.5463535 \n"
     ]
    }
   ],
   "source": [
    "# Load the e1071 package\n",
    "library(e1071)\n",
    "\n",
    "# Load your training and validation data\n",
    "nova2122_training <- read.csv(\"./data/modified_data/nova2122_training.csv\")\n",
    "nova2122_validation <- read.csv('./data/modified_data/nova2122_validation.csv')\n",
    "\n",
    "nova2122_training$lag1 <- as.factor(nova2122_training$lag1)\n",
    "nova2122_training$shot_outcome_numeric <- as.factor(nova2122_training$shot_outcome_numeric)\n",
    "nova2122_validation$lag1 <- as.factor(nova2122_validation$lag1)\n",
    "nova2122_validation$shot_outcome_numeric <- as.factor(nova2122_validation$shot_outcome_numeric)\n",
    "\n",
    "# Create a Naive Bayes model\n",
    "nb_model <- naiveBayes(shot_outcome_numeric ~ lag1, data = nova2122_training)\n",
    "\n",
    "# Make predictions on the validation set\n",
    "validation_predictions <- predict(nb_model, nova2122_validation, type = \"class\")\n",
    "\n",
    "# Assess the accuracy of the model\n",
    "accuracy <- mean(validation_predictions == nova2122_validation$shot_outcome_numeric)\n",
    "cat(\"Accuracy of the Naive Bayes model:\", accuracy, \"\\n\")\n"
   ]
  },
  {
   "cell_type": "code",
   "execution_count": 18,
   "metadata": {},
   "outputs": [
    {
     "name": "stdout",
     "output_type": "stream",
     "text": [
      "Confusion Matrix and Statistics\n",
      "\n",
      "          Reference\n",
      "Prediction  -1   1\n",
      "        -1 476 400\n",
      "        1  334 408\n",
      "                                          \n",
      "               Accuracy : 0.5464          \n",
      "                 95% CI : (0.5217, 0.5708)\n",
      "    No Information Rate : 0.5006          \n",
      "    P-Value [Acc > NIR] : 0.0001276       \n",
      "                                          \n",
      "                  Kappa : 0.0926          \n",
      "                                          \n",
      " Mcnemar's Test P-Value : 0.0164312       \n",
      "                                          \n",
      "            Sensitivity : 0.5877          \n",
      "            Specificity : 0.5050          \n",
      "         Pos Pred Value : 0.5434          \n",
      "         Neg Pred Value : 0.5499          \n",
      "             Prevalence : 0.5006          \n",
      "         Detection Rate : 0.2942          \n",
      "   Detection Prevalence : 0.5414          \n",
      "      Balanced Accuracy : 0.5463          \n",
      "                                          \n",
      "       'Positive' Class : -1              \n",
      "                                          \n"
     ]
    }
   ],
   "source": [
    "# Create a confusion matrix\n",
    "conf_matrix <- confusionMatrix(data = validation_predictions, reference = nova2122_validation$shot_outcome_numeric)\n",
    "\n",
    "# Print the confusion matrix\n",
    "print(conf_matrix)"
   ]
  },
  {
   "cell_type": "code",
   "execution_count": 28,
   "metadata": {},
   "outputs": [
    {
     "data": {
      "image/png": "[encoded data removed]",
      "text/plain": [
       "plot without title"
      ]
     },
     "metadata": {
      "image/png": {
       "height": 420,
       "width": 420
      }
     },
     "output_type": "display_data"
    }
   ],
   "source": [
    "#using ggplot\n",
    "\n",
    "# Create the confusion matrix data\n",
    "conf_matrix_data <- data.frame(\n",
    "  Prediction = c(\"missed\", \"made\", \"missed\", \"made\"),\n",
    "  Reference = c(\"missed\", \"missed\", \"made\", \"made\"),\n",
    "  Count = c(476, 334, 400, 408)\n",
    ")\n",
    "\n",
    "# Create the ggplot\n",
    "gg <- ggplot(data = conf_matrix_data, aes(x = Prediction, y = Reference)) +\n",
    "  geom_tile(aes(fill = Count)) +\n",
    "  geom_text(aes(label = Count), vjust = 1) +\n",
    "  scale_fill_gradient(low = \"#7cf09b\", high = \"#3ee882\") +\n",
    "  labs(\n",
    "    x = \"Prediction\",\n",
    "    y = \"Reference\",\n",
    "    fill = \"Count\"\n",
    "  ) +\n",
    "  theme_minimal() +\n",
    "  theme(axis.text = element_text(size = 12))\n",
    "\n",
    "gg + ggtitle(\"Confusion Matrix for 2021-22 NCAA Villanova MBB Shot Data\")"
   ]
  },
  {
   "cell_type": "markdown",
   "metadata": {},
   "source": [
    "I tried applying Naive Bayes to my time series data. Since it is time series data, the procedures for classifications models like Naive Bayes are not suitable for a scenario like this."
   ]
  },
  {
   "cell_type": "markdown",
   "metadata": {},
   "source": [
    "# Naive Bayes with Labeled Text Data"
   ]
  },
  {
   "cell_type": "code",
   "execution_count": 107,
   "metadata": {},
   "outputs": [
    {
     "data": {
      "text/html": [
       "<div>\n",
       "<style scoped>\n",
       "    .dataframe tbody tr th:only-of-type {\n",
       "        vertical-align: middle;\n",
       "    }\n",
       "\n",
       "    .dataframe tbody tr th {\n",
       "        vertical-align: top;\n",
       "    }\n",
       "\n",
       "    .dataframe thead th {\n",
       "        text-align: right;\n",
       "    }\n",
       "</style>\n",
       "<table border=\"1\" class=\"dataframe\">\n",
       "  <thead>\n",
       "    <tr style=\"text-align: right;\">\n",
       "      <th></th>\n",
       "      <th>Sentiment Label</th>\n",
       "      <th>cleaned_text</th>\n",
       "    </tr>\n",
       "  </thead>\n",
       "  <tbody>\n",
       "    <tr>\n",
       "      <th>83</th>\n",
       "      <td>neutral</td>\n",
       "      <td>cbs sport network weekly coverage season keep ...</td>\n",
       "    </tr>\n",
       "    <tr>\n",
       "      <th>53</th>\n",
       "      <td>neutral</td>\n",
       "      <td>nfl week odds includes division matchup sunday...</td>\n",
       "    </tr>\n",
       "    <tr>\n",
       "      <th>70</th>\n",
       "      <td>neutral</td>\n",
       "      <td>removed</td>\n",
       "    </tr>\n",
       "    <tr>\n",
       "      <th>45</th>\n",
       "      <td>positive</td>\n",
       "      <td>real madrid look continue winning way keep per...</td>\n",
       "    </tr>\n",
       "    <tr>\n",
       "      <th>44</th>\n",
       "      <td>positive</td>\n",
       "      <td>florida gator hope end road game loss streak w...</td>\n",
       "    </tr>\n",
       "  </tbody>\n",
       "</table>\n",
       "</div>"
      ],
      "text/plain": [
       "   Sentiment Label                                       cleaned_text\n",
       "83         neutral  cbs sport network weekly coverage season keep ...\n",
       "53         neutral  nfl week odds includes division matchup sunday...\n",
       "70         neutral                                            removed\n",
       "45        positive  real madrid look continue winning way keep per...\n",
       "44        positive  florida gator hope end road game loss streak w..."
      ]
     },
     "execution_count": 107,
     "metadata": {},
     "output_type": "execute_result"
    }
   ],
   "source": [
    "test_data.head()"
   ]
  },
  {
   "cell_type": "code",
   "execution_count": 101,
   "metadata": {},
   "outputs": [
    {
     "name": "stdout",
     "output_type": "stream",
     "text": [
      "83    cbs sport network weekly coverage season keep ...\n",
      "53    nfl week odds includes division matchup sunday...\n",
      "70                                              removed\n",
      "45    real madrid look continue winning way keep per...\n",
      "44    florida gator hope end road game loss streak w...\n",
      "39    u team led bile take world title combined scor...\n",
      "22    mohammed kudu last minute strike snatched draw...\n",
      "80    kansa city double digit home favorite thursday...\n",
      "10    royce lewis broke minnesota twin game playoff ...\n",
      "0     jack catterall hope add win resume redeem loss...\n",
      "18    bulldog wildcat put undefeated record line ton...\n",
      "30    chelsea v brentford today fan wondering watch ...\n",
      "73    justin field dj moore went wild fedex field be...\n",
      "33    final qualification round uefa woman champion ...\n",
      "90    fulham move quarter final league cup first tim...\n",
      "4               two nfl potent offense clash cincinnati\n",
      "76    liz loza daniel dopp talk top betting storylin...\n",
      "77    giant qb daniel jones miss third straight game...\n",
      "12    dramatic game loss arizona diamondback bounced...\n",
      "31    ridder becoming poster child home field advant...\n",
      "Name: cleaned_text, dtype: object\n"
     ]
    }
   ],
   "source": [
    "X_test = test_data['cleaned_text']\n",
    "y_test = test_data['Sentiment Label']\n",
    "print(X_test)"
   ]
  },
  {
   "cell_type": "code",
   "execution_count": 106,
   "metadata": {},
   "outputs": [
    {
     "data": {
      "text/plain": [
       "83    0.0\n",
       "53    0.0\n",
       "70    0.0\n",
       "45    1.0\n",
       "44    0.0\n",
       "Name: cleaned_text, dtype: float64"
      ]
     },
     "execution_count": 106,
     "metadata": {},
     "output_type": "execute_result"
    }
   ],
   "source": [
    "# Assuming you have a DataFrame named 'X_test' and you want to create a new column 'win_count'\n",
    "X_test_win = X_test.str.lower().str.count('win')\n",
    "X_test_win.head()"
   ]
  },
  {
   "cell_type": "code",
   "execution_count": 109,
   "metadata": {},
   "outputs": [
    {
     "data": {
      "text/plain": [
       "83    0\n",
       "53    0\n",
       "70    0\n",
       "45    1\n",
       "44    1\n",
       "Name: Sentiment Label, dtype: category\n",
       "Categories (3, int64): [-1, 0, 1]"
      ]
     },
     "execution_count": 109,
     "metadata": {},
     "output_type": "execute_result"
    }
   ],
   "source": [
    "# Define a dictionary to map labels to numeric values\n",
    "label_mapping = {'neutral': 0, 'negative': -1, 'positive': 1}\n",
    "\n",
    "# Assuming you have a DataFrame 'df' and a column 'Sentiment Label' that you want to map\n",
    "y_test = test_data['Sentiment Label'].map(label_mapping)\n",
    "\n",
    "y_test.head()"
   ]
  },
  {
   "cell_type": "code",
   "execution_count": 115,
   "metadata": {},
   "outputs": [
    {
     "name": "stdout",
     "output_type": "stream",
     "text": [
      "Accuracy of the Naive Bayes model: 0.5\n"
     ]
    }
   ],
   "source": [
    "import pandas as pd\n",
    "from sklearn.naive_bayes import CategoricalNB\n",
    "from sklearn.metrics import accuracy_score\n",
    "\n",
    "# Convert features to a DataFrame\n",
    "news_training_x = pd.Series(x_opt, name='x')\n",
    "news_training_y = y_train\n",
    "news_test_x = pd.Series(X_test_win, name='x')\n",
    "news_test_y = y_test\n",
    "\n",
    "# Create a training DataFrame\n",
    "training_df = pd.DataFrame({'x': news_training_x, 'y': news_training_y})\n",
    "\n",
    "# Create a test DataFrame\n",
    "test_df = pd.DataFrame({'x': news_test_x, 'y': news_test_y})\n",
    "\n",
    "# Create a Naive Bayes model\n",
    "nb_model = CategoricalNB()\n",
    "\n",
    "# Remove rows with NaN values\n",
    "training_df.dropna(subset=['x'], inplace=True)\n",
    "\n",
    "# Remove rows with NaN values in the target variable 'y'\n",
    "training_df.dropna(subset=['y'], inplace=True)\n",
    "test_df.dropna(subset=['y'], inplace=True)\n",
    "\n",
    "# Now, you can fit your model\n",
    "nb_model.fit(training_df[['x']], training_df['y'])\n",
    "\n",
    "# Remove rows with NaN values\n",
    "test_df.dropna(subset=['x'], inplace=True)\n",
    "\n",
    "# Make predictions on the validation set\n",
    "validation_predictions = nb_model.predict(test_df[['x']])\n",
    "\n",
    "# Assess the accuracy of the model\n",
    "accuracy = accuracy_score(test_df['y'], validation_predictions)\n",
    "print(\"Accuracy of the Naive Bayes model:\", accuracy)"
   ]
  },
  {
   "cell_type": "code",
   "execution_count": 118,
   "metadata": {},
   "outputs": [
    {
     "name": "stdout",
     "output_type": "stream",
     "text": [
      "Confusion Matrix:\n",
      "[[ 0  0  0]\n",
      " [ 0  0  0]\n",
      " [ 5  5 10]]\n"
     ]
    }
   ],
   "source": [
    "from sklearn.metrics import confusion_matrix\n",
    "\n",
    "# Create a confusion matrix\n",
    "conf_matrix = confusion_matrix(validation_predictions, test_df['y'])\n",
    "\n",
    "# Print the confusion matrix\n",
    "print(\"Confusion Matrix:\")\n",
    "print(conf_matrix)"
   ]
  },
  {
   "cell_type": "code",
   "execution_count": 120,
   "metadata": {},
   "outputs": [
    {
     "data": {
      "image/png": "[encoded data removed]",
      "text/plain": [
       "<Figure size 800x600 with 1 Axes>"
      ]
     },
     "metadata": {},
     "output_type": "display_data"
    }
   ],
   "source": [
    "import seaborn as sns\n",
    "import matplotlib.pyplot as plt\n",
    "\n",
    "# Assuming 'conf_matrix' is the confusion matrix obtained previously\n",
    "\n",
    "# Create a Seaborn heatmap\n",
    "plt.figure(figsize=(8, 6))\n",
    "sns.heatmap(conf_matrix, annot=True, fmt='d', cmap='Blues', linewidths=0.5, cbar=False,\n",
    "            xticklabels=['Negative', 'Neutral', 'Positive'], yticklabels=['Negative', 'Neutral', 'Positive'])\n",
    "\n",
    "# Add labels and title\n",
    "plt.xlabel('Predicted')\n",
    "plt.ylabel('Actual')\n",
    "plt.title('Confusion Matrix')\n",
    "\n",
    "# Show the heatmap\n",
    "plt.show()\n"
   ]
  },
  {
   "cell_type": "markdown",
   "metadata": {},
   "source": [
    "# Extra Joke (x2)\n",
    "\n",
    "Are monsters good at math? Not unless you Count Dracula.\n",
    "<br></br>\n",
    "![Figure 1](./images/dracula.png)\n",
    "<br></br>\n",
    "What’s the official animal of Pi day? The Pi-thon!\n",
    "<br></br>\n",
    "![Figure 2](./images/snake.png)"
   ]
  }
 ],
 "metadata": {
  "kernelspec": {
   "display_name": "base",
   "language": "python",
   "name": "python3"
  },
  "language_info": {
   "codemirror_mode": {
    "name": "ipython",
    "version": 3
   },
   "file_extension": ".py",
   "mimetype": "text/x-python",
   "name": "python",
   "nbconvert_exporter": "python",
   "pygments_lexer": "ipython3",
   "version": "3.10.9"
  }
 },
 "nbformat": 4,
 "nbformat_minor": 2
}
