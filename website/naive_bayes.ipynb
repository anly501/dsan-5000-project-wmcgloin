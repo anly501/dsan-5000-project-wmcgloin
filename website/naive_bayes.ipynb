{
 "cells": [
  {
   "cell_type": "markdown",
   "metadata": {},
   "source": [
    "---\n",
    "title: \"Naïve Bayes\"\n",
    "format: html\n",
    "---"
   ]
  },
  {
   "cell_type": "markdown",
   "metadata": {},
   "source": [
    "<b>*Disclaimer - this section is a work in progress</b>\n",
    "<br></br>\n"
   ]
  },
  {
   "cell_type": "markdown",
   "metadata": {},
   "source": [
    "# Introduction to Naive Bayes\n",
    "\n",
    "Naive Bayes, a widely acclaimed machine learning algorithm, harnesses Bayes' Theorem to categorize data into predefined classes or categories. Praised for its simplicity, swift training capabilities, and robust performance, it stands as a foundational tool in data science. At its core, Bayes' Theorem calculates the probability of event A given the occurrence of event B, expressed as:\n",
    "$$P(A|B) = \\frac{P(B|A) \\cdot P(A)}{P(B)}$$\n",
    "Naive Bayes accomplishes classifications by leveraging feature vectors and the principles of Bayes' Theorem to assess values. The 'naive' label in its name stems from its  assumption of independence among predictors, simplifying computational tasks. This algorithm shines in contexts featuring text and categorical data, excelling in applications like spam email identification, sentiment analysis, and document categorization. Despite its seemingly 'naive' premise, Naive Bayes consistently delivers impressive real-world performance, making it a crucial tool for various data science classification tasks.\n",
    "<br></br>\n",
    "Common varients of Naive Bayes include Multinomial, Guassian, and Bernoulli Naive Bayes. Multinomial Naive Bayes is the most common variant as is often used for text classification. Gaussian Naive Bayes is appropriate for continuous numerical data while Bernoulli Naive Bayes is a derivation of Multinomial Naive Bayes that is appropriate for binary or boolean data.\n",
    "<br></br>\n",
    "The purpose of this page is to implement Naïve Bayes classification on a variety of datasets, some of which may be more for suitable than others for this method. This work is a component of my DSAN 5000 class project."
   ]
  },
  {
   "cell_type": "markdown",
   "metadata": {},
   "source": [
    "# Data Preparation\n",
    "\n",
    "Data must initially be prepared to utilize a Naive Bayes model. Although a substantial part of this process has been covered in the data cleaning and exploratory data analysis (EDA) phases, we must still convert all categorical and label columns into factor types. Additionally, data must be split into training and test subsets. In the following code, we will complete the preparation of the 2021-22 NCAA data and text data for modeling."
   ]
  },
  {
   "cell_type": "markdown",
   "metadata": {},
   "source": [
    "### NCAA Data"
   ]
  },
  {
   "cell_type": "code",
   "execution_count": 9,
   "metadata": {},
   "outputs": [],
   "source": [
    "nova2122 <- read.csv('./data/modified_data/nova2122_updated.csv')"
   ]
  },
  {
   "cell_type": "code",
   "execution_count": 10,
   "metadata": {},
   "outputs": [],
   "source": [
    "# Load relevant libraries\n",
    "library(tidyverse)\n",
    "library(caret)"
   ]
  },
  {
   "cell_type": "code",
   "execution_count": 11,
   "metadata": {},
   "outputs": [
    {
     "name": "stdout",
     "output_type": "stream",
     "text": [
      "'data.frame':\t5399 obs. of  15 variables:\n",
      " $ game_id             : int  401365747 401365747 401365747 401365747 401365747 401365747 401365747 401365747 401365747 401365747 ...\n",
      " $ play_id             : int  4 7 11 13 16 18 19 21 23 25 ...\n",
      " $ half                : int  1 1 1 1 1 1 1 1 1 1 ...\n",
      " $ shooter             : chr  \"Justin Moore\" \"Clifton Moore\" \"Clifton Moore\" \"Eric Dixon\" ...\n",
      " $ shot_outcome        : chr  \"missed\" \"missed\" \"missed\" \"missed\" ...\n",
      " $ shooter_team        : chr  \"Villanova\" \"La Salle\" \"La Salle\" \"Villanova\" ...\n",
      " $ shot_outcome_numeric: int  -1 -1 -1 -1 1 1 -1 1 -1 -1 ...\n",
      " $ shot_sequence       : int  -1 -1 -2 -1 1 1 -1 1 -1 -1 ...\n",
      " $ previous_shots      : int  0 0 -1 0 0 -1 0 0 1 0 ...\n",
      " $ lag1                : int  NA NA -1 NA NA -1 NA NA 1 NA ...\n",
      " $ lag2                : int  NA NA NA NA NA NA NA NA NA NA ...\n",
      " $ lag3                : int  NA NA NA NA NA NA NA NA NA NA ...\n",
      " $ lag4                : int  NA NA NA NA NA NA NA NA NA NA ...\n",
      " $ lag5                : int  NA NA NA NA NA NA NA NA NA NA ...\n",
      " $ lag6                : int  NA NA NA NA NA NA NA NA NA NA ...\n"
     ]
    }
   ],
   "source": [
    "str(nova2122)"
   ]
  },
  {
   "cell_type": "code",
   "execution_count": 12,
   "metadata": {},
   "outputs": [],
   "source": [
    "nova2122$lag1 <- as.factor(nova2122$lag1)\n",
    "nova2122$lag2 <- as.factor(nova2122$lag2)\n",
    "nova2122$lag3 <- as.factor(nova2122$lag3)\n",
    "nova2122$lag4 <- as.factor(nova2122$lag4)\n",
    "nova2122$lag5 <- as.factor(nova2122$lag5)\n",
    "nova2122$lag6 <- as.factor(nova2122$lag6)\n",
    "nova2122$shot_outcome_numeric <- as.factor(nova2122$shot_outcome_numeric)"
   ]
  },
  {
   "cell_type": "code",
   "execution_count": 13,
   "metadata": {},
   "outputs": [
    {
     "name": "stdout",
     "output_type": "stream",
     "text": [
      "'data.frame':\t5399 obs. of  15 variables:\n",
      " $ game_id             : int  401365747 401365747 401365747 401365747 401365747 401365747 401365747 401365747 401365747 401365747 ...\n",
      " $ play_id             : int  4 7 11 13 16 18 19 21 23 25 ...\n",
      " $ half                : int  1 1 1 1 1 1 1 1 1 1 ...\n",
      " $ shooter             : chr  \"Justin Moore\" \"Clifton Moore\" \"Clifton Moore\" \"Eric Dixon\" ...\n",
      " $ shot_outcome        : chr  \"missed\" \"missed\" \"missed\" \"missed\" ...\n",
      " $ shooter_team        : chr  \"Villanova\" \"La Salle\" \"La Salle\" \"Villanova\" ...\n",
      " $ shot_outcome_numeric: Factor w/ 2 levels \"-1\",\"1\": 1 1 1 1 2 2 1 2 1 1 ...\n",
      " $ shot_sequence       : int  -1 -1 -2 -1 1 1 -1 1 -1 -1 ...\n",
      " $ previous_shots      : int  0 0 -1 0 0 -1 0 0 1 0 ...\n",
      " $ lag1                : Factor w/ 2 levels \"-1\",\"1\": NA NA 1 NA NA 1 NA NA 2 NA ...\n",
      " $ lag2                : Factor w/ 2 levels \"-1\",\"1\": NA NA NA NA NA NA NA NA NA NA ...\n",
      " $ lag3                : Factor w/ 2 levels \"-1\",\"1\": NA NA NA NA NA NA NA NA NA NA ...\n",
      " $ lag4                : Factor w/ 2 levels \"-1\",\"1\": NA NA NA NA NA NA NA NA NA NA ...\n",
      " $ lag5                : Factor w/ 2 levels \"-1\",\"1\": NA NA NA NA NA NA NA NA NA NA ...\n",
      " $ lag6                : Factor w/ 2 levels \"-1\",\"1\": NA NA NA NA NA NA NA NA NA NA ...\n"
     ]
    }
   ],
   "source": [
    "str(nova2122)"
   ]
  },
  {
   "cell_type": "code",
   "execution_count": 14,
   "metadata": {},
   "outputs": [],
   "source": [
    "# Set a seed for reproducibility\n",
    "set.seed(137)\n",
    "\n",
    "# Create an index for splitting the data (70% for training, 30% for validation)\n",
    "index <- createDataPartition(y = nova2122$shot_outcome_numeric, p = 0.7, list = FALSE)\n",
    "\n",
    "# Create the training and validation subsets\n",
    "training_data <- nova2122[index, ]\n",
    "validation_data <- nova2122[-index, ]\n",
    "\n",
    "write.csv(training_data, file = \"./data/modified_data/nova2122_training.csv\", row.names = FALSE)\n",
    "write.csv(validation_data, file = \"./data/modified_data/nova2122_validation.csv\", row.names = FALSE)"
   ]
  },
  {
   "cell_type": "markdown",
   "metadata": {},
   "source": [
    "### News Data"
   ]
  },
  {
   "cell_type": "code",
   "execution_count": null,
   "metadata": {},
   "outputs": [],
   "source": [
    "list_obesity = [str(element) for element in obesity]\n",
    "\n",
    "print(\"EXAMPLE: VADAR SENTIMENT COMPUTE\")\n",
    "import nltk\n",
    "from nltk.sentiment import SentimentIntensityAnalyzer\n",
    "\n",
    "sia = SentimentIntensityAnalyzer()\n",
    "\n",
    "text_list = []\n",
    "label = []\n",
    "sentiment_pos = []\n",
    "\n",
    "for i in range(len(list_obesity)):\n",
    "    text=list_obesity[i]\n",
    "    score=sia.polarity_scores(text)\n",
    "    if \"obesity\" in text.lower():\n",
    "        label.append(\"obesity\")\n",
    "    else:\n",
    "        if \"weight\" in text.lower():\n",
    "            label.append(\"weight\")\n",
    "        else:\n",
    "            label.append(\"neither\")\n",
    "    text_list.append(text)\n",
    "    sentiment_pos.append(score['pos'])\n",
    "\n",
    "sentiment_analysis = pd.DataFrame({'text': text_list, 'label': label, 'sentiment_pos': sentiment_pos})\n",
    "print(sentiment_analysis.tail())\n",
    "\n",
    "sentiment_analysis.to_csv('sentiment.csv', index=False)\n",
    "\n",
    "#from sklearn.feature_extraction.text import TfidVectorizer"
   ]
  },
  {
   "cell_type": "markdown",
   "metadata": {},
   "source": [
    "# Feature Selection"
   ]
  },
  {
   "cell_type": "code",
   "execution_count": 1,
   "metadata": {},
   "outputs": [],
   "source": [
    "import numpy as np \n",
    "import seaborn as sns\n",
    "import pandas as pd\n",
    "import matplotlib.pyplot as plt\n",
    "import scipy\n",
    "import sklearn \n",
    "import itertools\n",
    "from scipy.stats import spearmanr"
   ]
  },
  {
   "cell_type": "code",
   "execution_count": 2,
   "metadata": {},
   "outputs": [],
   "source": [
    "def merit(x, y, correlation='pearson'):\n",
    "    k = x.shape[1]\n",
    "    \n",
    "    if correlation == 'pearson':\n",
    "        rho_xx = np.mean(np.corrcoef(x, x, rowvar = False))\n",
    "        rho_xy = np.mean(np.corrcoef(x, y, rowvar = False))\n",
    "    elif correlation == 'spearman':\n",
    "        rho_xx = np.mean(spearmanr(x, x, axis = 0)[0])\n",
    "        rho_xy = np.mean(spearmanr(x, y, axis = 0)[0])\n",
    "    else:\n",
    "        raise ValueError(\"Error: Unsupported Correlation Method. Try Again.\")\n",
    "    \n",
    "    merit_numerator = k * np.absolute(rho_xy)\n",
    "    merit_denominator = np.sqrt(k + k * (k - 1) * np.absolute(rho_xx))\n",
    "    merit_score = merit_numerator / merit_denominator\n",
    "    \n",
    "    return merit_score\n",
    "\n",
    "\n",
    "def maximize_CFS(x, y):\n",
    "    num_features = x.shape[1]\n",
    "    max_merit = 0\n",
    "    optimal_subset = None\n",
    "    list1 = [*range(0, num_features)]\n",
    "    for L in range(1, len(list1) + 1):\n",
    "        for subset in itertools.combinations(list1, L):\n",
    "            x_subset = x[:, list(subset)]\n",
    "            subset_merit = merit(x_subset, y)\n",
    "            if subset_merit > max_merit:\n",
    "                max_merit = subset_merit\n",
    "                optimal_subset = list(subset)\n",
    "    return optimal_subset  # Return the indices of selected features"
   ]
  },
  {
   "cell_type": "markdown",
   "metadata": {},
   "source": [
    "### NCAA Data"
   ]
  },
  {
   "cell_type": "code",
   "execution_count": 3,
   "metadata": {},
   "outputs": [
    {
     "name": "stdout",
     "output_type": "stream",
     "text": [
      "[0]\n"
     ]
    }
   ],
   "source": [
    "training = pd.read_csv('./data/modified_data/nova2122_training.csv')\n",
    "validation = pd.read_csv('./data/modified_data/nova2122_validation.csv')\n",
    "\n",
    "# Convert DataFrames to numpy arrays\n",
    "x = training[['lag1', 'lag2', 'lag3']].values\n",
    "x = np.nan_to_num(x, nan=0)\n",
    "y = training[['shot_outcome_numeric']].values\n",
    "\n",
    "selected_indices = maximize_CFS(x, y)\n",
    "print(selected_indices)"
   ]
  },
  {
   "cell_type": "code",
   "execution_count": 4,
   "metadata": {},
   "outputs": [
    {
     "data": {
      "text/plain": [
       "0.3818269784940867"
      ]
     },
     "execution_count": 4,
     "metadata": {},
     "output_type": "execute_result"
    }
   ],
   "source": [
    "z = training['lag1'].values\n",
    "z = np.nan_to_num(x, nan=0)\n",
    "\n",
    "merit(z,y)"
   ]
  },
  {
   "cell_type": "markdown",
   "metadata": {},
   "source": [
    "An output of [0] in the above code indicates that, according to the Correlation-based Feature Selection (CFS) algorithm, the optimal subset comprises only the 'lag1' feature. This suggests that, under the criteria applied, 'lag1' provides the most valuable information for classifying the 'shot_outcome_numeric' variable.\n",
    "\n",
    "'lag2' and 'lag3' are considered less informative for predicting 'shot_outcome_numeric' using this particular feature selection approach and correlation-based merit score.\n",
    "\n",
    "Additionally, a merit score of 0.3818 indicates a moderate positive correlation between the 'lag1' feature and 'shot_outcome_numeric,' suggesting that 'lag1' contains relevant information for predicting the target variable."
   ]
  },
  {
   "cell_type": "markdown",
   "metadata": {},
   "source": [
    "### News Data"
   ]
  },
  {
   "cell_type": "markdown",
   "metadata": {},
   "source": [
    "# Naive Bayes with Labeled Record Data"
   ]
  },
  {
   "cell_type": "code",
   "execution_count": 15,
   "metadata": {},
   "outputs": [],
   "source": [
    "nova2122_training <- read.csv(\"./data/modified_data/nova2122_training.csv\")\n",
    "nova2122_validation <- read.csv('./data/modified_data/nova2122_validation.csv')"
   ]
  },
  {
   "cell_type": "code",
   "execution_count": 17,
   "metadata": {},
   "outputs": [
    {
     "name": "stdout",
     "output_type": "stream",
     "text": [
      "Accuracy of the Naive Bayes model: 0.5463535 \n"
     ]
    }
   ],
   "source": [
    "# Load the e1071 package\n",
    "library(e1071)\n",
    "\n",
    "# Load your training and validation data\n",
    "nova2122_training <- read.csv(\"./data/modified_data/nova2122_training.csv\")\n",
    "nova2122_validation <- read.csv('./data/modified_data/nova2122_validation.csv')\n",
    "\n",
    "nova2122_training$lag1 <- as.factor(nova2122_training$lag1)\n",
    "nova2122_training$shot_outcome_numeric <- as.factor(nova2122_training$shot_outcome_numeric)\n",
    "nova2122_validation$lag1 <- as.factor(nova2122_validation$lag1)\n",
    "nova2122_validation$shot_outcome_numeric <- as.factor(nova2122_validation$shot_outcome_numeric)\n",
    "\n",
    "# Create a Naive Bayes model\n",
    "nb_model <- naiveBayes(shot_outcome_numeric ~ lag1, data = nova2122_training)\n",
    "\n",
    "# Make predictions on the validation set\n",
    "validation_predictions <- predict(nb_model, nova2122_validation, type = \"class\")\n",
    "\n",
    "# Assess the accuracy of the model\n",
    "accuracy <- mean(validation_predictions == nova2122_validation$shot_outcome_numeric)\n",
    "cat(\"Accuracy of the Naive Bayes model:\", accuracy, \"\\n\")\n"
   ]
  },
  {
   "cell_type": "code",
   "execution_count": 18,
   "metadata": {},
   "outputs": [
    {
     "name": "stdout",
     "output_type": "stream",
     "text": [
      "Confusion Matrix and Statistics\n",
      "\n",
      "          Reference\n",
      "Prediction  -1   1\n",
      "        -1 476 400\n",
      "        1  334 408\n",
      "                                          \n",
      "               Accuracy : 0.5464          \n",
      "                 95% CI : (0.5217, 0.5708)\n",
      "    No Information Rate : 0.5006          \n",
      "    P-Value [Acc > NIR] : 0.0001276       \n",
      "                                          \n",
      "                  Kappa : 0.0926          \n",
      "                                          \n",
      " Mcnemar's Test P-Value : 0.0164312       \n",
      "                                          \n",
      "            Sensitivity : 0.5877          \n",
      "            Specificity : 0.5050          \n",
      "         Pos Pred Value : 0.5434          \n",
      "         Neg Pred Value : 0.5499          \n",
      "             Prevalence : 0.5006          \n",
      "         Detection Rate : 0.2942          \n",
      "   Detection Prevalence : 0.5414          \n",
      "      Balanced Accuracy : 0.5463          \n",
      "                                          \n",
      "       'Positive' Class : -1              \n",
      "                                          \n"
     ]
    }
   ],
   "source": [
    "# Create a confusion matrix\n",
    "conf_matrix <- confusionMatrix(data = validation_predictions, reference = nova2122_validation$shot_outcome_numeric)\n",
    "\n",
    "# Print the confusion matrix\n",
    "print(conf_matrix)"
   ]
  },
  {
   "cell_type": "code",
   "execution_count": 28,
   "metadata": {},
   "outputs": [
    {
     "data": {
      "image/png": "[encoded data removed]",
      "text/plain": [
       "plot without title"
      ]
     },
     "metadata": {
      "image/png": {
       "height": 420,
       "width": 420
      }
     },
     "output_type": "display_data"
    }
   ],
   "source": [
    "#using ggplot\n",
    "\n",
    "# Create the confusion matrix data\n",
    "conf_matrix_data <- data.frame(\n",
    "  Prediction = c(\"missed\", \"made\", \"missed\", \"made\"),\n",
    "  Reference = c(\"missed\", \"missed\", \"made\", \"made\"),\n",
    "  Count = c(476, 334, 400, 408)\n",
    ")\n",
    "\n",
    "# Create the ggplot\n",
    "gg <- ggplot(data = conf_matrix_data, aes(x = Prediction, y = Reference)) +\n",
    "  geom_tile(aes(fill = Count)) +\n",
    "  geom_text(aes(label = Count), vjust = 1) +\n",
    "  scale_fill_gradient(low = \"#7cf09b\", high = \"#3ee882\") +\n",
    "  labs(\n",
    "    x = \"Prediction\",\n",
    "    y = \"Reference\",\n",
    "    fill = \"Count\"\n",
    "  ) +\n",
    "  theme_minimal() +\n",
    "  theme(axis.text = element_text(size = 12))\n",
    "\n",
    "gg + ggtitle(\"Confusion Matrix for 2021-22 NCAA Villanova MBB Shot Data\")"
   ]
  },
  {
   "cell_type": "markdown",
   "metadata": {},
   "source": [
    "I tried applying Naive Bayes to my time series data. Since it is time series data, the procedures for classifications models like Naive Bayes are not suitable for a scenario like this."
   ]
  },
  {
   "cell_type": "markdown",
   "metadata": {},
   "source": [
    "# Naive Bayes with Labeled Text Data"
   ]
  },
  {
   "cell_type": "code",
   "execution_count": null,
   "metadata": {},
   "outputs": [],
   "source": []
  },
  {
   "cell_type": "markdown",
   "metadata": {},
   "source": [
    "# Extra Joke\n",
    "\n",
    "Are monsters good at math? Not unless you Count Dracula.\n",
    "\n",
    "What’s the official animal of Pi day? The Pi-thon!\n",
    "\n",
    "What do you call a number that can’t sit still? A roamin’ numeral!"
   ]
  }
 ],
 "metadata": {
  "kernelspec": {
   "display_name": "base",
   "language": "python",
   "name": "python3"
  },
  "language_info": {
   "codemirror_mode": {
    "name": "ipython",
    "version": 3
   },
   "file_extension": ".py",
   "mimetype": "text/x-python",
   "name": "python",
   "nbconvert_exporter": "python",
   "pygments_lexer": "ipython3",
   "version": "3.10.9"
  }
 },
 "nbformat": 4,
 "nbformat_minor": 2
}
