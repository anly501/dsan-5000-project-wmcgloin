{
  "cells": [
    {
      "cell_type": "raw",
      "metadata": {},
      "source": [
        "---\n",
        "title: \"Clustering\"\n",
        "format: html\n",
        "toc: true\n",
        "toc_depth: 3 \n",
        "number sections: true \n",
        "code-fold: show\n",
        "---"
      ]
    },
    {
      "cell_type": "markdown",
      "metadata": {},
      "source": [
        "# Introduction"
      ]
    },
    {
      "cell_type": "markdown",
      "metadata": {},
      "source": [
        "provide a brief summary (1-2 paragraphs) about your feature data X and what you are trying to achieve with your clustering"
      ]
    },
    {
      "cell_type": "markdown",
      "metadata": {},
      "source": [
        "# Theory"
      ]
    },
    {
      "cell_type": "markdown",
      "metadata": {},
      "source": [
        "brief technical write up about how each clustering method works (KMEAN, DBSCAN, hierarchical clustering). Also include details on model selection methods that you use (elbow, silhouette, gap, etc.). Around 2-4 paragraphs per method is fine - focusing on how it works and what it is supposed to do"
      ]
    },
    {
      "cell_type": "markdown",
      "metadata": {},
      "source": [
        "# Methods"
      ]
    },
    {
      "cell_type": "markdown",
      "metadata": {},
      "source": [
        "* make sure to use cold folding\n",
        "describe your coding workflow\n",
        "* data selection\n",
        "* feature selection (optional)\n",
        "* hyper-parameter tuning\n",
        "* final results"
      ]
    },
    {
      "cell_type": "markdown",
      "metadata": {},
      "source": [
        "# Results"
      ]
    },
    {
      "cell_type": "markdown",
      "metadata": {},
      "source": [
        "discuss, illustrate, and compare the results of your various clustering analysis methods. Additionally, answer questions on hw page"
      ]
    },
    {
      "cell_type": "markdown",
      "metadata": {},
      "source": [
        "# Conclusions"
      ]
    },
    {
      "cell_type": "markdown",
      "metadata": {},
      "source": [
        "summarize and wrap up the report. This is non-technical and should focus on key and important findings and how these findings affect real-life and real people."
      ]
    },
    {
      "cell_type": "markdown",
      "metadata": {},
      "source": [
        "# References"
      ]
    },
    {
      "cell_type": "markdown",
      "metadata": {},
      "source": [
        "ideally use .bibtex to provide in-line citations"
      ]
    },
    {
      "cell_type": "markdown",
      "metadata": {},
      "source": [
        "# Extra Joke"
      ]
    },
    {
      "cell_type": "markdown",
      "metadata": {},
      "source": [
        "Why did the naive Bayesian suddenly feel patriotic when he heard fireworks? He assumed independence.\n",
        "<br></br>\n",
        "I was surprised when my niece said she learned R at school yesterday, and then I remembered she's 4 and she meant the letter. My priors are all too skewed.\n",
        "<br></br>\n",
        "Movie Pitch: It’s a movie about high school girls trying to figure out what clique they belong in. They move from clique to clique and eventually stop when they minimize their differences. It’s called K-Means girls."
      ]
    }
  ],
  "metadata": {
    "kernelspec": {
      "display_name": "Python 3 (ipykernel)",
      "language": "python",
      "name": "python3"
    }
  },
  "nbformat": 4,
  "nbformat_minor": 4
}
