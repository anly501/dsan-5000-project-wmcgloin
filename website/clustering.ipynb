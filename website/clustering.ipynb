{
  "cells": [
    {
      "cell_type": "raw",
      "metadata": {},
      "source": [
        "---\n",
        "title: Clustering\n",
        "format: html\n",
        "toc: true\n",
        "toc_depth: 3\n",
        "number sections: true\n",
        "code-fold: true\n",
        "---"
      ],
      "id": "be196033"
    },
    {
      "cell_type": "markdown",
      "metadata": {},
      "source": [
        "# Introduction\n",
        "\n",
        "On this page, I'll employ three clustering techniques to analyze Villanova's 2021-22 NCAA shot data (the same data from the dimensionality-reduction tab), considering all six features: lag1 (previous shot), shot_value, field_goal_percentage, game_num, home_crowd, and score_diff. The primary objective is to uncover patterns within the dataset through k-means, DBSCAN, and hierarchical clustering. Each step of the process will be explained in a straightfowrad manner with interpretations of the results.\n",
        "\n",
        "### Import libraries and load the dataset\n"
      ],
      "id": "fbd6cd61"
    },
    {
      "cell_type": "code",
      "metadata": {},
      "source": [
        "# import the necessary packages...\n",
        "import numpy as np\n",
        "import pandas as pd\n",
        "import seaborn as sns\n",
        "import matplotlib.pyplot as plt\n",
        "import sklearn\n",
        "\n",
        "# read in the feature dataset\n",
        "df = pd.read_csv('./data/modified_data/nova_features.csv')"
      ],
      "id": "a9e2cf2f",
      "execution_count": null,
      "outputs": []
    },
    {
      "cell_type": "markdown",
      "metadata": {},
      "source": [
        "# KMeans\n",
        "\n",
        "### Theory\n",
        "\n",
        "K-Means clustering, a widely recognized algorithm, is valued for its simplicity and effectiveness, making it particularly appealing in various applications. This technique involves grouping data points into 'k' clusters, where 'k' is a user-specified parameter. The algorithm starts by assigning random points to these clusters, with centroids acting as their centers. Distances, usually calculated using Euclidean distance, guide the process. Iteratively, points shift between clusters, and new centroids emerge through Lloyd's algorithm until no better cluster assignments are feasible.\n",
        "<br></br>\n",
        "K-Means' core lies in optimizing the sum of squared distances between data points and their assigned cluster mean. The choice of 'k' dictates the number of centroids, which represent cluster centers. The algorithm strategically redistributes points to minimize the in-cluster sum of squares. Its simplicity and widespread usage make it a fundamental tool in unsupervised machine learning, showcasing its ability to uncover inherent patterns in data.\n",
        "<br></br>\n",
        "In a broader context, K-Means clustering serves as a technique to group data points based on their similarity to an average grouping. Distance metrics, such as Euclidean or Manhattan distance, play a pivotal role, and normalizing input data becomes crucial for robust performance. Centroids, serving as the algorithm's starting point, evolve through successive iterations, refining cluster assignments and centroids' positions. The algorithm's convergence reveals meaningful clusters, transforming data chaos into structured insights. Implementation through sklearn's KMeans algorithm enhances efficiency, and feature selection enables practitioners to customize the clustering process to their data's nuances.\n",
        "\n",
        "### Implementation\n"
      ],
      "id": "11d59266"
    },
    {
      "cell_type": "code",
      "metadata": {},
      "source": [
        "# import relevent libraries for clustering. we will use KMeans, AgglomerativeClustering, MeanShift, Birch, and DBSCAN\n",
        "from sklearn.cluster import KMeans, AgglomerativeClustering, DBSCAN\n",
        "from sklearn.cluster import MeanShift, Birch\n",
        "from sklearn.metrics import pairwise_distances, silhouette_score\n",
        "import random"
      ],
      "id": "0bcfd95b",
      "execution_count": null,
      "outputs": []
    },
    {
      "cell_type": "markdown",
      "metadata": {},
      "source": [
        "The below code performs K-Means clustering for different numbers of clusters (ranging from 2 to 10). For each cluster number, it calculates and stores the distortion, which measures the average Euclidean distance between each data point and its assigned cluster center. Inertia is also computed and stored, representing the sum of squared distances of data points to their closest cluster center. Additionally, the silhouette score is determined and recorded, offering insights into how well-defined and separated the clusters are. The results, encompassing these crucial metrics—distortion, inertia, and silhouette score—are then organized into a DataFrame for detailed analysis and printed. This is in an attempt to identify the optimal number of clusters based on a comprehensive evaluation of these key clustering indicators.\n"
      ],
      "id": "c6aa2374"
    },
    {
      "cell_type": "code",
      "metadata": {},
      "source": [
        "import warnings\n",
        "warnings.filterwarnings('ignore')\n",
        "\n",
        "# Create empty lists to store the results\n",
        "clus = []\n",
        "distortions = []\n",
        "inertias = []\n",
        "silhouette_scores = []\n",
        "\n",
        "# Loop through the range of clusters\n",
        "for i in range(2, 11):  # Silhouette score is not defined for a single cluster\n",
        "    kmeans = KMeans(n_clusters=i, random_state=0)\n",
        "    kmeans.fit(df)  \n",
        "    clus.append(i)\n",
        "    centers = kmeans.cluster_centers_\n",
        "    distortions.append(sum(np.min(pairwise_distances(df, centers, metric='euclidean'), axis=1)) / df.shape[0])\n",
        "    inertias.append(kmeans.inertia_)\n",
        "    \n",
        "    # Calculate silhouette score\n",
        "    silhouette_scores.append(silhouette_score(df, kmeans.labels_))\n",
        "\n",
        "# Create a DataFrame from the lists\n",
        "results = pd.DataFrame({'Cluster': clus, 'Distortion': distortions, 'Inertia': inertias, 'Silhouette Score': silhouette_scores})\n",
        "\n",
        "print(results)"
      ],
      "id": "3d73c9f6",
      "execution_count": null,
      "outputs": []
    },
    {
      "cell_type": "markdown",
      "metadata": {},
      "source": [
        "Among the tested cluster counts (2 to 10), the silhouette score, a measure of cluster quality, is highest when there are three clusters. A silhouette score close to 1 indicates well-separated clusters. In this case, the silhouette score peaks at three clusters, suggesting that the data is most naturally organized into this number of distinct groups. This finding signifies a meaningful and clear grouping in the data, enabling better understanding and interpretation of underlying patterns.\n",
        "<br></br>\n",
        "The subsequent block of code generates three plots: one for distortion, one for inertia, and one for the silhouette score. Each plot has the number of clusters on the x-axis and the corresponding metric on the y-axis. These visualizations help interpret the results, allowing for the identification of trends and patterns.\n"
      ],
      "id": "c8d9fe99"
    },
    {
      "cell_type": "code",
      "metadata": {},
      "source": [
        "# Create subplots with 1 row and 3 columns\n",
        "fig, ax = plt.subplots(1, 3, figsize=(18, 4))\n",
        "\n",
        "# Plot Distortion\n",
        "ax[0].plot(results['Cluster'], results['Distortion'], marker='o')\n",
        "ax[0].set_title('Distortion')\n",
        "ax[0].set_xlabel('Cluster')\n",
        "ax[0].set_ylabel('Distortion')\n",
        "\n",
        "# Plot Inertia\n",
        "ax[1].plot(results['Cluster'], results['Inertia'], marker='o')\n",
        "ax[1].set_title('Inertia')\n",
        "ax[1].set_xlabel('Cluster')\n",
        "ax[1].set_ylabel('Inertia')\n",
        "\n",
        "# Plot Silhouette Score\n",
        "ax[2].plot(results['Cluster'], results['Silhouette Score'], marker='o')\n",
        "ax[2].set_title('Silhouette Score')\n",
        "ax[2].set_xlabel('Cluster')\n",
        "ax[2].set_ylabel('Silhouette Score')\n",
        "\n",
        "# Display the side-by-side plots\n",
        "plt.tight_layout()\n",
        "plt.show()"
      ],
      "id": "1b0df217",
      "execution_count": null,
      "outputs": []
    },
    {
      "cell_type": "markdown",
      "metadata": {},
      "source": [
        "The analysis of the graphs and results indicates that opting for 3 clusters is appropriate. The elbow and silhouette score methods suggest that this choice effectively captures meaningful patterns within the data. Having 3 clusters strikes a balance between simplicity and preserving relevant information. The subsequent 3D scatter plot visually represents the clustered data points in a three-dimensional space, offering a comprehensive view of the results.\n"
      ],
      "id": "66a6d0db"
    },
    {
      "cell_type": "code",
      "metadata": {},
      "source": [
        "pca_result = pd.read_csv('./data/modified_data/nova_pca.csv')\n",
        "\n",
        "import plotly.express as px\n",
        "\n",
        "kmeans = KMeans(n_clusters=3, random_state=0)\n",
        "kmeans.fit(df)\n",
        "\n",
        "# Get cluster labels\n",
        "labels = kmeans.labels_\n",
        "\n",
        "# Assuming pca_result has columns '0', '1', and '2'\n",
        "fig = px.scatter_3d(pca_result, x='0', y='1', z='2', color=labels, symbol=labels, opacity=0.7,\n",
        "                    size_max=10, title='3D Scatter Plot of PC1, PC2, and PC3 with Cluster Labels',\n",
        "                    labels={'0': 'Principal Component 1 (PC1)',\n",
        "                            '1': 'Principal Component 2 (PC2)',\n",
        "                            '2': 'Principal Component 3 (PC3)',\n",
        "                            'color': 'Cluster'},\n",
        "                    )\n",
        "fig.show()"
      ],
      "id": "5603a5e2",
      "execution_count": null,
      "outputs": []
    },
    {
      "cell_type": "markdown",
      "metadata": {},
      "source": [
        "# DBSCAN\n",
        "\n",
        "### Theory\n",
        "\n",
        "DBSCAN, or Density-Based Spatial Clustering of Applications with Noise, is a robust clustering algorithm that distinguishes clusters based on the density of data points, incorporating both distance metrics and a minimum number of points. Unlike K-Means, DBSCAN doesn't require users to specify the number of clusters ('k') in advance; instead, it dynamically identifies clusters by expanding neighborhoods around data points.\n",
        "<br></br>\n",
        "The algorithm starts by randomly selecting and expanding a neighborhood around a data point. If the density within this neighborhood is sufficient, a cluster is formed, and the process iterates until no more data points can be added. Outliers are identified as points in low-density regions. DBSCAN's strength lies in its ability to uncover clusters of arbitrary shapes and sizes, making it particularly valuable for datasets where the number of clusters is unknown.\n",
        "<br></br>\n",
        "DBSCAN requires two key parameters: epsilon (ε) and minimum samples. Epsilon defines the maximum distance between two points for them to be considered in the same cluster, while minimum samples specify the minimum number of points required in each cluster. Experimentation is often needed to find optimal parameters, as the algorithm's outcome is sensitive to these choices.\n",
        "<br></br>\n",
        "In summary, DBSCAN offers a unique approach to clustering, emphasizing data density over distances to centroids. Its flexibility in identifying clusters of varying shapes and the ability to mark outliers enhances its effectiveness in exploring complex datasets. Implementation through sklearn's DBSCAN module provides a practical means to apply this algorithm to diverse datasets.\n",
        "\n",
        "### Implementation\n",
        "\n",
        "The below code performs an exhaustive search for optimal parameters (epsilon and minimum samples) for the DBSCAN algorithm. It calculates silhouette scores for different combinations of epsilon values (z1) and minimum sample sizes (z2), aiming to identify the best configuration that yields the highest silhouette score and the corresponding number of clusters. The resulting dataframe, df1, is then printed and visualized with a line plot.\n"
      ],
      "id": "f4ca473b"
    },
    {
      "cell_type": "code",
      "metadata": {},
      "source": [
        "best_scores = []\n",
        "eps = []\n",
        "clus = []\n",
        "z1 = [i / 10 for i in range(5, 20)]\n",
        "z2 = range(2, 10) # explain why 2 to 10 or just do 1 to 10 but then u have to fix smth in the code if i dont remember wrong. i suggest explaining is a common assumption to do here\n",
        "\n",
        "for i in z1:\n",
        "    max_score = -1\n",
        "    best_cluster = -1\n",
        "    best_eps = -1\n",
        "    for j in z2:\n",
        "        model = DBSCAN(eps=i, min_samples=j)\n",
        "        predics = model.fit_predict(df)\n",
        "        num_clusters = len(pd.Series(predics).unique())\n",
        "        if num_clusters > 1:\n",
        "            score = silhouette_score(df, predics)\n",
        "            if score > max_score:\n",
        "                max_score = score\n",
        "                best_cluster = num_clusters\n",
        "                best_eps = i\n",
        "\n",
        "    best_scores.append(max_score)\n",
        "    clus.append(best_cluster)\n",
        "    eps.append(best_eps)\n",
        "\n",
        "df1 = pd.DataFrame({'Epsilons': eps, 'Best_Clusters': clus, 'Best_Silhouette': best_scores})\n",
        "print(df1.sort_values(by=\"Best_Silhouette\", ascending=False))\n",
        "sns.lineplot(data=df1, x='Best_Clusters',y='Best_Silhouette')\n",
        "plt.show()"
      ],
      "id": "af482aaf",
      "execution_count": null,
      "outputs": []
    },
    {
      "cell_type": "markdown",
      "metadata": {},
      "source": [
        "The results suggest that varying epsilon values from 0.5 to 0.9 consistently yield a high number of clusters (595) with a low silhouette score (0.065783). This pattern persists, indicating that DBSCAN struggles to identify distinct clusters, possibly due to the nature of the data. The diminishing silhouette scores as epsilon increases, coupled with the large number of clusters, may imply that this clustering method is not well-suited for the dataset. To validate this observation, hierarchical clustering and visualization through T-SNE plots will be explored for further confirmation.\n",
        "\n",
        "# Hierarchical Clustering (Agglomerative Clustering)\n",
        "\n",
        "### Theory\n",
        "\n",
        "Hierarchical Clustering, also known as Agglomerative Clustering, is a versatile algorithm that builds a hierarchy of clusters without the need to predefine the number of clusters. It treats each data point individually and progressively merges the closest clusters until forming a single cluster, using methods like Ward's method to calculate distances. The resulting linkage matrix constructs a dendrogram, enabling visualization of clustering hierarchy and facilitating the choice of cluster count. Normalizing input data is crucial for meaningful results, and the choice of linkage method, such as ward linkage, influences cluster formation.\n",
        "<br></br>\n",
        "Hierarchical Clustering focuses on finding clusters based on distance, repeatedly finding the two closest points and forming clusters until all points are assigned. The algorithm is sensitive to distance, requiring multiple runs with different distance values, and scaling the dataset to mitigate outlier effects. This method's adaptability and visualization through a dendrogram make it valuable for exploring data structures.\n",
        "\n",
        "### Implementation\n"
      ],
      "id": "ec60be4c"
    },
    {
      "cell_type": "code",
      "metadata": {},
      "source": [
        "from scipy.cluster.hierarchy import dendrogram, linkage\n",
        "from sklearn.cluster import AgglomerativeClustering\n",
        "\n",
        "hierarchical_cluster = AgglomerativeClustering(n_clusters=3, affinity='euclidean', linkage='ward') #chose 3 as that is the number of species. We could have changed it.\n",
        "labels = hierarchical_cluster.fit_predict(df)\n",
        "print(\"Cluster Labels total:\")\n",
        "print(list(set(labels)))"
      ],
      "id": "2d14e579",
      "execution_count": null,
      "outputs": []
    },
    {
      "cell_type": "markdown",
      "metadata": {},
      "source": [
        "Let's generates a dendrogram for Agglomerative Clustering, visualizing the hierarchical linkage between data points.\n"
      ],
      "id": "590d7924"
    },
    {
      "cell_type": "code",
      "metadata": {},
      "source": [
        "# create linkage for agglomerative clustering, and the dendrogram for the linkage. Suggest the optimal number of clusters based on the dendrogram.\n",
        "linkage_matrix = linkage(df, method='ward')\n",
        "\n",
        "plt.figure(figsize=(10, 5))\n",
        "dendrogram(linkage_matrix, orientation='top', labels=labels, distance_sort='ascending', show_leaf_counts=True)\n",
        "plt.show()"
      ],
      "id": "5d847043",
      "execution_count": null,
      "outputs": []
    },
    {
      "cell_type": "markdown",
      "metadata": {},
      "source": [
        "The below code defines a function that performs hierarchical clustering on input data, varying the number of clusters. It calculates silhouette scores for each clustering iteration and outputs the optimal number of clusters that maximizes the silhouette score, in addition to plotting a graph showing how the silhouette score changes with different cluster numbers. The last lines of code apply this function to the data.\n"
      ],
      "id": "13c14509"
    },
    {
      "cell_type": "code",
      "metadata": {},
      "source": [
        "from sklearn.cluster import AgglomerativeClustering\n",
        "from sklearn.metrics import silhouette_score\n",
        "import matplotlib.pyplot as plt\n",
        "import numpy as np\n",
        "import sklearn.cluster\n",
        "\n",
        "def maximize_silhouette(X, algo=\"ag\", nmax=None, i_plot=False):\n",
        "    # PARAM\n",
        "    i_print = False\n",
        "\n",
        "    # FORCE CONTIGUOUS\n",
        "    X = np.ascontiguousarray(X)\n",
        "\n",
        "    # LOOP OVER HYPER-PARAM\n",
        "    params = []\n",
        "    sil_scores = []\n",
        "    sil_max = -10\n",
        "\n",
        "    for param in range(2, nmax + 1):\n",
        "        if algo == \"ag\":\n",
        "            model = AgglomerativeClustering(n_clusters=param).fit(X)\n",
        "            labels = model.labels_\n",
        "            \n",
        "            try:\n",
        "                sil_scores.append(silhouette_score(X, labels))\n",
        "                params.append(param)\n",
        "            except ValueError:\n",
        "                continue\n",
        "\n",
        "            if i_print:\n",
        "                print(param, sil_scores[-1])\n",
        "\n",
        "            if sil_scores[-1] > sil_max:\n",
        "                opt_param = param\n",
        "                sil_max = sil_scores[-1]\n",
        "                opt_labels = labels\n",
        "\n",
        "    print(\"Maximum Silhouette score =\", sil_max)\n",
        "    print(\"OPTIMAL CLUSTERS (btwn 2-10) =\", opt_param)\n",
        "\n",
        "    if i_plot:\n",
        "        fig, ax = plt.subplots()\n",
        "        ax.plot(params, sil_scores, \"-o\")\n",
        "        ax.set(xlabel='Hyper-parameter', ylabel='Silhouette')\n",
        "        plt.show()\n",
        "\n",
        "    return opt_labels\n",
        "\n",
        "# Example usage:\n",
        "opt_labels = maximize_silhouette(df, algo=\"ag\", nmax=10, i_plot=True)"
      ],
      "id": "bee3e0e3",
      "execution_count": null,
      "outputs": []
    },
    {
      "cell_type": "markdown",
      "metadata": {},
      "source": [
        "The results from the code suggest that, within the considered range of 2 to 10 clusters, the maximum silhouette score for agglomerative clustering is achieved at 3 clusters, indicating it as the optimal number of clusters. This aligns with the observed trend in K-Means clustering, where both methods highlight 3 clusters as optimal based on the silhouette score.\n",
        "\n",
        "# Conclusions\n",
        "\n",
        "The analysis using K-Means and hierarchical clustering both implied the presence of three clusters within the dataset, providing a consistent pattern. However, DBSCAN did not seem well-suited for this dataset, suggesting varying performance across clustering methods. This indicates the potential for meaningful clustering, and further exploration in the Dimensionality Reduction tab may unveil clearer insights into the distinctive patterns within the data.\n",
        "\n",
        "# Extra Joke\n",
        "\n",
        "Movie Pitch: It’s a movie about high school girls trying to figure out what clique they belong in. They move from clique to clique and eventually stop when they minimize their differences. It’s called K-Means girls.\n",
        "<br></br>\n",
        "![](./images/mean_girls.gif)\n"
      ],
      "id": "3299beda"
    }
  ],
  "metadata": {
    "kernelspec": {
      "name": "python3",
      "language": "python",
      "display_name": "Python 3 (ipykernel)"
    }
  },
  "nbformat": 4,
  "nbformat_minor": 5
}