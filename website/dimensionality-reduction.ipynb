{
  "cells": [
    {
      "cell_type": "raw",
      "metadata": {},
      "source": [
        "---\n",
        "title: \"Dimensionality Reduction\"\n",
        "format: html\n",
        "toc: true\n",
        "toc_depth: 3 \n",
        "number sections: true \n",
        "code-fold: show\n",
        "---"
      ]
    },
    {
      "cell_type": "markdown",
      "metadata": {},
      "source": [
        "# Introduction"
      ]
    },
    {
      "cell_type": "markdown",
      "metadata": {},
      "source": [
        "outline objectives, dataset selection, and the tools or libraries you plan to use (e.g. Python, scikit-learn)"
      ]
    },
    {
      "cell_type": "markdown",
      "metadata": {},
      "source": [
        "# Dimensionality Reduction with PCA"
      ]
    },
    {
      "cell_type": "markdown",
      "metadata": {},
      "source": [
        "* apply PCA to record data\n",
        "* determine optimal number of principal components to retain\n",
        "* visualize the reduced-dimensional data using PCA\n",
        "* analyze and interpret the results\n",
        "<br></br>\n",
        "* make sure to include code and visualize results"
      ]
    },
    {
      "cell_type": "markdown",
      "metadata": {},
      "source": [
        "# Dimensionality Reduction with t-SNE"
      ]
    },
    {
      "cell_type": "markdown",
      "metadata": {},
      "source": [
        "* implement t-SNE on the same data\n",
        "* explore different perplexity values and their impact\n",
        "* visualize the t-SNE output to revail patterns and clusters\n",
        "<br></br>\n",
        "* make sure to include code"
      ]
    },
    {
      "cell_type": "markdown",
      "metadata": {},
      "source": [
        "# Evaluation & Comparison"
      ]
    },
    {
      "cell_type": "markdown",
      "metadata": {},
      "source": [
        "* compare results\n",
        "* evaluate the effectivness of PCA and t-SNE in terms of preserving data structure and information\n",
        "* compare the visualization capabiliteis of PCA and t-SNE\n",
        "* discuss the trade offs and scenarios where one technique may outperform the other\n",
        "* insights gained?"
      ]
    },
    {
      "cell_type": "markdown",
      "metadata": {},
      "source": [
        "# Extra Joke"
      ]
    },
    {
      "cell_type": "markdown",
      "metadata": {},
      "source": [
        "If we were compressed down to a single dimension... what would be the point of it all? \n",
        "<br></br>\n",
        "After a long time of procrastination I read that book about the 4th dimension. It's about time... \n",
        "<br></br>\n",
        "Wanna hear a good one liner? 1 Dimension"
      ]
    }
  ],
  "metadata": {
    "kernelspec": {
      "display_name": "Python 3 (ipykernel)",
      "language": "python",
      "name": "python3"
    }
  },
  "nbformat": 4,
  "nbformat_minor": 4
}
