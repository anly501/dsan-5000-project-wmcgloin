{
  "cells": [
    {
      "cell_type": "markdown",
      "metadata": {},
      "source": [
        "---\n",
        "title: \"Data Cleaning\"\n",
        "format: html\n",
        "toc: true\n",
        "toc_depth: 3 \n",
        "number sections: true \n",
        "code-fold: true\n",
        "---"
      ]
    },
    {
      "cell_type": "markdown",
      "metadata": {},
      "source": [
        "This page shows the raw data, the code used to clean it, and the modified data. It's a journal of my data cleaning process. Please be aware that this page contains both Python and R code, thus you should avoid running the source code all at once."
      ]
    },
    {
      "cell_type": "markdown",
      "metadata": {},
      "source": [
        "# ncaahoopR\n",
        "\n",
        "let's clean the Villanova 2021-22 data with R:"
      ]
    },
    {
      "cell_type": "markdown",
      "metadata": {},
      "source": [
        "here is a screen shot of the first few rows and columns of the raw data:\n",
        "<br></br>\n",
        "![raw data](./images/villanova2122raw.png)"
      ]
    },
    {
      "cell_type": "code",
      "execution_count": 7,
      "metadata": {
        "vscode": {
          "languageId": "r"
        }
      },
      "outputs": [],
      "source": [
        "library(tidyverse)"
      ]
    },
    {
      "cell_type": "code",
      "execution_count": 1,
      "metadata": {
        "vscode": {
          "languageId": "r"
        }
      },
      "outputs": [],
      "source": [
        "# let's load in the data\n",
        "nova2122 <- read.csv('./data/raw_data/villanova2122.csv')"
      ]
    },
    {
      "cell_type": "code",
      "execution_count": 2,
      "metadata": {
        "vscode": {
          "languageId": "r"
        }
      },
      "outputs": [
        {
          "data": {
            "text/html": [
              "<style>\n",
              ".list-inline {list-style: none; margin:0; padding: 0}\n",
              ".list-inline>li {display: inline-block}\n",
              ".list-inline>li:not(:last-child)::after {content: \"\\00b7\"; padding: 0 .5ex}\n",
              "</style>\n",
              "<ol class=list-inline><li>11405</li><li>39</li></ol>\n"
            ],
            "text/latex": [
              "\\begin{enumerate*}\n",
              "\\item 11405\n",
              "\\item 39\n",
              "\\end{enumerate*}\n"
            ],
            "text/markdown": [
              "1. 11405\n",
              "2. 39\n",
              "\n",
              "\n"
            ],
            "text/plain": [
              "[1] 11405    39"
            ]
          },
          "metadata": {},
          "output_type": "display_data"
        }
      ],
      "source": [
        "# let's check the shape of the data\n",
        "dim(nova2122)"
      ]
    },
    {
      "cell_type": "code",
      "execution_count": 3,
      "metadata": {
        "vscode": {
          "languageId": "r"
        }
      },
      "outputs": [
        {
          "data": {
            "text/html": [
              "<style>\n",
              ".list-inline {list-style: none; margin:0; padding: 0}\n",
              ".list-inline>li {display: inline-block}\n",
              ".list-inline>li:not(:last-child)::after {content: \"\\00b7\"; padding: 0 .5ex}\n",
              "</style>\n",
              "<ol class=list-inline><li>'game_id'</li><li>'date'</li><li>'home'</li><li>'away'</li><li>'play_id'</li><li>'half'</li><li>'time_remaining_half'</li><li>'secs_remaining'</li><li>'secs_remaining_absolute'</li><li>'description'</li><li>'action_team'</li><li>'home_score'</li><li>'away_score'</li><li>'score_diff'</li><li>'play_length'</li><li>'scoring_play'</li><li>'foul'</li><li>'win_prob'</li><li>'naive_win_prob'</li><li>'home_time_out_remaining'</li><li>'away_time_out_remaining'</li><li>'home_favored_by'</li><li>'total_line'</li><li>'referees'</li><li>'arena_location'</li><li>'arena'</li><li>'capacity'</li><li>'attendance'</li><li>'shot_x'</li><li>'shot_y'</li><li>'shot_team'</li><li>'shot_outcome'</li><li>'shooter'</li><li>'assist'</li><li>'three_pt'</li><li>'free_throw'</li><li>'possession_before'</li><li>'possession_after'</li><li>'wrong_time'</li></ol>\n"
            ],
            "text/latex": [
              "\\begin{enumerate*}\n",
              "\\item 'game\\_id'\n",
              "\\item 'date'\n",
              "\\item 'home'\n",
              "\\item 'away'\n",
              "\\item 'play\\_id'\n",
              "\\item 'half'\n",
              "\\item 'time\\_remaining\\_half'\n",
              "\\item 'secs\\_remaining'\n",
              "\\item 'secs\\_remaining\\_absolute'\n",
              "\\item 'description'\n",
              "\\item 'action\\_team'\n",
              "\\item 'home\\_score'\n",
              "\\item 'away\\_score'\n",
              "\\item 'score\\_diff'\n",
              "\\item 'play\\_length'\n",
              "\\item 'scoring\\_play'\n",
              "\\item 'foul'\n",
              "\\item 'win\\_prob'\n",
              "\\item 'naive\\_win\\_prob'\n",
              "\\item 'home\\_time\\_out\\_remaining'\n",
              "\\item 'away\\_time\\_out\\_remaining'\n",
              "\\item 'home\\_favored\\_by'\n",
              "\\item 'total\\_line'\n",
              "\\item 'referees'\n",
              "\\item 'arena\\_location'\n",
              "\\item 'arena'\n",
              "\\item 'capacity'\n",
              "\\item 'attendance'\n",
              "\\item 'shot\\_x'\n",
              "\\item 'shot\\_y'\n",
              "\\item 'shot\\_team'\n",
              "\\item 'shot\\_outcome'\n",
              "\\item 'shooter'\n",
              "\\item 'assist'\n",
              "\\item 'three\\_pt'\n",
              "\\item 'free\\_throw'\n",
              "\\item 'possession\\_before'\n",
              "\\item 'possession\\_after'\n",
              "\\item 'wrong\\_time'\n",
              "\\end{enumerate*}\n"
            ],
            "text/markdown": [
              "1. 'game_id'\n",
              "2. 'date'\n",
              "3. 'home'\n",
              "4. 'away'\n",
              "5. 'play_id'\n",
              "6. 'half'\n",
              "7. 'time_remaining_half'\n",
              "8. 'secs_remaining'\n",
              "9. 'secs_remaining_absolute'\n",
              "10. 'description'\n",
              "11. 'action_team'\n",
              "12. 'home_score'\n",
              "13. 'away_score'\n",
              "14. 'score_diff'\n",
              "15. 'play_length'\n",
              "16. 'scoring_play'\n",
              "17. 'foul'\n",
              "18. 'win_prob'\n",
              "19. 'naive_win_prob'\n",
              "20. 'home_time_out_remaining'\n",
              "21. 'away_time_out_remaining'\n",
              "22. 'home_favored_by'\n",
              "23. 'total_line'\n",
              "24. 'referees'\n",
              "25. 'arena_location'\n",
              "26. 'arena'\n",
              "27. 'capacity'\n",
              "28. 'attendance'\n",
              "29. 'shot_x'\n",
              "30. 'shot_y'\n",
              "31. 'shot_team'\n",
              "32. 'shot_outcome'\n",
              "33. 'shooter'\n",
              "34. 'assist'\n",
              "35. 'three_pt'\n",
              "36. 'free_throw'\n",
              "37. 'possession_before'\n",
              "38. 'possession_after'\n",
              "39. 'wrong_time'\n",
              "\n",
              "\n"
            ],
            "text/plain": [
              " [1] \"game_id\"                 \"date\"                   \n",
              " [3] \"home\"                    \"away\"                   \n",
              " [5] \"play_id\"                 \"half\"                   \n",
              " [7] \"time_remaining_half\"     \"secs_remaining\"         \n",
              " [9] \"secs_remaining_absolute\" \"description\"            \n",
              "[11] \"action_team\"             \"home_score\"             \n",
              "[13] \"away_score\"              \"score_diff\"             \n",
              "[15] \"play_length\"             \"scoring_play\"           \n",
              "[17] \"foul\"                    \"win_prob\"               \n",
              "[19] \"naive_win_prob\"          \"home_time_out_remaining\"\n",
              "[21] \"away_time_out_remaining\" \"home_favored_by\"        \n",
              "[23] \"total_line\"              \"referees\"               \n",
              "[25] \"arena_location\"          \"arena\"                  \n",
              "[27] \"capacity\"                \"attendance\"             \n",
              "[29] \"shot_x\"                  \"shot_y\"                 \n",
              "[31] \"shot_team\"               \"shot_outcome\"           \n",
              "[33] \"shooter\"                 \"assist\"                 \n",
              "[35] \"three_pt\"                \"free_throw\"             \n",
              "[37] \"possession_before\"       \"possession_after\"       \n",
              "[39] \"wrong_time\"             "
            ]
          },
          "metadata": {},
          "output_type": "display_data"
        }
      ],
      "source": [
        "# what are the column names?\n",
        "colnames(nova2122)"
      ]
    },
    {
      "cell_type": "code",
      "execution_count": 4,
      "metadata": {
        "vscode": {
          "languageId": "r"
        }
      },
      "outputs": [
        {
          "data": {
            "text/html": [
              "<style>\n",
              ".list-inline {list-style: none; margin:0; padding: 0}\n",
              ".list-inline>li {display: inline-block}\n",
              ".list-inline>li:not(:last-child)::after {content: \"\\00b7\"; padding: 0 .5ex}\n",
              "</style>\n",
              "<ol class=list-inline><li>5399</li><li>39</li></ol>\n"
            ],
            "text/latex": [
              "\\begin{enumerate*}\n",
              "\\item 5399\n",
              "\\item 39\n",
              "\\end{enumerate*}\n"
            ],
            "text/markdown": [
              "1. 5399\n",
              "2. 39\n",
              "\n",
              "\n"
            ],
            "text/plain": [
              "[1] 5399   39"
            ]
          },
          "metadata": {},
          "output_type": "display_data"
        }
      ],
      "source": [
        "# this data looks relatively clean, but we want only shooting data\n",
        "# let's get rid of rows where there isn't a shooter\n",
        "# this would be rows where the shooter is NA\n",
        "# such as a turnover, steal, rebound, or block\n",
        "nova2122 <- nova2122 %>%\n",
        "  filter(!is.na(shooter))\n",
        "\n",
        "# let's check the shape of the data\n",
        "dim(nova2122)"
      ]
    },
    {
      "cell_type": "code",
      "execution_count": 6,
      "metadata": {
        "vscode": {
          "languageId": "r"
        }
      },
      "outputs": [],
      "source": [
        "# we can see that we removed about 5,000 rows and are left with just a little over half the initial data\n",
        "\n",
        "# only taking the columns I want from this dataset\n",
        "sample <- nova2122 %>% select(game_id, play_id, half, shooter, shot_outcome, home, away, action_team)\n",
        "\n",
        "#creating a new column shooter_team\n",
        "sample <- sample %>%\n",
        "  mutate(\n",
        "    shooter_team = ifelse(action_team == \"home\", home, away))\n",
        "\n",
        "# Specifying columns to drop and removing them from the dataframe\n",
        "columns_to_drop <- c(\"home\", \"away\", \"action_team\")\n",
        "\n",
        "sample <- sample %>%\n",
        "  select(-one_of(columns_to_drop))\n",
        "\n",
        "#I want to create a previous_shots column that says how many shots the shooter has made or missed in a row before the current shot they are taking\n",
        "sample <- sample %>%\n",
        "  mutate(\n",
        "    shot_outcome_numeric = ifelse(shot_outcome == \"made\", 1, -1)\n",
        "  )\n",
        "\n",
        "sample <- sample %>%\n",
        "  group_by(game_id, half, shooter) %>%\n",
        "  arrange(play_id) %>%\n",
        "  mutate(\n",
        "    shot_sequence = cumsum(shot_outcome_numeric)) %>%\n",
        "  ungroup()\n",
        "\n",
        "sample3 <- sample %>%\n",
        "  mutate(\n",
        "    shot_sequence = ifelse(shot_outcome == \"made\" & shot_sequence <= 0, 1,\n",
        "                  ifelse(shot_outcome == \"missed\" & shot_sequence >= 0, -1, shot_sequence))\n",
        "  )\n",
        "\n",
        "sample3 <- sample3 %>%\n",
        "  group_by(game_id, half, shooter) %>%\n",
        "  arrange(play_id) %>%\n",
        "  mutate(\n",
        "    previous_shots = ifelse(row_number() == 1, 0, lag(shot_sequence, default = 0))\n",
        "  ) %>%\n",
        "  ungroup()\n",
        "\n",
        "write.csv(sample3, file = \"./data/modified_data/nova2122.csv\", row.names = FALSE)"
      ]
    },
    {
      "cell_type": "markdown",
      "metadata": {},
      "source": [
        "Here is a screen shot of the modified data: \n",
        "<br></br>\n",
        "![modified data](./images/nova2122clean.png)"
      ]
    },
    {
      "cell_type": "markdown",
      "metadata": {},
      "source": [
        "### 2019-20 Season cleaning"
      ]
    },
    {
      "cell_type": "code",
      "execution_count": 12,
      "metadata": {
        "vscode": {
          "languageId": "r"
        }
      },
      "outputs": [],
      "source": [
        "# let's load in the data\n",
        "nova1920 <- read.csv('./data/raw_data/villanova1920.csv')"
      ]
    },
    {
      "cell_type": "code",
      "execution_count": 16,
      "metadata": {
        "vscode": {
          "languageId": "r"
        }
      },
      "outputs": [
        {
          "data": {
            "text/html": [
              "<style>\n",
              ".list-inline {list-style: none; margin:0; padding: 0}\n",
              ".list-inline>li {display: inline-block}\n",
              ".list-inline>li:not(:last-child)::after {content: \"\\00b7\"; padding: 0 .5ex}\n",
              "</style>\n",
              "<ol class=list-inline><li>9581</li><li>39</li></ol>\n"
            ],
            "text/latex": [
              "\\begin{enumerate*}\n",
              "\\item 9581\n",
              "\\item 39\n",
              "\\end{enumerate*}\n"
            ],
            "text/markdown": [
              "1. 9581\n",
              "2. 39\n",
              "\n",
              "\n"
            ],
            "text/plain": [
              "[1] 9581   39"
            ]
          },
          "metadata": {},
          "output_type": "display_data"
        }
      ],
      "source": [
        "# let's check the shape of the data\n",
        "dim(nova1920)"
      ]
    },
    {
      "cell_type": "code",
      "execution_count": 17,
      "metadata": {
        "vscode": {
          "languageId": "r"
        }
      },
      "outputs": [
        {
          "data": {
            "text/html": [
              "<style>\n",
              ".list-inline {list-style: none; margin:0; padding: 0}\n",
              ".list-inline>li {display: inline-block}\n",
              ".list-inline>li:not(:last-child)::after {content: \"\\00b7\"; padding: 0 .5ex}\n",
              "</style>\n",
              "<ol class=list-inline><li>'game_id'</li><li>'date'</li><li>'home'</li><li>'away'</li><li>'play_id'</li><li>'half'</li><li>'time_remaining_half'</li><li>'secs_remaining'</li><li>'secs_remaining_absolute'</li><li>'description'</li><li>'action_team'</li><li>'home_score'</li><li>'away_score'</li><li>'score_diff'</li><li>'play_length'</li><li>'scoring_play'</li><li>'foul'</li><li>'win_prob'</li><li>'naive_win_prob'</li><li>'home_time_out_remaining'</li><li>'away_time_out_remaining'</li><li>'home_favored_by'</li><li>'total_line'</li><li>'referees'</li><li>'arena_location'</li><li>'arena'</li><li>'capacity'</li><li>'attendance'</li><li>'shot_x'</li><li>'shot_y'</li><li>'shot_team'</li><li>'shot_outcome'</li><li>'shooter'</li><li>'assist'</li><li>'three_pt'</li><li>'free_throw'</li><li>'possession_before'</li><li>'possession_after'</li><li>'wrong_time'</li></ol>\n"
            ],
            "text/latex": [
              "\\begin{enumerate*}\n",
              "\\item 'game\\_id'\n",
              "\\item 'date'\n",
              "\\item 'home'\n",
              "\\item 'away'\n",
              "\\item 'play\\_id'\n",
              "\\item 'half'\n",
              "\\item 'time\\_remaining\\_half'\n",
              "\\item 'secs\\_remaining'\n",
              "\\item 'secs\\_remaining\\_absolute'\n",
              "\\item 'description'\n",
              "\\item 'action\\_team'\n",
              "\\item 'home\\_score'\n",
              "\\item 'away\\_score'\n",
              "\\item 'score\\_diff'\n",
              "\\item 'play\\_length'\n",
              "\\item 'scoring\\_play'\n",
              "\\item 'foul'\n",
              "\\item 'win\\_prob'\n",
              "\\item 'naive\\_win\\_prob'\n",
              "\\item 'home\\_time\\_out\\_remaining'\n",
              "\\item 'away\\_time\\_out\\_remaining'\n",
              "\\item 'home\\_favored\\_by'\n",
              "\\item 'total\\_line'\n",
              "\\item 'referees'\n",
              "\\item 'arena\\_location'\n",
              "\\item 'arena'\n",
              "\\item 'capacity'\n",
              "\\item 'attendance'\n",
              "\\item 'shot\\_x'\n",
              "\\item 'shot\\_y'\n",
              "\\item 'shot\\_team'\n",
              "\\item 'shot\\_outcome'\n",
              "\\item 'shooter'\n",
              "\\item 'assist'\n",
              "\\item 'three\\_pt'\n",
              "\\item 'free\\_throw'\n",
              "\\item 'possession\\_before'\n",
              "\\item 'possession\\_after'\n",
              "\\item 'wrong\\_time'\n",
              "\\end{enumerate*}\n"
            ],
            "text/markdown": [
              "1. 'game_id'\n",
              "2. 'date'\n",
              "3. 'home'\n",
              "4. 'away'\n",
              "5. 'play_id'\n",
              "6. 'half'\n",
              "7. 'time_remaining_half'\n",
              "8. 'secs_remaining'\n",
              "9. 'secs_remaining_absolute'\n",
              "10. 'description'\n",
              "11. 'action_team'\n",
              "12. 'home_score'\n",
              "13. 'away_score'\n",
              "14. 'score_diff'\n",
              "15. 'play_length'\n",
              "16. 'scoring_play'\n",
              "17. 'foul'\n",
              "18. 'win_prob'\n",
              "19. 'naive_win_prob'\n",
              "20. 'home_time_out_remaining'\n",
              "21. 'away_time_out_remaining'\n",
              "22. 'home_favored_by'\n",
              "23. 'total_line'\n",
              "24. 'referees'\n",
              "25. 'arena_location'\n",
              "26. 'arena'\n",
              "27. 'capacity'\n",
              "28. 'attendance'\n",
              "29. 'shot_x'\n",
              "30. 'shot_y'\n",
              "31. 'shot_team'\n",
              "32. 'shot_outcome'\n",
              "33. 'shooter'\n",
              "34. 'assist'\n",
              "35. 'three_pt'\n",
              "36. 'free_throw'\n",
              "37. 'possession_before'\n",
              "38. 'possession_after'\n",
              "39. 'wrong_time'\n",
              "\n",
              "\n"
            ],
            "text/plain": [
              " [1] \"game_id\"                 \"date\"                   \n",
              " [3] \"home\"                    \"away\"                   \n",
              " [5] \"play_id\"                 \"half\"                   \n",
              " [7] \"time_remaining_half\"     \"secs_remaining\"         \n",
              " [9] \"secs_remaining_absolute\" \"description\"            \n",
              "[11] \"action_team\"             \"home_score\"             \n",
              "[13] \"away_score\"              \"score_diff\"             \n",
              "[15] \"play_length\"             \"scoring_play\"           \n",
              "[17] \"foul\"                    \"win_prob\"               \n",
              "[19] \"naive_win_prob\"          \"home_time_out_remaining\"\n",
              "[21] \"away_time_out_remaining\" \"home_favored_by\"        \n",
              "[23] \"total_line\"              \"referees\"               \n",
              "[25] \"arena_location\"          \"arena\"                  \n",
              "[27] \"capacity\"                \"attendance\"             \n",
              "[29] \"shot_x\"                  \"shot_y\"                 \n",
              "[31] \"shot_team\"               \"shot_outcome\"           \n",
              "[33] \"shooter\"                 \"assist\"                 \n",
              "[35] \"three_pt\"                \"free_throw\"             \n",
              "[37] \"possession_before\"       \"possession_after\"       \n",
              "[39] \"wrong_time\"             "
            ]
          },
          "metadata": {},
          "output_type": "display_data"
        }
      ],
      "source": [
        "# what are the column names?\n",
        "colnames(nova1920)"
      ]
    },
    {
      "cell_type": "code",
      "execution_count": 18,
      "metadata": {
        "vscode": {
          "languageId": "r"
        }
      },
      "outputs": [
        {
          "data": {
            "text/html": [
              "<style>\n",
              ".list-inline {list-style: none; margin:0; padding: 0}\n",
              ".list-inline>li {display: inline-block}\n",
              ".list-inline>li:not(:last-child)::after {content: \"\\00b7\"; padding: 0 .5ex}\n",
              "</style>\n",
              "<ol class=list-inline><li>4543</li><li>39</li></ol>\n"
            ],
            "text/latex": [
              "\\begin{enumerate*}\n",
              "\\item 4543\n",
              "\\item 39\n",
              "\\end{enumerate*}\n"
            ],
            "text/markdown": [
              "1. 4543\n",
              "2. 39\n",
              "\n",
              "\n"
            ],
            "text/plain": [
              "[1] 4543   39"
            ]
          },
          "metadata": {},
          "output_type": "display_data"
        }
      ],
      "source": [
        "# this data looks relatively clean, but we want only shooting data\n",
        "# let's get rid of rows where there isn't a shooter\n",
        "# this would be rows where the shooter is NA\n",
        "# such as a turnover, steal, rebound, or block\n",
        "nova1920 <- nova1920 %>%\n",
        "  filter(!is.na(shooter))\n",
        "\n",
        "# let's check the shape of the data\n",
        "dim(nova1920)"
      ]
    },
    {
      "cell_type": "code",
      "execution_count": 19,
      "metadata": {
        "vscode": {
          "languageId": "r"
        }
      },
      "outputs": [],
      "source": [
        "# we can see that we removed about 5,000 rows and are left with just a little over half the initial data\n",
        "\n",
        "# only taking the columns I want from this dataset\n",
        "sample <- nova1920 %>% select(game_id, play_id, half, shooter, shot_outcome, home, away, action_team)\n",
        "\n",
        "#creating a new column shooter_team\n",
        "sample <- sample %>%\n",
        "  mutate(\n",
        "    shooter_team = ifelse(action_team == \"home\", home, away))\n",
        "\n",
        "# Specifying columns to drop and removing them from the dataframe\n",
        "columns_to_drop <- c(\"home\", \"away\", \"action_team\")\n",
        "\n",
        "sample <- sample %>%\n",
        "  select(-one_of(columns_to_drop))\n",
        "\n",
        "#I want to create a previous_shots column that says how many shots the shooter has made or missed in a row before the current shot they are taking\n",
        "sample <- sample %>%\n",
        "  mutate(\n",
        "    shot_outcome_numeric = ifelse(shot_outcome == \"made\", 1, -1)\n",
        "  )\n",
        "\n",
        "sample <- sample %>%\n",
        "  group_by(game_id, half, shooter) %>%\n",
        "  arrange(play_id) %>%\n",
        "  mutate(\n",
        "    shot_sequence = cumsum(shot_outcome_numeric)) %>%\n",
        "  ungroup()\n",
        "\n",
        "sample3 <- sample %>%\n",
        "  mutate(\n",
        "    shot_sequence = ifelse(shot_outcome == \"made\" & shot_sequence <= 0, 1,\n",
        "                  ifelse(shot_outcome == \"missed\" & shot_sequence >= 0, -1, shot_sequence))\n",
        "  )\n",
        "\n",
        "sample3 <- sample3 %>%\n",
        "  group_by(game_id, half, shooter) %>%\n",
        "  arrange(play_id) %>%\n",
        "  mutate(\n",
        "    previous_shots = ifelse(row_number() == 1, 0, lag(shot_sequence, default = 0))\n",
        "  ) %>%\n",
        "  ungroup()\n",
        "\n",
        "write.csv(sample3, file = \"./data/modified_data/nova1920.csv\", row.names = FALSE)"
      ]
    },
    {
      "cell_type": "markdown",
      "metadata": {},
      "source": [
        "# newsapi\n",
        "\n",
        "let's clean this using python:\n",
        "<br></br>\n",
        "here is a picture of the first few rows of the raw data:\n",
        "<br></br>\n",
        "![raw data](./images/newsapi.png)"
      ]
    },
    {
      "cell_type": "code",
      "execution_count": 1,
      "metadata": {
        "vscode": {
          "languageId": "r"
        }
      },
      "outputs": [],
      "source": [
        "import pandas as pd\n",
        "import numpy as np\n",
        "from sklearn.feature_extraction.text import CountVectorizer"
      ]
    },
    {
      "cell_type": "code",
      "execution_count": null,
      "metadata": {
        "vscode": {
          "languageId": "r"
        }
      },
      "outputs": [],
      "source": [
        "# Load the sentiment scores from the JSON file\n",
        "with open('sentiment_scores.json', 'r') as json_file:\n",
        "    sentiment_scores = json.load(json_file)\n",
        "\n",
        "# Create lists to store data\n",
        "titles = []  # List to store document titles\n",
        "descriptions = []   # List to store document descriptions\n",
        "sentiment_labels = []  # List to store sentiment labels\n",
        "\n",
        "# Extract the scores, titles, descriptions, and labels\n",
        "for idx, item in enumerate(sentiment_scores, start=1):\n",
        "    titles.append(item.get('title', ''))  # Get the title of the document\n",
        "    descriptions.append(item.get('description', ''))    # Get the description of the document\n",
        "    sentiment_score = item.get('sentiment_score', {})\n",
        "    \n",
        "    # Determine the sentiment label based on the compound score\n",
        "    if sentiment_score.get('compound', 0) > 0:\n",
        "        sentiment_labels.append('positive')\n",
        "    elif sentiment_score.get('compound', 0) == 0:\n",
        "        sentiment_labels.append('neutral')\n",
        "    else:\n",
        "        sentiment_labels.append('negative')\n",
        "\n",
        "# Create a DataFrame\n",
        "data = {\n",
        "    'Title': titles,\n",
        "    'Description': descriptions,\n",
        "    'Sentiment Label': sentiment_labels\n",
        "}\n",
        "\n",
        "df_with_labels = pd.DataFrame(data)\n",
        "\n",
        "# Save to CSV\n",
        "df_with_labels.to_csv('./data/modified_data/sentiment_scores_with_titles.csv', index=False)"
      ]
    },
    {
      "cell_type": "markdown",
      "metadata": {},
      "source": [
        "# individual player data\n",
        "\n",
        "let's clean the aaron judge game data with python:"
      ]
    },
    {
      "cell_type": "markdown",
      "metadata": {},
      "source": [
        "here is a screen shot of the first few rows of the raw data:\n",
        "<br></br>\n",
        "![raw data](./images/judge2.png)"
      ]
    },
    {
      "cell_type": "code",
      "execution_count": null,
      "metadata": {
        "vscode": {
          "languageId": "r"
        }
      },
      "outputs": [],
      "source": [
        "import pandas as pd\n",
        "import numpy as np"
      ]
    },
    {
      "cell_type": "code",
      "execution_count": 80,
      "metadata": {
        "vscode": {
          "languageId": "r"
        }
      },
      "outputs": [],
      "source": [
        "#reading in the file\n",
        "aaronjudge = pd.read_csv('./data/raw_data/AaronJudgeData.csv')"
      ]
    },
    {
      "cell_type": "code",
      "execution_count": 81,
      "metadata": {
        "vscode": {
          "languageId": "r"
        }
      },
      "outputs": [
        {
          "data": {
            "text/plain": [
              "(111, 37)"
            ]
          },
          "execution_count": 81,
          "metadata": {},
          "output_type": "execute_result"
        }
      ],
      "source": [
        "#how many rows are in this dataset?\n",
        "aaronjudge.shape"
      ]
    },
    {
      "cell_type": "code",
      "execution_count": 82,
      "metadata": {
        "vscode": {
          "languageId": "r"
        }
      },
      "outputs": [
        {
          "data": {
            "text/plain": [
              "Index(['Date', 'Team', 'Opp', 'BO', 'Pos', 'PA', 'H', '2B', '3B', 'HR', 'R',\n",
              "       'RBI', 'SB', 'CS', 'BB%', 'K%', 'ISO', 'BABIP', 'EV', 'AVG', 'OBP',\n",
              "       'SLG', 'wOBA', 'wRC+', 'Date.1', 'Team.1', 'Opp.1', 'BO.1', 'Pos.1',\n",
              "       'Events', 'EV.1', 'maxEV', 'LA', 'Barrels', 'Barrel%', 'HardHit',\n",
              "       'HardHit%'],\n",
              "      dtype='object')"
            ]
          },
          "execution_count": 82,
          "metadata": {},
          "output_type": "execute_result"
        }
      ],
      "source": [
        "#what are the column names?\n",
        "aaronjudge.columns"
      ]
    },
    {
      "cell_type": "code",
      "execution_count": 83,
      "metadata": {
        "vscode": {
          "languageId": "r"
        }
      },
      "outputs": [
        {
          "data": {
            "text/plain": [
              "Index(['Date', 'Team', 'Opp', 'BO', 'Pos', 'PA', 'H', '2B', '3B', 'HR', 'R',\n",
              "       'RBI', 'SB', 'CS', 'BB%', 'K%', 'ISO', 'BABIP', 'EV', 'AVG', 'OBP',\n",
              "       'SLG', 'wOBA', 'wRC+', 'Events', 'EV.1', 'maxEV', 'LA', 'Barrels',\n",
              "       'Barrel%', 'HardHit', 'HardHit%'],\n",
              "      dtype='object')"
            ]
          },
          "execution_count": 83,
          "metadata": {},
          "output_type": "execute_result"
        }
      ],
      "source": [
        "#removing the repeated columns\n",
        "columns_to_remove = ['Date.1', 'Team.1', 'Opp.1', 'BO.1', 'Pos.1']\n",
        "aaronjudge.drop(columns=columns_to_remove, inplace=True)\n",
        "aaronjudge.columns"
      ]
    },
    {
      "cell_type": "code",
      "execution_count": 84,
      "metadata": {
        "vscode": {
          "languageId": "r"
        }
      },
      "outputs": [
        {
          "name": "stdout",
          "output_type": "stream",
          "text": [
            "5\n"
          ]
        }
      ],
      "source": [
        "# i belive the initial row with the column names is repeated throughou the data. let's check\n",
        "print((aaronjudge['Date'] == 'Date').sum())"
      ]
    },
    {
      "cell_type": "code",
      "execution_count": 85,
      "metadata": {
        "vscode": {
          "languageId": "r"
        }
      },
      "outputs": [
        {
          "data": {
            "text/plain": [
              "(106, 32)"
            ]
          },
          "execution_count": 85,
          "metadata": {},
          "output_type": "execute_result"
        }
      ],
      "source": [
        "# let's remove these rows and then check the shape again\n",
        "aaronjudge.drop(aaronjudge[aaronjudge['Date'] == 'Date'].index, inplace=True)\n",
        "aaronjudge.shape"
      ]
    },
    {
      "cell_type": "code",
      "execution_count": 86,
      "metadata": {
        "vscode": {
          "languageId": "r"
        }
      },
      "outputs": [
        {
          "data": {
            "text/plain": [
              "(105, 32)"
            ]
          },
          "execution_count": 86,
          "metadata": {},
          "output_type": "execute_result"
        }
      ],
      "source": [
        "# there is also a total row which I want to remove as well. let's do that now\n",
        "aaronjudge.drop(aaronjudge[aaronjudge['Date'] == 'Total'].index, inplace=True)\n",
        "aaronjudge.shape"
      ]
    },
    {
      "cell_type": "code",
      "execution_count": 87,
      "metadata": {
        "vscode": {
          "languageId": "r"
        }
      },
      "outputs": [
        {
          "name": "stdout",
          "output_type": "stream",
          "text": [
            "home    53\n",
            "away    52\n",
            "Name: location, dtype: int64\n"
          ]
        }
      ],
      "source": [
        "# so far, I have removed 6 rows and 5 columns. \n",
        "\n",
        "# I want to create a \"location\" column based on the \"@\" in the \"Opp\" column\n",
        "aaronjudge['location'] = aaronjudge['Opp'].apply(lambda x: 'away' if '@' in x else 'home')\n",
        "\n",
        "# Remove the \"@\" symbol from the values in the \"Opp\" column\n",
        "aaronjudge['Opp'] = aaronjudge['Opp'].str.replace('@', '')\n",
        "\n",
        "# check value counts of the new \"location\" column\n",
        "print(aaronjudge['location'].value_counts()) #this seems accurate"
      ]
    },
    {
      "cell_type": "code",
      "execution_count": 88,
      "metadata": {
        "vscode": {
          "languageId": "r"
        }
      },
      "outputs": [
        {
          "name": "stdout",
          "output_type": "stream",
          "text": [
            "object\n",
            "object\n"
          ]
        }
      ],
      "source": [
        "print(aaronjudge['PA'].dtype)\n",
        "print(aaronjudge['BB%'].dtype)"
      ]
    },
    {
      "cell_type": "code",
      "execution_count": 89,
      "metadata": {
        "vscode": {
          "languageId": "r"
        }
      },
      "outputs": [
        {
          "name": "stdout",
          "output_type": "stream",
          "text": [
            "3.4857333333333336\n",
            "4.314285714285714\n"
          ]
        }
      ],
      "source": [
        "# I want to create two new columns. The number of at bats per each game and the number of hard hits in each game. \n",
        "# for this project, we are going to calculate at-bats as should be the number of plate appearances minus walks (sacrifices and HBP are not included in this dataset)\n",
        "\n",
        "#first i have to remove the '%' symbol and convert 'BB%' to a float\n",
        "\n",
        "aaronjudge['BB%'] = aaronjudge['BB%'].astype(str)\n",
        "aaronjudge['BB%'] = aaronjudge['BB%'].str.rstrip('%').astype(float) / 100.0\n",
        "\n",
        "# Round the 'BB%' column to three decimal places\n",
        "aaronjudge['BB%'] = aaronjudge['BB%'].round(3)\n",
        "\n",
        "#print(aaronjudge['BB%'].mean())\n",
        "\n",
        "#convert 'PA' to a float\n",
        "aaronjudge['PA'] = aaronjudge['PA'].astype(float)\n",
        "\n",
        "# now I can create the new at_bats column\n",
        "aaronjudge['at_bats'] = aaronjudge['PA'] * (1 - aaronjudge['BB%'])\n",
        "\n",
        "#now lets see the average number of at bats vs the average number of plate appearances\n",
        "print(aaronjudge['at_bats'].mean())\n",
        "print(aaronjudge['PA'].mean())"
      ]
    },
    {
      "cell_type": "code",
      "execution_count": 90,
      "metadata": {
        "vscode": {
          "languageId": "r"
        }
      },
      "outputs": [
        {
          "name": "stdout",
          "output_type": "stream",
          "text": [
            "object\n",
            "object\n"
          ]
        }
      ],
      "source": [
        "# now I want to create a new column for hard hits per game\n",
        "# we can do this by multiplying the hard hit percentage by the events column (these columns were part of a different table that was merged with the original table)\n",
        "\n",
        "print(aaronjudge['HardHit%'].dtype)\n",
        "print(aaronjudge['Events'].dtype)"
      ]
    },
    {
      "cell_type": "code",
      "execution_count": 91,
      "metadata": {
        "vscode": {
          "languageId": "r"
        }
      },
      "outputs": [
        {
          "name": "stdout",
          "output_type": "stream",
          "text": [
            "1.52\n"
          ]
        }
      ],
      "source": [
        "# this code is very similar to what we just did\n",
        "\n",
        "#first i have to remove the '%' symbol and convert 'HardHit%' to a float\n",
        "\n",
        "aaronjudge['HardHit%'] = aaronjudge['HardHit%'].astype(str)\n",
        "aaronjudge['HardHit%'] = aaronjudge['HardHit%'].str.rstrip('%').astype(float) / 100.0\n",
        "\n",
        "# Round the 'HardHit%' column to three decimal places\n",
        "aaronjudge['HardHit%'] = aaronjudge['HardHit%'].round(3)\n",
        "\n",
        "#print(aaronjudge['HardHit%'].mean())\n",
        "\n",
        "#convert 'Events' to a float\n",
        "aaronjudge['Events'] = aaronjudge['Events'].astype(float)\n",
        "\n",
        "# now I can create the new hard_hits column\n",
        "aaronjudge['hard_hits'] = (aaronjudge['Events'] * aaronjudge['HardHit%']).round(0)\n",
        "\n",
        "#now lets see the average number of hard_hits per game\n",
        "print(aaronjudge['hard_hits'].mean())"
      ]
    },
    {
      "cell_type": "code",
      "execution_count": 92,
      "metadata": {
        "vscode": {
          "languageId": "r"
        }
      },
      "outputs": [
        {
          "name": "stdout",
          "output_type": "stream",
          "text": [
            "0.42829999999999996\n"
          ]
        }
      ],
      "source": [
        "# finally, let's create a correct hardhit% column that is based on the number of at-bats, not the number of times a player puts the ball in play\n",
        "aaronjudge['correct_hardhit%'] = (aaronjudge['hard_hits'] / aaronjudge['at_bats']).round(2)\n",
        "\n",
        "# now let's see the average correct hardhit% for Aaron Judge\n",
        "print(aaronjudge['correct_hardhit%'].mean())"
      ]
    },
    {
      "cell_type": "code",
      "execution_count": 95,
      "metadata": {
        "vscode": {
          "languageId": "r"
        }
      },
      "outputs": [
        {
          "data": {
            "text/plain": [
              "(100, 36)"
            ]
          },
          "execution_count": 95,
          "metadata": {},
          "output_type": "execute_result"
        }
      ],
      "source": [
        "# sometimes in certain stadiums or based on the weather, the HardHit% data is missing\n",
        "# this causes the value of the new correct_hardhit% column to be NaN, so let's remove those few rows\n",
        "aaronjudge.dropna(subset=['correct_hardhit%'], inplace=True)\n",
        "\n",
        "#let's check the shape again\n",
        "aaronjudge.shape #loss of 5 rows"
      ]
    },
    {
      "cell_type": "code",
      "execution_count": 96,
      "metadata": {
        "vscode": {
          "languageId": "r"
        }
      },
      "outputs": [],
      "source": [
        "# now we can save this to a csv file\n",
        "aaronjudge.to_csv('./data/modified_data/aaronjudge.csv', index=False)"
      ]
    },
    {
      "cell_type": "markdown",
      "metadata": {},
      "source": [
        "here is a screenshot of the first couple rows of the modified csv file:\n",
        "<br></br>\n",
        "![Clean Data](./images/aaron_judge_clean.png)"
      ]
    },
    {
      "cell_type": "markdown",
      "metadata": {},
      "source": [
        "# Baseballr"
      ]
    },
    {
      "cell_type": "code",
      "execution_count": 2,
      "metadata": {
        "vscode": {
          "languageId": "r"
        }
      },
      "outputs": [
        {
          "data": {
            "text/html": [
              "<table class=\"dataframe\">\n",
              "<caption>A data.frame: 6 x 160</caption>\n",
              "<thead>\n",
              "\t<tr><th></th><th scope=col>game_pk</th><th scope=col>game_date</th><th scope=col>index</th><th scope=col>startTime</th><th scope=col>endTime</th><th scope=col>isPitch</th><th scope=col>type</th><th scope=col>playId</th><th scope=col>pitchNumber</th><th scope=col>details.description</th><th scope=col>...</th><th scope=col>matchup.postOnThird.link</th><th scope=col>reviewDetails.isOverturned</th><th scope=col>reviewDetails.inProgress</th><th scope=col>reviewDetails.reviewType</th><th scope=col>reviewDetails.challengeTeamId</th><th scope=col>base</th><th scope=col>details.violation.type</th><th scope=col>details.violation.description</th><th scope=col>details.violation.player.id</th><th scope=col>details.violation.player.fullName</th></tr>\n",
              "\t<tr><th></th><th scope=col>&lt;int&gt;</th><th scope=col>&lt;chr&gt;</th><th scope=col>&lt;int&gt;</th><th scope=col>&lt;chr&gt;</th><th scope=col>&lt;chr&gt;</th><th scope=col>&lt;lgl&gt;</th><th scope=col>&lt;chr&gt;</th><th scope=col>&lt;chr&gt;</th><th scope=col>&lt;int&gt;</th><th scope=col>&lt;chr&gt;</th><th scope=col>...</th><th scope=col>&lt;chr&gt;</th><th scope=col>&lt;lgl&gt;</th><th scope=col>&lt;lgl&gt;</th><th scope=col>&lt;chr&gt;</th><th scope=col>&lt;int&gt;</th><th scope=col>&lt;int&gt;</th><th scope=col>&lt;chr&gt;</th><th scope=col>&lt;chr&gt;</th><th scope=col>&lt;int&gt;</th><th scope=col>&lt;chr&gt;</th></tr>\n",
              "</thead>\n",
              "<tbody>\n",
              "\t<tr><th scope=row>1</th><td>717641</td><td>2023-06-24</td><td>2</td><td>2023-06-24T04:40:41.468Z</td><td>2023-06-24T04:40:49.543Z</td><td>TRUE</td><td>pitch</td><td>a8483d6b-3cff-4190-827c-1b4c71f60ef8</td><td>3</td><td>In play, out(s)</td><td>...</td><td>NA</td><td>NA</td><td>NA</td><td>NA</td><td>NA</td><td>NA</td><td>NA</td><td>NA</td><td>NA</td><td>NA</td></tr>\n",
              "\t<tr><th scope=row>2</th><td>717641</td><td>2023-06-24</td><td>1</td><td>2023-06-24T04:40:24.685Z</td><td>2023-06-24T04:40:28.580Z</td><td>TRUE</td><td>pitch</td><td>49eba946-3aaa-4260-895b-3de29cb49043</td><td>2</td><td>Foul           </td><td>...</td><td>NA</td><td>NA</td><td>NA</td><td>NA</td><td>NA</td><td>NA</td><td>NA</td><td>NA</td><td>NA</td><td>NA</td></tr>\n",
              "\t<tr><th scope=row>3</th><td>717641</td><td>2023-06-24</td><td>0</td><td>2023-06-24T04:40:08.036Z</td><td>2023-06-24T04:40:12.278Z</td><td>TRUE</td><td>pitch</td><td>f879f5a0-8570-4594-ae73-3f09d1a53ee1</td><td>1</td><td>Ball           </td><td>...</td><td>NA</td><td>NA</td><td>NA</td><td>NA</td><td>NA</td><td>NA</td><td>NA</td><td>NA</td><td>NA</td><td>NA</td></tr>\n",
              "\t<tr><th scope=row>4</th><td>717641</td><td>2023-06-24</td><td>6</td><td>2023-06-24T04:39:08.422Z</td><td>2023-06-24T04:39:16.691Z</td><td>TRUE</td><td>pitch</td><td>3077f596-0221-4469-9841-f1684c629288</td><td>6</td><td>In play, out(s)</td><td>...</td><td>NA</td><td>NA</td><td>NA</td><td>NA</td><td>NA</td><td>NA</td><td>NA</td><td>NA</td><td>NA</td><td>NA</td></tr>\n",
              "\t<tr><th scope=row>5</th><td>717641</td><td>2023-06-24</td><td>5</td><td>2023-06-24T04:38:49.567Z</td><td>2023-06-24T04:38:53.482Z</td><td>TRUE</td><td>pitch</td><td>21a33e9d-e596-408b-9168-141acc0b1b63</td><td>5</td><td>Foul           </td><td>...</td><td>NA</td><td>NA</td><td>NA</td><td>NA</td><td>NA</td><td>NA</td><td>NA</td><td>NA</td><td>NA</td><td>NA</td></tr>\n",
              "\t<tr><th scope=row>6</th><td>717641</td><td>2023-06-24</td><td>4</td><td>2023-06-24T04:38:32.110Z</td><td>2023-06-24T04:38:36.156Z</td><td>TRUE</td><td>pitch</td><td>db083639-52be-41f4-b6d9-f72601ef1508</td><td>4</td><td>Foul           </td><td>...</td><td>NA</td><td>NA</td><td>NA</td><td>NA</td><td>NA</td><td>NA</td><td>NA</td><td>NA</td><td>NA</td><td>NA</td></tr>\n",
              "</tbody>\n",
              "</table>\n"
            ],
            "text/latex": [
              "A data.frame: 6 x 160\n",
              "\\begin{tabular}{r|lllllllllllllllllllll}\n",
              "  & game\\_pk & game\\_date & index & startTime & endTime & isPitch & type & playId & pitchNumber & details.description & ... & matchup.postOnThird.link & reviewDetails.isOverturned & reviewDetails.inProgress & reviewDetails.reviewType & reviewDetails.challengeTeamId & base & details.violation.type & details.violation.description & details.violation.player.id & details.violation.player.fullName\\\\\n",
              "  & <int> & <chr> & <int> & <chr> & <chr> & <lgl> & <chr> & <chr> & <int> & <chr> & ... & <chr> & <lgl> & <lgl> & <chr> & <int> & <int> & <chr> & <chr> & <int> & <chr>\\\\\n",
              "\\hline\n",
              "\t1 & 717641 & 2023-06-24 & 2 & 2023-06-24T04:40:41.468Z & 2023-06-24T04:40:49.543Z & TRUE & pitch & a8483d6b-3cff-4190-827c-1b4c71f60ef8 & 3 & In play, out(s) & ... & NA & NA & NA & NA & NA & NA & NA & NA & NA & NA\\\\\n",
              "\t2 & 717641 & 2023-06-24 & 1 & 2023-06-24T04:40:24.685Z & 2023-06-24T04:40:28.580Z & TRUE & pitch & 49eba946-3aaa-4260-895b-3de29cb49043 & 2 & Foul            & ... & NA & NA & NA & NA & NA & NA & NA & NA & NA & NA\\\\\n",
              "\t3 & 717641 & 2023-06-24 & 0 & 2023-06-24T04:40:08.036Z & 2023-06-24T04:40:12.278Z & TRUE & pitch & f879f5a0-8570-4594-ae73-3f09d1a53ee1 & 1 & Ball            & ... & NA & NA & NA & NA & NA & NA & NA & NA & NA & NA\\\\\n",
              "\t4 & 717641 & 2023-06-24 & 6 & 2023-06-24T04:39:08.422Z & 2023-06-24T04:39:16.691Z & TRUE & pitch & 3077f596-0221-4469-9841-f1684c629288 & 6 & In play, out(s) & ... & NA & NA & NA & NA & NA & NA & NA & NA & NA & NA\\\\\n",
              "\t5 & 717641 & 2023-06-24 & 5 & 2023-06-24T04:38:49.567Z & 2023-06-24T04:38:53.482Z & TRUE & pitch & 21a33e9d-e596-408b-9168-141acc0b1b63 & 5 & Foul            & ... & NA & NA & NA & NA & NA & NA & NA & NA & NA & NA\\\\\n",
              "\t6 & 717641 & 2023-06-24 & 4 & 2023-06-24T04:38:32.110Z & 2023-06-24T04:38:36.156Z & TRUE & pitch & db083639-52be-41f4-b6d9-f72601ef1508 & 4 & Foul            & ... & NA & NA & NA & NA & NA & NA & NA & NA & NA & NA\\\\\n",
              "\\end{tabular}\n"
            ],
            "text/markdown": [
              "\n",
              "A data.frame: 6 x 160\n",
              "\n",
              "| <!--/--> | game_pk &lt;int&gt; | game_date &lt;chr&gt; | index &lt;int&gt; | startTime &lt;chr&gt; | endTime &lt;chr&gt; | isPitch &lt;lgl&gt; | type &lt;chr&gt; | playId &lt;chr&gt; | pitchNumber &lt;int&gt; | details.description &lt;chr&gt; | ... ... | matchup.postOnThird.link &lt;chr&gt; | reviewDetails.isOverturned &lt;lgl&gt; | reviewDetails.inProgress &lt;lgl&gt; | reviewDetails.reviewType &lt;chr&gt; | reviewDetails.challengeTeamId &lt;int&gt; | base &lt;int&gt; | details.violation.type &lt;chr&gt; | details.violation.description &lt;chr&gt; | details.violation.player.id &lt;int&gt; | details.violation.player.fullName &lt;chr&gt; |\n",
              "|---|---|---|---|---|---|---|---|---|---|---|---|---|---|---|---|---|---|---|---|---|---|\n",
              "| 1 | 717641 | 2023-06-24 | 2 | 2023-06-24T04:40:41.468Z | 2023-06-24T04:40:49.543Z | TRUE | pitch | a8483d6b-3cff-4190-827c-1b4c71f60ef8 | 3 | In play, out(s) | ... | NA | NA | NA | NA | NA | NA | NA | NA | NA | NA |\n",
              "| 2 | 717641 | 2023-06-24 | 1 | 2023-06-24T04:40:24.685Z | 2023-06-24T04:40:28.580Z | TRUE | pitch | 49eba946-3aaa-4260-895b-3de29cb49043 | 2 | Foul            | ... | NA | NA | NA | NA | NA | NA | NA | NA | NA | NA |\n",
              "| 3 | 717641 | 2023-06-24 | 0 | 2023-06-24T04:40:08.036Z | 2023-06-24T04:40:12.278Z | TRUE | pitch | f879f5a0-8570-4594-ae73-3f09d1a53ee1 | 1 | Ball            | ... | NA | NA | NA | NA | NA | NA | NA | NA | NA | NA |\n",
              "| 4 | 717641 | 2023-06-24 | 6 | 2023-06-24T04:39:08.422Z | 2023-06-24T04:39:16.691Z | TRUE | pitch | 3077f596-0221-4469-9841-f1684c629288 | 6 | In play, out(s) | ... | NA | NA | NA | NA | NA | NA | NA | NA | NA | NA |\n",
              "| 5 | 717641 | 2023-06-24 | 5 | 2023-06-24T04:38:49.567Z | 2023-06-24T04:38:53.482Z | TRUE | pitch | 21a33e9d-e596-408b-9168-141acc0b1b63 | 5 | Foul            | ... | NA | NA | NA | NA | NA | NA | NA | NA | NA | NA |\n",
              "| 6 | 717641 | 2023-06-24 | 4 | 2023-06-24T04:38:32.110Z | 2023-06-24T04:38:36.156Z | TRUE | pitch | db083639-52be-41f4-b6d9-f72601ef1508 | 4 | Foul            | ... | NA | NA | NA | NA | NA | NA | NA | NA | NA | NA |\n",
              "\n"
            ],
            "text/plain": [
              "  game_pk game_date  index startTime                endTime                 \n",
              "1 717641  2023-06-24 2     2023-06-24T04:40:41.468Z 2023-06-24T04:40:49.543Z\n",
              "2 717641  2023-06-24 1     2023-06-24T04:40:24.685Z 2023-06-24T04:40:28.580Z\n",
              "3 717641  2023-06-24 0     2023-06-24T04:40:08.036Z 2023-06-24T04:40:12.278Z\n",
              "4 717641  2023-06-24 6     2023-06-24T04:39:08.422Z 2023-06-24T04:39:16.691Z\n",
              "5 717641  2023-06-24 5     2023-06-24T04:38:49.567Z 2023-06-24T04:38:53.482Z\n",
              "6 717641  2023-06-24 4     2023-06-24T04:38:32.110Z 2023-06-24T04:38:36.156Z\n",
              "  isPitch type  playId                               pitchNumber\n",
              "1 TRUE    pitch a8483d6b-3cff-4190-827c-1b4c71f60ef8 3          \n",
              "2 TRUE    pitch 49eba946-3aaa-4260-895b-3de29cb49043 2          \n",
              "3 TRUE    pitch f879f5a0-8570-4594-ae73-3f09d1a53ee1 1          \n",
              "4 TRUE    pitch 3077f596-0221-4469-9841-f1684c629288 6          \n",
              "5 TRUE    pitch 21a33e9d-e596-408b-9168-141acc0b1b63 5          \n",
              "6 TRUE    pitch db083639-52be-41f4-b6d9-f72601ef1508 4          \n",
              "  details.description ... matchup.postOnThird.link reviewDetails.isOverturned\n",
              "1 In play, out(s)     ... NA                       NA                        \n",
              "2 Foul                ... NA                       NA                        \n",
              "3 Ball                ... NA                       NA                        \n",
              "4 In play, out(s)     ... NA                       NA                        \n",
              "5 Foul                ... NA                       NA                        \n",
              "6 Foul                ... NA                       NA                        \n",
              "  reviewDetails.inProgress reviewDetails.reviewType\n",
              "1 NA                       NA                      \n",
              "2 NA                       NA                      \n",
              "3 NA                       NA                      \n",
              "4 NA                       NA                      \n",
              "5 NA                       NA                      \n",
              "6 NA                       NA                      \n",
              "  reviewDetails.challengeTeamId base details.violation.type\n",
              "1 NA                            NA   NA                    \n",
              "2 NA                            NA   NA                    \n",
              "3 NA                            NA   NA                    \n",
              "4 NA                            NA   NA                    \n",
              "5 NA                            NA   NA                    \n",
              "6 NA                            NA   NA                    \n",
              "  details.violation.description details.violation.player.id\n",
              "1 NA                            NA                         \n",
              "2 NA                            NA                         \n",
              "3 NA                            NA                         \n",
              "4 NA                            NA                         \n",
              "5 NA                            NA                         \n",
              "6 NA                            NA                         \n",
              "  details.violation.player.fullName\n",
              "1 NA                               \n",
              "2 NA                               \n",
              "3 NA                               \n",
              "4 NA                               \n",
              "5 NA                               \n",
              "6 NA                               "
            ]
          },
          "metadata": {},
          "output_type": "display_data"
        }
      ],
      "source": [
        "library(tidyverse)\n",
        "baseball <- read.csv(\"./data/raw_data/baseballr_six_games.csv\")\n",
        "head(baseball)"
      ]
    },
    {
      "cell_type": "code",
      "execution_count": 5,
      "metadata": {
        "vscode": {
          "languageId": "r"
        }
      },
      "outputs": [
        {
          "data": {
            "text/html": [
              "<style>\n",
              ".list-inline {list-style: none; margin:0; padding: 0}\n",
              ".list-inline>li {display: inline-block}\n",
              ".list-inline>li:not(:last-child)::after {content: \"\\00b7\"; padding: 0 .5ex}\n",
              "</style>\n",
              "<ol class=list-inline><li>'game_pk'</li><li>'game_date'</li><li>'index'</li><li>'startTime'</li><li>'endTime'</li><li>'isPitch'</li><li>'type'</li><li>'playId'</li><li>'pitchNumber'</li><li>'details.description'</li><li>'details.event'</li><li>'details.awayScore'</li><li>'details.homeScore'</li><li>'details.isScoringPlay'</li><li>'details.hasReview'</li><li>'details.code'</li><li>'details.ballColor'</li><li>'details.isInPlay'</li><li>'details.isStrike'</li><li>'details.isBall'</li><li>'details.call.code'</li><li>'details.call.description'</li><li>'count.balls.start'</li><li>'count.strikes.start'</li><li>'count.outs.start'</li><li>'player.id'</li><li>'player.link'</li><li>'pitchData.strikeZoneTop'</li><li>'pitchData.strikeZoneBottom'</li><li>'details.fromCatcher'</li><li>'pitchData.coordinates.x'</li><li>'pitchData.coordinates.y'</li><li>'hitData.trajectory'</li><li>'hitData.hardness'</li><li>'hitData.location'</li><li>'hitData.coordinates.coordX'</li><li>'hitData.coordinates.coordY'</li><li>'actionPlayId'</li><li>'details.eventType'</li><li>'details.runnerGoing'</li><li>'position.code'</li><li>'position.name'</li><li>'position.type'</li><li>'position.abbreviation'</li><li>'battingOrder'</li><li>'atBatIndex'</li><li>'result.type'</li><li>'result.event'</li><li>'result.eventType'</li><li>'result.description'</li><li>'result.rbi'</li><li>'result.awayScore'</li><li>'result.homeScore'</li><li>'about.atBatIndex'</li><li>'about.halfInning'</li><li>'about.inning'</li><li>'about.startTime'</li><li>'about.endTime'</li><li>'about.isComplete'</li><li>'about.isScoringPlay'</li><li>'about.hasReview'</li><li>'about.hasOut'</li><li>'about.captivatingIndex'</li><li>'count.balls.end'</li><li>'count.strikes.end'</li><li>'count.outs.end'</li><li>'matchup.batter.id'</li><li>'matchup.batter.fullName'</li><li>'matchup.batter.link'</li><li>'matchup.batSide.code'</li><li>'matchup.batSide.description'</li><li>'matchup.pitcher.id'</li><li>'matchup.pitcher.fullName'</li><li>'matchup.pitcher.link'</li><li>'matchup.pitchHand.code'</li><li>'matchup.pitchHand.description'</li><li>'matchup.splits.batter'</li><li>'matchup.splits.pitcher'</li><li>'matchup.splits.menOnBase'</li><li>'batted.ball.result'</li><li>'home_team'</li><li>'home_level_id'</li><li>'home_level_name'</li><li>'home_parentOrg_id'</li><li>'home_parentOrg_name'</li><li>'home_league_id'</li><li>'home_league_name'</li><li>'away_team'</li><li>'away_level_id'</li><li>'away_level_name'</li><li>'away_parentOrg_id'</li><li>'away_parentOrg_name'</li><li>'away_league_id'</li><li>'away_league_name'</li><li>'batting_team'</li><li>'fielding_team'</li><li>'last.pitch.of.ab'</li><li>'pfxId'</li><li>'details.trailColor'</li><li>'details.type.code'</li><li>'details.type.description'</li><li>'pitchData.startSpeed'</li><li>'pitchData.endSpeed'</li><li>'pitchData.zone'</li><li>'pitchData.typeConfidence'</li><li>'pitchData.plateTime'</li><li>'pitchData.extension'</li><li>'pitchData.coordinates.aY'</li><li>'pitchData.coordinates.aZ'</li><li>'pitchData.coordinates.pfxX'</li><li>'pitchData.coordinates.pfxZ'</li><li>'pitchData.coordinates.pX'</li><li>'pitchData.coordinates.pZ'</li><li>'pitchData.coordinates.vX0'</li><li>'pitchData.coordinates.vY0'</li><li>'pitchData.coordinates.vZ0'</li><li>'pitchData.coordinates.x0'</li><li>'pitchData.coordinates.y0'</li><li>'pitchData.coordinates.z0'</li><li>'pitchData.coordinates.aX'</li><li>'pitchData.breaks.breakAngle'</li><li>'pitchData.breaks.breakLength'</li><li>'pitchData.breaks.breakY'</li><li>'pitchData.breaks.spinRate'</li><li>'pitchData.breaks.spinDirection'</li><li>'hitData.launchSpeed'</li><li>'hitData.launchAngle'</li><li>'hitData.totalDistance'</li><li>'injuryType'</li><li>'umpire.id'</li><li>'umpire.link'</li><li>'details.isOut'</li><li>'pitchData.breaks.breakVertical'</li><li>'pitchData.breaks.breakVerticalInduced'</li><li>'pitchData.breaks.breakHorizontal'</li><li>'isBaseRunningPlay'</li><li>'details.disengagementNum'</li><li>'isSubstitution'</li><li>'replacedPlayer.id'</li><li>'replacedPlayer.link'</li><li>'result.isOut'</li><li>'about.isTopInning'</li><li>'matchup.postOnFirst.id'</li><li>'matchup.postOnFirst.fullName'</li><li>'matchup.postOnFirst.link'</li><li>'matchup.postOnSecond.id'</li><li>'matchup.postOnSecond.fullName'</li><li>'matchup.postOnSecond.link'</li><li>'matchup.postOnThird.id'</li><li>'matchup.postOnThird.fullName'</li><li>'matchup.postOnThird.link'</li><li>'reviewDetails.isOverturned'</li><li>'reviewDetails.inProgress'</li><li>'reviewDetails.reviewType'</li><li>'reviewDetails.challengeTeamId'</li><li>'base'</li><li>'details.violation.type'</li><li>'details.violation.description'</li><li>'details.violation.player.id'</li><li>'details.violation.player.fullName'</li></ol>\n"
            ],
            "text/latex": [
              "\\begin{enumerate*}\n",
              "\\item 'game\\_pk'\n",
              "\\item 'game\\_date'\n",
              "\\item 'index'\n",
              "\\item 'startTime'\n",
              "\\item 'endTime'\n",
              "\\item 'isPitch'\n",
              "\\item 'type'\n",
              "\\item 'playId'\n",
              "\\item 'pitchNumber'\n",
              "\\item 'details.description'\n",
              "\\item 'details.event'\n",
              "\\item 'details.awayScore'\n",
              "\\item 'details.homeScore'\n",
              "\\item 'details.isScoringPlay'\n",
              "\\item 'details.hasReview'\n",
              "\\item 'details.code'\n",
              "\\item 'details.ballColor'\n",
              "\\item 'details.isInPlay'\n",
              "\\item 'details.isStrike'\n",
              "\\item 'details.isBall'\n",
              "\\item 'details.call.code'\n",
              "\\item 'details.call.description'\n",
              "\\item 'count.balls.start'\n",
              "\\item 'count.strikes.start'\n",
              "\\item 'count.outs.start'\n",
              "\\item 'player.id'\n",
              "\\item 'player.link'\n",
              "\\item 'pitchData.strikeZoneTop'\n",
              "\\item 'pitchData.strikeZoneBottom'\n",
              "\\item 'details.fromCatcher'\n",
              "\\item 'pitchData.coordinates.x'\n",
              "\\item 'pitchData.coordinates.y'\n",
              "\\item 'hitData.trajectory'\n",
              "\\item 'hitData.hardness'\n",
              "\\item 'hitData.location'\n",
              "\\item 'hitData.coordinates.coordX'\n",
              "\\item 'hitData.coordinates.coordY'\n",
              "\\item 'actionPlayId'\n",
              "\\item 'details.eventType'\n",
              "\\item 'details.runnerGoing'\n",
              "\\item 'position.code'\n",
              "\\item 'position.name'\n",
              "\\item 'position.type'\n",
              "\\item 'position.abbreviation'\n",
              "\\item 'battingOrder'\n",
              "\\item 'atBatIndex'\n",
              "\\item 'result.type'\n",
              "\\item 'result.event'\n",
              "\\item 'result.eventType'\n",
              "\\item 'result.description'\n",
              "\\item 'result.rbi'\n",
              "\\item 'result.awayScore'\n",
              "\\item 'result.homeScore'\n",
              "\\item 'about.atBatIndex'\n",
              "\\item 'about.halfInning'\n",
              "\\item 'about.inning'\n",
              "\\item 'about.startTime'\n",
              "\\item 'about.endTime'\n",
              "\\item 'about.isComplete'\n",
              "\\item 'about.isScoringPlay'\n",
              "\\item 'about.hasReview'\n",
              "\\item 'about.hasOut'\n",
              "\\item 'about.captivatingIndex'\n",
              "\\item 'count.balls.end'\n",
              "\\item 'count.strikes.end'\n",
              "\\item 'count.outs.end'\n",
              "\\item 'matchup.batter.id'\n",
              "\\item 'matchup.batter.fullName'\n",
              "\\item 'matchup.batter.link'\n",
              "\\item 'matchup.batSide.code'\n",
              "\\item 'matchup.batSide.description'\n",
              "\\item 'matchup.pitcher.id'\n",
              "\\item 'matchup.pitcher.fullName'\n",
              "\\item 'matchup.pitcher.link'\n",
              "\\item 'matchup.pitchHand.code'\n",
              "\\item 'matchup.pitchHand.description'\n",
              "\\item 'matchup.splits.batter'\n",
              "\\item 'matchup.splits.pitcher'\n",
              "\\item 'matchup.splits.menOnBase'\n",
              "\\item 'batted.ball.result'\n",
              "\\item 'home\\_team'\n",
              "\\item 'home\\_level\\_id'\n",
              "\\item 'home\\_level\\_name'\n",
              "\\item 'home\\_parentOrg\\_id'\n",
              "\\item 'home\\_parentOrg\\_name'\n",
              "\\item 'home\\_league\\_id'\n",
              "\\item 'home\\_league\\_name'\n",
              "\\item 'away\\_team'\n",
              "\\item 'away\\_level\\_id'\n",
              "\\item 'away\\_level\\_name'\n",
              "\\item 'away\\_parentOrg\\_id'\n",
              "\\item 'away\\_parentOrg\\_name'\n",
              "\\item 'away\\_league\\_id'\n",
              "\\item 'away\\_league\\_name'\n",
              "\\item 'batting\\_team'\n",
              "\\item 'fielding\\_team'\n",
              "\\item 'last.pitch.of.ab'\n",
              "\\item 'pfxId'\n",
              "\\item 'details.trailColor'\n",
              "\\item 'details.type.code'\n",
              "\\item 'details.type.description'\n",
              "\\item 'pitchData.startSpeed'\n",
              "\\item 'pitchData.endSpeed'\n",
              "\\item 'pitchData.zone'\n",
              "\\item 'pitchData.typeConfidence'\n",
              "\\item 'pitchData.plateTime'\n",
              "\\item 'pitchData.extension'\n",
              "\\item 'pitchData.coordinates.aY'\n",
              "\\item 'pitchData.coordinates.aZ'\n",
              "\\item 'pitchData.coordinates.pfxX'\n",
              "\\item 'pitchData.coordinates.pfxZ'\n",
              "\\item 'pitchData.coordinates.pX'\n",
              "\\item 'pitchData.coordinates.pZ'\n",
              "\\item 'pitchData.coordinates.vX0'\n",
              "\\item 'pitchData.coordinates.vY0'\n",
              "\\item 'pitchData.coordinates.vZ0'\n",
              "\\item 'pitchData.coordinates.x0'\n",
              "\\item 'pitchData.coordinates.y0'\n",
              "\\item 'pitchData.coordinates.z0'\n",
              "\\item 'pitchData.coordinates.aX'\n",
              "\\item 'pitchData.breaks.breakAngle'\n",
              "\\item 'pitchData.breaks.breakLength'\n",
              "\\item 'pitchData.breaks.breakY'\n",
              "\\item 'pitchData.breaks.spinRate'\n",
              "\\item 'pitchData.breaks.spinDirection'\n",
              "\\item 'hitData.launchSpeed'\n",
              "\\item 'hitData.launchAngle'\n",
              "\\item 'hitData.totalDistance'\n",
              "\\item 'injuryType'\n",
              "\\item 'umpire.id'\n",
              "\\item 'umpire.link'\n",
              "\\item 'details.isOut'\n",
              "\\item 'pitchData.breaks.breakVertical'\n",
              "\\item 'pitchData.breaks.breakVerticalInduced'\n",
              "\\item 'pitchData.breaks.breakHorizontal'\n",
              "\\item 'isBaseRunningPlay'\n",
              "\\item 'details.disengagementNum'\n",
              "\\item 'isSubstitution'\n",
              "\\item 'replacedPlayer.id'\n",
              "\\item 'replacedPlayer.link'\n",
              "\\item 'result.isOut'\n",
              "\\item 'about.isTopInning'\n",
              "\\item 'matchup.postOnFirst.id'\n",
              "\\item 'matchup.postOnFirst.fullName'\n",
              "\\item 'matchup.postOnFirst.link'\n",
              "\\item 'matchup.postOnSecond.id'\n",
              "\\item 'matchup.postOnSecond.fullName'\n",
              "\\item 'matchup.postOnSecond.link'\n",
              "\\item 'matchup.postOnThird.id'\n",
              "\\item 'matchup.postOnThird.fullName'\n",
              "\\item 'matchup.postOnThird.link'\n",
              "\\item 'reviewDetails.isOverturned'\n",
              "\\item 'reviewDetails.inProgress'\n",
              "\\item 'reviewDetails.reviewType'\n",
              "\\item 'reviewDetails.challengeTeamId'\n",
              "\\item 'base'\n",
              "\\item 'details.violation.type'\n",
              "\\item 'details.violation.description'\n",
              "\\item 'details.violation.player.id'\n",
              "\\item 'details.violation.player.fullName'\n",
              "\\end{enumerate*}\n"
            ],
            "text/markdown": [
              "1. 'game_pk'\n",
              "2. 'game_date'\n",
              "3. 'index'\n",
              "4. 'startTime'\n",
              "5. 'endTime'\n",
              "6. 'isPitch'\n",
              "7. 'type'\n",
              "8. 'playId'\n",
              "9. 'pitchNumber'\n",
              "10. 'details.description'\n",
              "11. 'details.event'\n",
              "12. 'details.awayScore'\n",
              "13. 'details.homeScore'\n",
              "14. 'details.isScoringPlay'\n",
              "15. 'details.hasReview'\n",
              "16. 'details.code'\n",
              "17. 'details.ballColor'\n",
              "18. 'details.isInPlay'\n",
              "19. 'details.isStrike'\n",
              "20. 'details.isBall'\n",
              "21. 'details.call.code'\n",
              "22. 'details.call.description'\n",
              "23. 'count.balls.start'\n",
              "24. 'count.strikes.start'\n",
              "25. 'count.outs.start'\n",
              "26. 'player.id'\n",
              "27. 'player.link'\n",
              "28. 'pitchData.strikeZoneTop'\n",
              "29. 'pitchData.strikeZoneBottom'\n",
              "30. 'details.fromCatcher'\n",
              "31. 'pitchData.coordinates.x'\n",
              "32. 'pitchData.coordinates.y'\n",
              "33. 'hitData.trajectory'\n",
              "34. 'hitData.hardness'\n",
              "35. 'hitData.location'\n",
              "36. 'hitData.coordinates.coordX'\n",
              "37. 'hitData.coordinates.coordY'\n",
              "38. 'actionPlayId'\n",
              "39. 'details.eventType'\n",
              "40. 'details.runnerGoing'\n",
              "41. 'position.code'\n",
              "42. 'position.name'\n",
              "43. 'position.type'\n",
              "44. 'position.abbreviation'\n",
              "45. 'battingOrder'\n",
              "46. 'atBatIndex'\n",
              "47. 'result.type'\n",
              "48. 'result.event'\n",
              "49. 'result.eventType'\n",
              "50. 'result.description'\n",
              "51. 'result.rbi'\n",
              "52. 'result.awayScore'\n",
              "53. 'result.homeScore'\n",
              "54. 'about.atBatIndex'\n",
              "55. 'about.halfInning'\n",
              "56. 'about.inning'\n",
              "57. 'about.startTime'\n",
              "58. 'about.endTime'\n",
              "59. 'about.isComplete'\n",
              "60. 'about.isScoringPlay'\n",
              "61. 'about.hasReview'\n",
              "62. 'about.hasOut'\n",
              "63. 'about.captivatingIndex'\n",
              "64. 'count.balls.end'\n",
              "65. 'count.strikes.end'\n",
              "66. 'count.outs.end'\n",
              "67. 'matchup.batter.id'\n",
              "68. 'matchup.batter.fullName'\n",
              "69. 'matchup.batter.link'\n",
              "70. 'matchup.batSide.code'\n",
              "71. 'matchup.batSide.description'\n",
              "72. 'matchup.pitcher.id'\n",
              "73. 'matchup.pitcher.fullName'\n",
              "74. 'matchup.pitcher.link'\n",
              "75. 'matchup.pitchHand.code'\n",
              "76. 'matchup.pitchHand.description'\n",
              "77. 'matchup.splits.batter'\n",
              "78. 'matchup.splits.pitcher'\n",
              "79. 'matchup.splits.menOnBase'\n",
              "80. 'batted.ball.result'\n",
              "81. 'home_team'\n",
              "82. 'home_level_id'\n",
              "83. 'home_level_name'\n",
              "84. 'home_parentOrg_id'\n",
              "85. 'home_parentOrg_name'\n",
              "86. 'home_league_id'\n",
              "87. 'home_league_name'\n",
              "88. 'away_team'\n",
              "89. 'away_level_id'\n",
              "90. 'away_level_name'\n",
              "91. 'away_parentOrg_id'\n",
              "92. 'away_parentOrg_name'\n",
              "93. 'away_league_id'\n",
              "94. 'away_league_name'\n",
              "95. 'batting_team'\n",
              "96. 'fielding_team'\n",
              "97. 'last.pitch.of.ab'\n",
              "98. 'pfxId'\n",
              "99. 'details.trailColor'\n",
              "100. 'details.type.code'\n",
              "101. 'details.type.description'\n",
              "102. 'pitchData.startSpeed'\n",
              "103. 'pitchData.endSpeed'\n",
              "104. 'pitchData.zone'\n",
              "105. 'pitchData.typeConfidence'\n",
              "106. 'pitchData.plateTime'\n",
              "107. 'pitchData.extension'\n",
              "108. 'pitchData.coordinates.aY'\n",
              "109. 'pitchData.coordinates.aZ'\n",
              "110. 'pitchData.coordinates.pfxX'\n",
              "111. 'pitchData.coordinates.pfxZ'\n",
              "112. 'pitchData.coordinates.pX'\n",
              "113. 'pitchData.coordinates.pZ'\n",
              "114. 'pitchData.coordinates.vX0'\n",
              "115. 'pitchData.coordinates.vY0'\n",
              "116. 'pitchData.coordinates.vZ0'\n",
              "117. 'pitchData.coordinates.x0'\n",
              "118. 'pitchData.coordinates.y0'\n",
              "119. 'pitchData.coordinates.z0'\n",
              "120. 'pitchData.coordinates.aX'\n",
              "121. 'pitchData.breaks.breakAngle'\n",
              "122. 'pitchData.breaks.breakLength'\n",
              "123. 'pitchData.breaks.breakY'\n",
              "124. 'pitchData.breaks.spinRate'\n",
              "125. 'pitchData.breaks.spinDirection'\n",
              "126. 'hitData.launchSpeed'\n",
              "127. 'hitData.launchAngle'\n",
              "128. 'hitData.totalDistance'\n",
              "129. 'injuryType'\n",
              "130. 'umpire.id'\n",
              "131. 'umpire.link'\n",
              "132. 'details.isOut'\n",
              "133. 'pitchData.breaks.breakVertical'\n",
              "134. 'pitchData.breaks.breakVerticalInduced'\n",
              "135. 'pitchData.breaks.breakHorizontal'\n",
              "136. 'isBaseRunningPlay'\n",
              "137. 'details.disengagementNum'\n",
              "138. 'isSubstitution'\n",
              "139. 'replacedPlayer.id'\n",
              "140. 'replacedPlayer.link'\n",
              "141. 'result.isOut'\n",
              "142. 'about.isTopInning'\n",
              "143. 'matchup.postOnFirst.id'\n",
              "144. 'matchup.postOnFirst.fullName'\n",
              "145. 'matchup.postOnFirst.link'\n",
              "146. 'matchup.postOnSecond.id'\n",
              "147. 'matchup.postOnSecond.fullName'\n",
              "148. 'matchup.postOnSecond.link'\n",
              "149. 'matchup.postOnThird.id'\n",
              "150. 'matchup.postOnThird.fullName'\n",
              "151. 'matchup.postOnThird.link'\n",
              "152. 'reviewDetails.isOverturned'\n",
              "153. 'reviewDetails.inProgress'\n",
              "154. 'reviewDetails.reviewType'\n",
              "155. 'reviewDetails.challengeTeamId'\n",
              "156. 'base'\n",
              "157. 'details.violation.type'\n",
              "158. 'details.violation.description'\n",
              "159. 'details.violation.player.id'\n",
              "160. 'details.violation.player.fullName'\n",
              "\n",
              "\n"
            ],
            "text/plain": [
              "  [1] \"game_pk\"                              \n",
              "  [2] \"game_date\"                            \n",
              "  [3] \"index\"                                \n",
              "  [4] \"startTime\"                            \n",
              "  [5] \"endTime\"                              \n",
              "  [6] \"isPitch\"                              \n",
              "  [7] \"type\"                                 \n",
              "  [8] \"playId\"                               \n",
              "  [9] \"pitchNumber\"                          \n",
              " [10] \"details.description\"                  \n",
              " [11] \"details.event\"                        \n",
              " [12] \"details.awayScore\"                    \n",
              " [13] \"details.homeScore\"                    \n",
              " [14] \"details.isScoringPlay\"                \n",
              " [15] \"details.hasReview\"                    \n",
              " [16] \"details.code\"                         \n",
              " [17] \"details.ballColor\"                    \n",
              " [18] \"details.isInPlay\"                     \n",
              " [19] \"details.isStrike\"                     \n",
              " [20] \"details.isBall\"                       \n",
              " [21] \"details.call.code\"                    \n",
              " [22] \"details.call.description\"             \n",
              " [23] \"count.balls.start\"                    \n",
              " [24] \"count.strikes.start\"                  \n",
              " [25] \"count.outs.start\"                     \n",
              " [26] \"player.id\"                            \n",
              " [27] \"player.link\"                          \n",
              " [28] \"pitchData.strikeZoneTop\"              \n",
              " [29] \"pitchData.strikeZoneBottom\"           \n",
              " [30] \"details.fromCatcher\"                  \n",
              " [31] \"pitchData.coordinates.x\"              \n",
              " [32] \"pitchData.coordinates.y\"              \n",
              " [33] \"hitData.trajectory\"                   \n",
              " [34] \"hitData.hardness\"                     \n",
              " [35] \"hitData.location\"                     \n",
              " [36] \"hitData.coordinates.coordX\"           \n",
              " [37] \"hitData.coordinates.coordY\"           \n",
              " [38] \"actionPlayId\"                         \n",
              " [39] \"details.eventType\"                    \n",
              " [40] \"details.runnerGoing\"                  \n",
              " [41] \"position.code\"                        \n",
              " [42] \"position.name\"                        \n",
              " [43] \"position.type\"                        \n",
              " [44] \"position.abbreviation\"                \n",
              " [45] \"battingOrder\"                         \n",
              " [46] \"atBatIndex\"                           \n",
              " [47] \"result.type\"                          \n",
              " [48] \"result.event\"                         \n",
              " [49] \"result.eventType\"                     \n",
              " [50] \"result.description\"                   \n",
              " [51] \"result.rbi\"                           \n",
              " [52] \"result.awayScore\"                     \n",
              " [53] \"result.homeScore\"                     \n",
              " [54] \"about.atBatIndex\"                     \n",
              " [55] \"about.halfInning\"                     \n",
              " [56] \"about.inning\"                         \n",
              " [57] \"about.startTime\"                      \n",
              " [58] \"about.endTime\"                        \n",
              " [59] \"about.isComplete\"                     \n",
              " [60] \"about.isScoringPlay\"                  \n",
              " [61] \"about.hasReview\"                      \n",
              " [62] \"about.hasOut\"                         \n",
              " [63] \"about.captivatingIndex\"               \n",
              " [64] \"count.balls.end\"                      \n",
              " [65] \"count.strikes.end\"                    \n",
              " [66] \"count.outs.end\"                       \n",
              " [67] \"matchup.batter.id\"                    \n",
              " [68] \"matchup.batter.fullName\"              \n",
              " [69] \"matchup.batter.link\"                  \n",
              " [70] \"matchup.batSide.code\"                 \n",
              " [71] \"matchup.batSide.description\"          \n",
              " [72] \"matchup.pitcher.id\"                   \n",
              " [73] \"matchup.pitcher.fullName\"             \n",
              " [74] \"matchup.pitcher.link\"                 \n",
              " [75] \"matchup.pitchHand.code\"               \n",
              " [76] \"matchup.pitchHand.description\"        \n",
              " [77] \"matchup.splits.batter\"                \n",
              " [78] \"matchup.splits.pitcher\"               \n",
              " [79] \"matchup.splits.menOnBase\"             \n",
              " [80] \"batted.ball.result\"                   \n",
              " [81] \"home_team\"                            \n",
              " [82] \"home_level_id\"                        \n",
              " [83] \"home_level_name\"                      \n",
              " [84] \"home_parentOrg_id\"                    \n",
              " [85] \"home_parentOrg_name\"                  \n",
              " [86] \"home_league_id\"                       \n",
              " [87] \"home_league_name\"                     \n",
              " [88] \"away_team\"                            \n",
              " [89] \"away_level_id\"                        \n",
              " [90] \"away_level_name\"                      \n",
              " [91] \"away_parentOrg_id\"                    \n",
              " [92] \"away_parentOrg_name\"                  \n",
              " [93] \"away_league_id\"                       \n",
              " [94] \"away_league_name\"                     \n",
              " [95] \"batting_team\"                         \n",
              " [96] \"fielding_team\"                        \n",
              " [97] \"last.pitch.of.ab\"                     \n",
              " [98] \"pfxId\"                                \n",
              " [99] \"details.trailColor\"                   \n",
              "[100] \"details.type.code\"                    \n",
              "[101] \"details.type.description\"             \n",
              "[102] \"pitchData.startSpeed\"                 \n",
              "[103] \"pitchData.endSpeed\"                   \n",
              "[104] \"pitchData.zone\"                       \n",
              "[105] \"pitchData.typeConfidence\"             \n",
              "[106] \"pitchData.plateTime\"                  \n",
              "[107] \"pitchData.extension\"                  \n",
              "[108] \"pitchData.coordinates.aY\"             \n",
              "[109] \"pitchData.coordinates.aZ\"             \n",
              "[110] \"pitchData.coordinates.pfxX\"           \n",
              "[111] \"pitchData.coordinates.pfxZ\"           \n",
              "[112] \"pitchData.coordinates.pX\"             \n",
              "[113] \"pitchData.coordinates.pZ\"             \n",
              "[114] \"pitchData.coordinates.vX0\"            \n",
              "[115] \"pitchData.coordinates.vY0\"            \n",
              "[116] \"pitchData.coordinates.vZ0\"            \n",
              "[117] \"pitchData.coordinates.x0\"             \n",
              "[118] \"pitchData.coordinates.y0\"             \n",
              "[119] \"pitchData.coordinates.z0\"             \n",
              "[120] \"pitchData.coordinates.aX\"             \n",
              "[121] \"pitchData.breaks.breakAngle\"          \n",
              "[122] \"pitchData.breaks.breakLength\"         \n",
              "[123] \"pitchData.breaks.breakY\"              \n",
              "[124] \"pitchData.breaks.spinRate\"            \n",
              "[125] \"pitchData.breaks.spinDirection\"       \n",
              "[126] \"hitData.launchSpeed\"                  \n",
              "[127] \"hitData.launchAngle\"                  \n",
              "[128] \"hitData.totalDistance\"                \n",
              "[129] \"injuryType\"                           \n",
              "[130] \"umpire.id\"                            \n",
              "[131] \"umpire.link\"                          \n",
              "[132] \"details.isOut\"                        \n",
              "[133] \"pitchData.breaks.breakVertical\"       \n",
              "[134] \"pitchData.breaks.breakVerticalInduced\"\n",
              "[135] \"pitchData.breaks.breakHorizontal\"     \n",
              "[136] \"isBaseRunningPlay\"                    \n",
              "[137] \"details.disengagementNum\"             \n",
              "[138] \"isSubstitution\"                       \n",
              "[139] \"replacedPlayer.id\"                    \n",
              "[140] \"replacedPlayer.link\"                  \n",
              "[141] \"result.isOut\"                         \n",
              "[142] \"about.isTopInning\"                    \n",
              "[143] \"matchup.postOnFirst.id\"               \n",
              "[144] \"matchup.postOnFirst.fullName\"         \n",
              "[145] \"matchup.postOnFirst.link\"             \n",
              "[146] \"matchup.postOnSecond.id\"              \n",
              "[147] \"matchup.postOnSecond.fullName\"        \n",
              "[148] \"matchup.postOnSecond.link\"            \n",
              "[149] \"matchup.postOnThird.id\"               \n",
              "[150] \"matchup.postOnThird.fullName\"         \n",
              "[151] \"matchup.postOnThird.link\"             \n",
              "[152] \"reviewDetails.isOverturned\"           \n",
              "[153] \"reviewDetails.inProgress\"             \n",
              "[154] \"reviewDetails.reviewType\"             \n",
              "[155] \"reviewDetails.challengeTeamId\"        \n",
              "[156] \"base\"                                 \n",
              "[157] \"details.violation.type\"               \n",
              "[158] \"details.violation.description\"        \n",
              "[159] \"details.violation.player.id\"          \n",
              "[160] \"details.violation.player.fullName\"    "
            ]
          },
          "metadata": {},
          "output_type": "display_data"
        }
      ],
      "source": [
        "# what are the column names?\n",
        "colnames(baseball)"
      ]
    },
    {
      "cell_type": "code",
      "execution_count": 10,
      "metadata": {
        "vscode": {
          "languageId": "r"
        }
      },
      "outputs": [
        {
          "data": {
            "text/html": [
              "<table class=\"dataframe\">\n",
              "<caption>A data.frame: 160 x 1</caption>\n",
              "<thead>\n",
              "\t<tr><th></th><th scope=col>colSums.is.na.baseball..</th></tr>\n",
              "\t<tr><th></th><th scope=col>&lt;dbl&gt;</th></tr>\n",
              "</thead>\n",
              "<tbody>\n",
              "\t<tr><th scope=row>game_pk</th><td>   0</td></tr>\n",
              "\t<tr><th scope=row>game_date</th><td>   0</td></tr>\n",
              "\t<tr><th scope=row>index</th><td>   0</td></tr>\n",
              "\t<tr><th scope=row>startTime</th><td>   0</td></tr>\n",
              "\t<tr><th scope=row>endTime</th><td>   0</td></tr>\n",
              "\t<tr><th scope=row>isPitch</th><td>   0</td></tr>\n",
              "\t<tr><th scope=row>type</th><td>   0</td></tr>\n",
              "\t<tr><th scope=row>playId</th><td> 215</td></tr>\n",
              "\t<tr><th scope=row>pitchNumber</th><td> 242</td></tr>\n",
              "\t<tr><th scope=row>details.description</th><td>   0</td></tr>\n",
              "\t<tr><th scope=row>details.event</th><td>1755</td></tr>\n",
              "\t<tr><th scope=row>details.awayScore</th><td>1755</td></tr>\n",
              "\t<tr><th scope=row>details.homeScore</th><td>1755</td></tr>\n",
              "\t<tr><th scope=row>details.isScoringPlay</th><td>1755</td></tr>\n",
              "\t<tr><th scope=row>details.hasReview</th><td>   0</td></tr>\n",
              "\t<tr><th scope=row>details.code</th><td> 215</td></tr>\n",
              "\t<tr><th scope=row>details.ballColor</th><td> 243</td></tr>\n",
              "\t<tr><th scope=row>details.isInPlay</th><td> 242</td></tr>\n",
              "\t<tr><th scope=row>details.isStrike</th><td> 242</td></tr>\n",
              "\t<tr><th scope=row>details.isBall</th><td> 242</td></tr>\n",
              "\t<tr><th scope=row>details.call.code</th><td> 242</td></tr>\n",
              "\t<tr><th scope=row>details.call.description</th><td> 242</td></tr>\n",
              "\t<tr><th scope=row>count.balls.start</th><td>   0</td></tr>\n",
              "\t<tr><th scope=row>count.strikes.start</th><td>   0</td></tr>\n",
              "\t<tr><th scope=row>count.outs.start</th><td>   0</td></tr>\n",
              "\t<tr><th scope=row>player.id</th><td>1790</td></tr>\n",
              "\t<tr><th scope=row>player.link</th><td>1790</td></tr>\n",
              "\t<tr><th scope=row>pitchData.strikeZoneTop</th><td> 243</td></tr>\n",
              "\t<tr><th scope=row>pitchData.strikeZoneBottom</th><td> 243</td></tr>\n",
              "\t<tr><th scope=row>details.fromCatcher</th><td>1943</td></tr>\n",
              "\t<tr><th scope=row>...</th><td>...</td></tr>\n",
              "\t<tr><th scope=row>umpire.link</th><td>1970</td></tr>\n",
              "\t<tr><th scope=row>details.isOut</th><td>   0</td></tr>\n",
              "\t<tr><th scope=row>pitchData.breaks.breakVertical</th><td> 243</td></tr>\n",
              "\t<tr><th scope=row>pitchData.breaks.breakVerticalInduced</th><td> 243</td></tr>\n",
              "\t<tr><th scope=row>pitchData.breaks.breakHorizontal</th><td> 243</td></tr>\n",
              "\t<tr><th scope=row>isBaseRunningPlay</th><td>1951</td></tr>\n",
              "\t<tr><th scope=row>details.disengagementNum</th><td>1904</td></tr>\n",
              "\t<tr><th scope=row>isSubstitution</th><td>1908</td></tr>\n",
              "\t<tr><th scope=row>replacedPlayer.id</th><td>1948</td></tr>\n",
              "\t<tr><th scope=row>replacedPlayer.link</th><td>1948</td></tr>\n",
              "\t<tr><th scope=row>result.isOut</th><td>   0</td></tr>\n",
              "\t<tr><th scope=row>about.isTopInning</th><td>   0</td></tr>\n",
              "\t<tr><th scope=row>matchup.postOnFirst.id</th><td>1837</td></tr>\n",
              "\t<tr><th scope=row>matchup.postOnFirst.fullName</th><td>1837</td></tr>\n",
              "\t<tr><th scope=row>matchup.postOnFirst.link</th><td>1837</td></tr>\n",
              "\t<tr><th scope=row>matchup.postOnSecond.id</th><td>1903</td></tr>\n",
              "\t<tr><th scope=row>matchup.postOnSecond.fullName</th><td>1903</td></tr>\n",
              "\t<tr><th scope=row>matchup.postOnSecond.link</th><td>1903</td></tr>\n",
              "\t<tr><th scope=row>matchup.postOnThird.id</th><td>1930</td></tr>\n",
              "\t<tr><th scope=row>matchup.postOnThird.fullName</th><td>1930</td></tr>\n",
              "\t<tr><th scope=row>matchup.postOnThird.link</th><td>1930</td></tr>\n",
              "\t<tr><th scope=row>reviewDetails.isOverturned</th><td>1965</td></tr>\n",
              "\t<tr><th scope=row>reviewDetails.inProgress</th><td>1965</td></tr>\n",
              "\t<tr><th scope=row>reviewDetails.reviewType</th><td>1965</td></tr>\n",
              "\t<tr><th scope=row>reviewDetails.challengeTeamId</th><td>1965</td></tr>\n",
              "\t<tr><th scope=row>base</th><td>1965</td></tr>\n",
              "\t<tr><th scope=row>details.violation.type</th><td>1969</td></tr>\n",
              "\t<tr><th scope=row>details.violation.description</th><td>1969</td></tr>\n",
              "\t<tr><th scope=row>details.violation.player.id</th><td>1969</td></tr>\n",
              "\t<tr><th scope=row>details.violation.player.fullName</th><td>1969</td></tr>\n",
              "</tbody>\n",
              "</table>\n"
            ],
            "text/latex": [
              "A data.frame: 160 x 1\n",
              "\\begin{tabular}{r|l}\n",
              "  & colSums.is.na.baseball..\\\\\n",
              "  & <dbl>\\\\\n",
              "\\hline\n",
              "\tgame\\_pk &    0\\\\\n",
              "\tgame\\_date &    0\\\\\n",
              "\tindex &    0\\\\\n",
              "\tstartTime &    0\\\\\n",
              "\tendTime &    0\\\\\n",
              "\tisPitch &    0\\\\\n",
              "\ttype &    0\\\\\n",
              "\tplayId &  215\\\\\n",
              "\tpitchNumber &  242\\\\\n",
              "\tdetails.description &    0\\\\\n",
              "\tdetails.event & 1755\\\\\n",
              "\tdetails.awayScore & 1755\\\\\n",
              "\tdetails.homeScore & 1755\\\\\n",
              "\tdetails.isScoringPlay & 1755\\\\\n",
              "\tdetails.hasReview &    0\\\\\n",
              "\tdetails.code &  215\\\\\n",
              "\tdetails.ballColor &  243\\\\\n",
              "\tdetails.isInPlay &  242\\\\\n",
              "\tdetails.isStrike &  242\\\\\n",
              "\tdetails.isBall &  242\\\\\n",
              "\tdetails.call.code &  242\\\\\n",
              "\tdetails.call.description &  242\\\\\n",
              "\tcount.balls.start &    0\\\\\n",
              "\tcount.strikes.start &    0\\\\\n",
              "\tcount.outs.start &    0\\\\\n",
              "\tplayer.id & 1790\\\\\n",
              "\tplayer.link & 1790\\\\\n",
              "\tpitchData.strikeZoneTop &  243\\\\\n",
              "\tpitchData.strikeZoneBottom &  243\\\\\n",
              "\tdetails.fromCatcher & 1943\\\\\n",
              "\t... & ...\\\\\n",
              "\tumpire.link & 1970\\\\\n",
              "\tdetails.isOut &    0\\\\\n",
              "\tpitchData.breaks.breakVertical &  243\\\\\n",
              "\tpitchData.breaks.breakVerticalInduced &  243\\\\\n",
              "\tpitchData.breaks.breakHorizontal &  243\\\\\n",
              "\tisBaseRunningPlay & 1951\\\\\n",
              "\tdetails.disengagementNum & 1904\\\\\n",
              "\tisSubstitution & 1908\\\\\n",
              "\treplacedPlayer.id & 1948\\\\\n",
              "\treplacedPlayer.link & 1948\\\\\n",
              "\tresult.isOut &    0\\\\\n",
              "\tabout.isTopInning &    0\\\\\n",
              "\tmatchup.postOnFirst.id & 1837\\\\\n",
              "\tmatchup.postOnFirst.fullName & 1837\\\\\n",
              "\tmatchup.postOnFirst.link & 1837\\\\\n",
              "\tmatchup.postOnSecond.id & 1903\\\\\n",
              "\tmatchup.postOnSecond.fullName & 1903\\\\\n",
              "\tmatchup.postOnSecond.link & 1903\\\\\n",
              "\tmatchup.postOnThird.id & 1930\\\\\n",
              "\tmatchup.postOnThird.fullName & 1930\\\\\n",
              "\tmatchup.postOnThird.link & 1930\\\\\n",
              "\treviewDetails.isOverturned & 1965\\\\\n",
              "\treviewDetails.inProgress & 1965\\\\\n",
              "\treviewDetails.reviewType & 1965\\\\\n",
              "\treviewDetails.challengeTeamId & 1965\\\\\n",
              "\tbase & 1965\\\\\n",
              "\tdetails.violation.type & 1969\\\\\n",
              "\tdetails.violation.description & 1969\\\\\n",
              "\tdetails.violation.player.id & 1969\\\\\n",
              "\tdetails.violation.player.fullName & 1969\\\\\n",
              "\\end{tabular}\n"
            ],
            "text/markdown": [
              "\n",
              "A data.frame: 160 x 1\n",
              "\n",
              "| <!--/--> | colSums.is.na.baseball.. &lt;dbl&gt; |\n",
              "|---|---|\n",
              "| game_pk |    0 |\n",
              "| game_date |    0 |\n",
              "| index |    0 |\n",
              "| startTime |    0 |\n",
              "| endTime |    0 |\n",
              "| isPitch |    0 |\n",
              "| type |    0 |\n",
              "| playId |  215 |\n",
              "| pitchNumber |  242 |\n",
              "| details.description |    0 |\n",
              "| details.event | 1755 |\n",
              "| details.awayScore | 1755 |\n",
              "| details.homeScore | 1755 |\n",
              "| details.isScoringPlay | 1755 |\n",
              "| details.hasReview |    0 |\n",
              "| details.code |  215 |\n",
              "| details.ballColor |  243 |\n",
              "| details.isInPlay |  242 |\n",
              "| details.isStrike |  242 |\n",
              "| details.isBall |  242 |\n",
              "| details.call.code |  242 |\n",
              "| details.call.description |  242 |\n",
              "| count.balls.start |    0 |\n",
              "| count.strikes.start |    0 |\n",
              "| count.outs.start |    0 |\n",
              "| player.id | 1790 |\n",
              "| player.link | 1790 |\n",
              "| pitchData.strikeZoneTop |  243 |\n",
              "| pitchData.strikeZoneBottom |  243 |\n",
              "| details.fromCatcher | 1943 |\n",
              "| ... | ... |\n",
              "| umpire.link | 1970 |\n",
              "| details.isOut |    0 |\n",
              "| pitchData.breaks.breakVertical |  243 |\n",
              "| pitchData.breaks.breakVerticalInduced |  243 |\n",
              "| pitchData.breaks.breakHorizontal |  243 |\n",
              "| isBaseRunningPlay | 1951 |\n",
              "| details.disengagementNum | 1904 |\n",
              "| isSubstitution | 1908 |\n",
              "| replacedPlayer.id | 1948 |\n",
              "| replacedPlayer.link | 1948 |\n",
              "| result.isOut |    0 |\n",
              "| about.isTopInning |    0 |\n",
              "| matchup.postOnFirst.id | 1837 |\n",
              "| matchup.postOnFirst.fullName | 1837 |\n",
              "| matchup.postOnFirst.link | 1837 |\n",
              "| matchup.postOnSecond.id | 1903 |\n",
              "| matchup.postOnSecond.fullName | 1903 |\n",
              "| matchup.postOnSecond.link | 1903 |\n",
              "| matchup.postOnThird.id | 1930 |\n",
              "| matchup.postOnThird.fullName | 1930 |\n",
              "| matchup.postOnThird.link | 1930 |\n",
              "| reviewDetails.isOverturned | 1965 |\n",
              "| reviewDetails.inProgress | 1965 |\n",
              "| reviewDetails.reviewType | 1965 |\n",
              "| reviewDetails.challengeTeamId | 1965 |\n",
              "| base | 1965 |\n",
              "| details.violation.type | 1969 |\n",
              "| details.violation.description | 1969 |\n",
              "| details.violation.player.id | 1969 |\n",
              "| details.violation.player.fullName | 1969 |\n",
              "\n"
            ],
            "text/plain": [
              "                                      colSums.is.na.baseball..\n",
              "game_pk                                  0                    \n",
              "game_date                                0                    \n",
              "index                                    0                    \n",
              "startTime                                0                    \n",
              "endTime                                  0                    \n",
              "isPitch                                  0                    \n",
              "type                                     0                    \n",
              "playId                                 215                    \n",
              "pitchNumber                            242                    \n",
              "details.description                      0                    \n",
              "details.event                         1755                    \n",
              "details.awayScore                     1755                    \n",
              "details.homeScore                     1755                    \n",
              "details.isScoringPlay                 1755                    \n",
              "details.hasReview                        0                    \n",
              "details.code                           215                    \n",
              "details.ballColor                      243                    \n",
              "details.isInPlay                       242                    \n",
              "details.isStrike                       242                    \n",
              "details.isBall                         242                    \n",
              "details.call.code                      242                    \n",
              "details.call.description               242                    \n",
              "count.balls.start                        0                    \n",
              "count.strikes.start                      0                    \n",
              "count.outs.start                         0                    \n",
              "player.id                             1790                    \n",
              "player.link                           1790                    \n",
              "pitchData.strikeZoneTop                243                    \n",
              "pitchData.strikeZoneBottom             243                    \n",
              "details.fromCatcher                   1943                    \n",
              "...                                   ...                     \n",
              "umpire.link                           1970                    \n",
              "details.isOut                            0                    \n",
              "pitchData.breaks.breakVertical         243                    \n",
              "pitchData.breaks.breakVerticalInduced  243                    \n",
              "pitchData.breaks.breakHorizontal       243                    \n",
              "isBaseRunningPlay                     1951                    \n",
              "details.disengagementNum              1904                    \n",
              "isSubstitution                        1908                    \n",
              "replacedPlayer.id                     1948                    \n",
              "replacedPlayer.link                   1948                    \n",
              "result.isOut                             0                    \n",
              "about.isTopInning                        0                    \n",
              "matchup.postOnFirst.id                1837                    \n",
              "matchup.postOnFirst.fullName          1837                    \n",
              "matchup.postOnFirst.link              1837                    \n",
              "matchup.postOnSecond.id               1903                    \n",
              "matchup.postOnSecond.fullName         1903                    \n",
              "matchup.postOnSecond.link             1903                    \n",
              "matchup.postOnThird.id                1930                    \n",
              "matchup.postOnThird.fullName          1930                    \n",
              "matchup.postOnThird.link              1930                    \n",
              "reviewDetails.isOverturned            1965                    \n",
              "reviewDetails.inProgress              1965                    \n",
              "reviewDetails.reviewType              1965                    \n",
              "reviewDetails.challengeTeamId         1965                    \n",
              "base                                  1965                    \n",
              "details.violation.type                1969                    \n",
              "details.violation.description         1969                    \n",
              "details.violation.player.id           1969                    \n",
              "details.violation.player.fullName     1969                    "
            ]
          },
          "metadata": {},
          "output_type": "display_data"
        }
      ],
      "source": [
        "# missing data?\n",
        "data.frame(colSums(is.na(baseball)))"
      ]
    },
    {
      "cell_type": "markdown",
      "metadata": {},
      "source": [
        "Upon examination of the data, it seems insufficient for analyzing the hot hand phenomenon for this study. The preceding individual player data appears to be more appropriate for a comprehensive analysis of this topic, as it includes relevant metrics such as hard-hit percentage."
      ]
    },
    {
      "cell_type": "markdown",
      "metadata": {},
      "source": [
        "# Extra Joke\n",
        "\n",
        "What did the broom say to the vacuum?\n",
        "\n",
        "“I’m so tired of people pushing us around.”\n",
        "<br></br>\n",
        "![Figure 1](./images/broom-water-buckets.png)"
      ]
    }
  ],
  "metadata": {
    "kernelspec": {
      "display_name": "R",
      "language": "R",
      "name": "ir"
    },
    "language_info": {
      "codemirror_mode": "r",
      "file_extension": ".r",
      "mimetype": "text/x-r-source",
      "name": "R",
      "pygments_lexer": "r",
      "version": "4.3.1"
    }
  },
  "nbformat": 4,
  "nbformat_minor": 4
}
